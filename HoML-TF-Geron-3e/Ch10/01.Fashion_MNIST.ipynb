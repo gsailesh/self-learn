{
 "cells": [
  {
   "cell_type": "code",
   "execution_count": 1,
   "metadata": {},
   "outputs": [],
   "source": [
    "import tensorflow as tf"
   ]
  },
  {
   "cell_type": "code",
   "execution_count": 2,
   "metadata": {},
   "outputs": [],
   "source": [
    "fmnist = tf.keras.datasets.fashion_mnist.load_data()"
   ]
  },
  {
   "cell_type": "code",
   "execution_count": 3,
   "metadata": {},
   "outputs": [],
   "source": [
    "(X, y), (X_test, y_test) = fmnist"
   ]
  },
  {
   "cell_type": "code",
   "execution_count": 4,
   "metadata": {},
   "outputs": [],
   "source": [
    "X_train, y_train = X[:-5000], y[:-5000]\n",
    "X_val, y_val = X[-5000:], y[-5000:]"
   ]
  },
  {
   "cell_type": "code",
   "execution_count": 5,
   "metadata": {},
   "outputs": [],
   "source": [
    "X_train = X_train / 255.\n",
    "X_val = X_val / 255.\n",
    "X_test = X_test / 255."
   ]
  },
  {
   "cell_type": "code",
   "execution_count": 6,
   "metadata": {},
   "outputs": [
    {
     "data": {
      "text/plain": [
       "((55000, 28, 28), (5000, 28, 28), (10000, 28, 28))"
      ]
     },
     "execution_count": 6,
     "metadata": {},
     "output_type": "execute_result"
    }
   ],
   "source": [
    "X_train.shape, X_val.shape, X_test.shape"
   ]
  },
  {
   "cell_type": "code",
   "execution_count": 7,
   "metadata": {},
   "outputs": [],
   "source": [
    "INPUT_DIM = (28, 28)"
   ]
  },
  {
   "cell_type": "code",
   "execution_count": 8,
   "metadata": {},
   "outputs": [
    {
     "name": "stderr",
     "output_type": "stream",
     "text": [
      "2024-01-27 15:44:28.611125: I metal_plugin/src/device/metal_device.cc:1154] Metal device set to: Apple M1 Pro\n",
      "2024-01-27 15:44:28.611156: I metal_plugin/src/device/metal_device.cc:296] systemMemory: 16.00 GB\n",
      "2024-01-27 15:44:28.611163: I metal_plugin/src/device/metal_device.cc:313] maxCacheSize: 5.33 GB\n",
      "2024-01-27 15:44:28.611203: I tensorflow/core/common_runtime/pluggable_device/pluggable_device_factory.cc:306] Could not identify NUMA node of platform GPU ID 0, defaulting to 0. Your kernel may not have been built with NUMA support.\n",
      "2024-01-27 15:44:28.611221: I tensorflow/core/common_runtime/pluggable_device/pluggable_device_factory.cc:272] Created TensorFlow device (/job:localhost/replica:0/task:0/device:GPU:0 with 0 MB memory) -> physical PluggableDevice (device: 0, name: METAL, pci bus id: <undefined>)\n"
     ]
    }
   ],
   "source": [
    "tf.random.set_seed(42)\n",
    "\n",
    "model = tf.keras.Sequential()\n",
    "\n",
    "model.add(tf.keras.layers.Input(shape=INPUT_DIM))\n",
    "model.add(tf.keras.layers.Flatten())\n",
    "model.add(tf.keras.layers.Dense(300, activation=\"relu\"))\n",
    "model.add(tf.keras.layers.Dense(100, activation=\"relu\"))\n",
    "model.add(tf.keras.layers.Dense(10, activation=\"softmax\"))"
   ]
  },
  {
   "cell_type": "code",
   "execution_count": 9,
   "metadata": {},
   "outputs": [
    {
     "name": "stdout",
     "output_type": "stream",
     "text": [
      "Model: \"sequential\"\n",
      "_________________________________________________________________\n",
      " Layer (type)                Output Shape              Param #   \n",
      "=================================================================\n",
      " flatten (Flatten)           (None, 784)               0         \n",
      "                                                                 \n",
      " dense (Dense)               (None, 300)               235500    \n",
      "                                                                 \n",
      " dense_1 (Dense)             (None, 100)               30100     \n",
      "                                                                 \n",
      " dense_2 (Dense)             (None, 10)                1010      \n",
      "                                                                 \n",
      "=================================================================\n",
      "Total params: 266610 (1.02 MB)\n",
      "Trainable params: 266610 (1.02 MB)\n",
      "Non-trainable params: 0 (0.00 Byte)\n",
      "_________________________________________________________________\n"
     ]
    }
   ],
   "source": [
    "model.summary()"
   ]
  },
  {
   "cell_type": "code",
   "execution_count": 10,
   "metadata": {},
   "outputs": [],
   "source": [
    "model.compile(\n",
    "    loss=\"sparse_categorical_crossentropy\",\n",
    "    optimizer=\"rmsprop\",\n",
    "    metrics=[\"accuracy\"]\n",
    ")"
   ]
  },
  {
   "cell_type": "code",
   "execution_count": 11,
   "metadata": {},
   "outputs": [
    {
     "name": "stdout",
     "output_type": "stream",
     "text": [
      "Epoch 1/30\n"
     ]
    },
    {
     "name": "stderr",
     "output_type": "stream",
     "text": [
      "2024-01-27 15:44:29.301449: I tensorflow/core/grappler/optimizers/custom_graph_optimizer_registry.cc:117] Plugin optimizer for device_type GPU is enabled.\n"
     ]
    },
    {
     "name": "stdout",
     "output_type": "stream",
     "text": [
      "1719/1719 [==============================] - 24s 14ms/step - loss: 0.7548 - accuracy: 0.7635 - val_loss: 0.7416 - val_accuracy: 0.7796\n",
      "Epoch 2/30\n",
      "1719/1719 [==============================] - 24s 14ms/step - loss: 1.2369 - accuracy: 0.7582 - val_loss: 1.6964 - val_accuracy: 0.7324\n",
      "Epoch 3/30\n",
      "1719/1719 [==============================] - 27s 16ms/step - loss: 2.5391 - accuracy: 0.7434 - val_loss: 2.1272 - val_accuracy: 0.7814\n",
      "Epoch 4/30\n",
      "1719/1719 [==============================] - 26s 15ms/step - loss: 4.6965 - accuracy: 0.7310 - val_loss: 4.9809 - val_accuracy: 0.7638\n",
      "Epoch 5/30\n",
      "1719/1719 [==============================] - 23s 13ms/step - loss: 7.6028 - accuracy: 0.7259 - val_loss: 9.3319 - val_accuracy: 0.7348\n",
      "Epoch 6/30\n",
      "1719/1719 [==============================] - 24s 14ms/step - loss: 11.3049 - accuracy: 0.7288 - val_loss: 14.3721 - val_accuracy: 0.6958\n",
      "Epoch 7/30\n",
      "1719/1719 [==============================] - 25s 15ms/step - loss: 15.4287 - accuracy: 0.7294 - val_loss: 14.7565 - val_accuracy: 0.7650\n",
      "Epoch 8/30\n",
      "1719/1719 [==============================] - 25s 14ms/step - loss: 20.6369 - accuracy: 0.7277 - val_loss: 24.1901 - val_accuracy: 0.7534\n",
      "Epoch 9/30\n",
      "1719/1719 [==============================] - 20s 12ms/step - loss: 26.3565 - accuracy: 0.7318 - val_loss: 41.7361 - val_accuracy: 0.6980\n",
      "Epoch 10/30\n",
      "1719/1719 [==============================] - 19s 11ms/step - loss: 32.4618 - accuracy: 0.7311 - val_loss: 43.5576 - val_accuracy: 0.6910\n",
      "Epoch 11/30\n",
      "1719/1719 [==============================] - 19s 11ms/step - loss: 39.1519 - accuracy: 0.7326 - val_loss: 88.6529 - val_accuracy: 0.5912\n",
      "Epoch 12/30\n",
      "1719/1719 [==============================] - 19s 11ms/step - loss: 45.8907 - accuracy: 0.7325 - val_loss: 53.9780 - val_accuracy: 0.7306\n",
      "Epoch 13/30\n",
      "1719/1719 [==============================] - 19s 11ms/step - loss: 53.9541 - accuracy: 0.7359 - val_loss: 85.8285 - val_accuracy: 0.6724\n",
      "Epoch 14/30\n",
      "1719/1719 [==============================] - 20s 11ms/step - loss: 63.3510 - accuracy: 0.7333 - val_loss: 79.4175 - val_accuracy: 0.7148\n",
      "Epoch 15/30\n",
      "1719/1719 [==============================] - 20s 12ms/step - loss: 72.9642 - accuracy: 0.7330 - val_loss: 109.5366 - val_accuracy: 0.7442\n",
      "Epoch 16/30\n",
      "1719/1719 [==============================] - 19s 11ms/step - loss: 81.6705 - accuracy: 0.7365 - val_loss: 90.6354 - val_accuracy: 0.7254\n",
      "Epoch 17/30\n",
      "1719/1719 [==============================] - 19s 11ms/step - loss: 92.8681 - accuracy: 0.7356 - val_loss: 173.6290 - val_accuracy: 0.7168\n",
      "Epoch 18/30\n",
      "1719/1719 [==============================] - 19s 11ms/step - loss: 104.9065 - accuracy: 0.7374 - val_loss: 157.5165 - val_accuracy: 0.6652\n",
      "Epoch 19/30\n",
      "1719/1719 [==============================] - 18s 11ms/step - loss: 115.9222 - accuracy: 0.7370 - val_loss: 149.0985 - val_accuracy: 0.6776\n",
      "Epoch 20/30\n",
      "1719/1719 [==============================] - 19s 11ms/step - loss: 127.5262 - accuracy: 0.7363 - val_loss: 119.3594 - val_accuracy: 0.7144\n",
      "Epoch 21/30\n",
      "1719/1719 [==============================] - 19s 11ms/step - loss: 141.3492 - accuracy: 0.7393 - val_loss: 131.0248 - val_accuracy: 0.7188\n",
      "Epoch 22/30\n",
      "1719/1719 [==============================] - 19s 11ms/step - loss: 156.4625 - accuracy: 0.7374 - val_loss: 181.9364 - val_accuracy: 0.6998\n",
      "Epoch 23/30\n",
      "1719/1719 [==============================] - 19s 11ms/step - loss: 172.2256 - accuracy: 0.7379 - val_loss: 194.0688 - val_accuracy: 0.7142\n",
      "Epoch 24/30\n",
      "1719/1719 [==============================] - 19s 11ms/step - loss: 184.4797 - accuracy: 0.7381 - val_loss: 191.0693 - val_accuracy: 0.7718\n",
      "Epoch 25/30\n",
      "1719/1719 [==============================] - 19s 11ms/step - loss: 200.1299 - accuracy: 0.7387 - val_loss: 130.4846 - val_accuracy: 0.7812\n",
      "Epoch 26/30\n",
      "1719/1719 [==============================] - 19s 11ms/step - loss: 214.3793 - accuracy: 0.7392 - val_loss: 180.7129 - val_accuracy: 0.7552\n",
      "Epoch 27/30\n",
      "1719/1719 [==============================] - 19s 11ms/step - loss: 231.5815 - accuracy: 0.7404 - val_loss: 228.7988 - val_accuracy: 0.7146\n",
      "Epoch 28/30\n",
      "1719/1719 [==============================] - 19s 11ms/step - loss: 252.7207 - accuracy: 0.7397 - val_loss: 299.3961 - val_accuracy: 0.7374\n",
      "Epoch 29/30\n",
      "1719/1719 [==============================] - 19s 11ms/step - loss: 265.9180 - accuracy: 0.7427 - val_loss: 256.2326 - val_accuracy: 0.7288\n",
      "Epoch 30/30\n",
      "1719/1719 [==============================] - 19s 11ms/step - loss: 284.4368 - accuracy: 0.7409 - val_loss: 277.8989 - val_accuracy: 0.7286\n"
     ]
    }
   ],
   "source": [
    "hist = model.fit(X_train, y_train, epochs=30, validation_data=(X_val, y_val), batch_size=32)"
   ]
  },
  {
   "cell_type": "code",
   "execution_count": 12,
   "metadata": {},
   "outputs": [
    {
     "name": "stdout",
     "output_type": "stream",
     "text": [
      "1/1 [==============================] - 0s 76ms/step\n"
     ]
    },
    {
     "data": {
      "text/plain": [
       "array([[0.0000000e+00, 0.0000000e+00, 0.0000000e+00, 0.0000000e+00,\n",
       "        0.0000000e+00, 0.0000000e+00, 0.0000000e+00, 6.1822414e-17,\n",
       "        0.0000000e+00, 1.0000000e+00]], dtype=float32)"
      ]
     },
     "execution_count": 12,
     "metadata": {},
     "output_type": "execute_result"
    }
   ],
   "source": [
    "model.predict(X_test[:1])"
   ]
  },
  {
   "cell_type": "code",
   "execution_count": 13,
   "metadata": {},
   "outputs": [
    {
     "name": "stdout",
     "output_type": "stream",
     "text": [
      "313/313 [==============================] - 2s 6ms/step - loss: 280.1451 - accuracy: 0.7190\n"
     ]
    },
    {
     "data": {
      "text/plain": [
       "[280.1451110839844, 0.718999981880188]"
      ]
     },
     "execution_count": 13,
     "metadata": {},
     "output_type": "execute_result"
    }
   ],
   "source": [
    "model.evaluate(X_test, y_test)"
   ]
  },
  {
   "cell_type": "code",
   "execution_count": 14,
   "metadata": {},
   "outputs": [
    {
     "data": {
      "image/png": "[encoded data removed]",
      "text/plain": [
       "<Figure size 800x500 with 1 Axes>"
      ]
     },
     "metadata": {},
     "output_type": "display_data"
    }
   ],
   "source": [
    "import matplotlib.pyplot as plt\n",
    "import pandas as pd\n",
    "\n",
    "pd.DataFrame(hist.history).plot(\n",
    "    figsize=(8, 5), xlim=(0, 22), ylim=(0, 1), grid=True, xlabel=\"Epoch\", style=[\"r--\", \"r--.\", \"b-\", \"b-*\"]\n",
    ")\n",
    "plt.show()"
   ]
  },
  {
   "cell_type": "code",
   "execution_count": null,
   "metadata": {},
   "outputs": [],
   "source": []
  }
 ],
 "metadata": {
  "kernelspec": {
   "display_name": "Python 3 (ipykernel)",
   "language": "python",
   "name": "python3"
  },
  "language_info": {
   "codemirror_mode": {
    "name": "ipython",
    "version": 3
   },
   "file_extension": ".py",
   "mimetype": "text/x-python",
   "name": "python",
   "nbconvert_exporter": "python",
   "pygments_lexer": "ipython3",
   "version": "3.11.7"
  }
 },
 "nbformat": 4,
 "nbformat_minor": 4
}
