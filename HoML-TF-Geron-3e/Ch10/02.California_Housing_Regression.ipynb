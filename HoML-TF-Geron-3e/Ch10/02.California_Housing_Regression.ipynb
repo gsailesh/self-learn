{
 "cells": [
  {
   "cell_type": "code",
   "execution_count": 2,
   "metadata": {},
   "outputs": [],
   "source": [
    "from sklearn.datasets import fetch_california_housing\n",
    "from sklearn.model_selection import train_test_split\n",
    "import tensorflow as tf"
   ]
  },
  {
   "cell_type": "code",
   "execution_count": 3,
   "metadata": {},
   "outputs": [],
   "source": [
    "tf.random.set_seed(42)"
   ]
  },
  {
   "cell_type": "code",
   "execution_count": 4,
   "metadata": {},
   "outputs": [],
   "source": [
    "X, y = fetch_california_housing(return_X_y=True)"
   ]
  },
  {
   "cell_type": "code",
   "execution_count": 5,
   "metadata": {},
   "outputs": [],
   "source": [
    "X_train, X_test, y_train, y_test = train_test_split(X, y, test_size=0.2, random_state=42)"
   ]
  },
  {
   "cell_type": "code",
   "execution_count": 7,
   "metadata": {},
   "outputs": [],
   "source": [
    "normalize_layer = tf.keras.layers.Normalization(input_shape=X_train.shape[1:]) # alt for flatten; behaves like a standard scaler."
   ]
  },
  {
   "cell_type": "code",
   "execution_count": 8,
   "metadata": {},
   "outputs": [
    {
     "name": "stderr",
     "output_type": "stream",
     "text": [
      "2024-01-27 22:42:07.750442: I metal_plugin/src/device/metal_device.cc:1154] Metal device set to: Apple M1 Pro\n",
      "2024-01-27 22:42:07.750475: I metal_plugin/src/device/metal_device.cc:296] systemMemory: 16.00 GB\n",
      "2024-01-27 22:42:07.750485: I metal_plugin/src/device/metal_device.cc:313] maxCacheSize: 5.33 GB\n",
      "2024-01-27 22:42:07.752097: I tensorflow/core/common_runtime/pluggable_device/pluggable_device_factory.cc:306] Could not identify NUMA node of platform GPU ID 0, defaulting to 0. Your kernel may not have been built with NUMA support.\n",
      "2024-01-27 22:42:07.755437: I tensorflow/core/common_runtime/pluggable_device/pluggable_device_factory.cc:272] Created TensorFlow device (/job:localhost/replica:0/task:0/device:GPU:0 with 0 MB memory) -> physical PluggableDevice (device: 0, name: METAL, pci bus id: <undefined>)\n"
     ]
    }
   ],
   "source": [
    "model = tf.keras.Sequential([\n",
    "    normalize_layer,\n",
    "    tf.keras.layers.Dense(50, activation=\"relu\"),\n",
    "    tf.keras.layers.Dense(50, activation=\"relu\"),\n",
    "    tf.keras.layers.Dense(50, activation=\"relu\"),\n",
    "    tf.keras.layers.Dense(1),\n",
    "])"
   ]
  },
  {
   "cell_type": "code",
   "execution_count": 9,
   "metadata": {},
   "outputs": [],
   "source": [
    "model.compile(loss=\"mse\", optimizer=\"adam\", metrics=[\"RootMeanSquaredError\"])"
   ]
  },
  {
   "cell_type": "code",
   "execution_count": 10,
   "metadata": {},
   "outputs": [
    {
     "name": "stderr",
     "output_type": "stream",
     "text": [
      "2024-01-27 22:43:58.526635: I tensorflow/core/grappler/optimizers/custom_graph_optimizer_registry.cc:117] Plugin optimizer for device_type GPU is enabled.\n"
     ]
    }
   ],
   "source": [
    "normalize_layer.adapt(X_train) # adapt to mean and sd of training data; to replicate standard scaler."
   ]
  },
  {
   "cell_type": "code",
   "execution_count": 11,
   "metadata": {},
   "outputs": [
    {
     "name": "stdout",
     "output_type": "stream",
     "text": [
      "Epoch 1/30\n",
      "516/516 [==============================] - 7s 10ms/step - loss: 1.2082 - root_mean_squared_error: 1.0992 - val_loss: 0.5809 - val_root_mean_squared_error: 0.7622\n",
      "Epoch 2/30\n",
      "516/516 [==============================] - 6s 12ms/step - loss: 1.5802 - root_mean_squared_error: 1.2571 - val_loss: 0.6991 - val_root_mean_squared_error: 0.8361\n",
      "Epoch 3/30\n",
      "516/516 [==============================] - 5s 10ms/step - loss: 3.6809 - root_mean_squared_error: 1.9186 - val_loss: 0.5730 - val_root_mean_squared_error: 0.7570\n",
      "Epoch 4/30\n",
      "516/516 [==============================] - 6s 12ms/step - loss: 4.5610 - root_mean_squared_error: 2.1357 - val_loss: 0.5669 - val_root_mean_squared_error: 0.7529\n",
      "Epoch 5/30\n",
      "516/516 [==============================] - 7s 13ms/step - loss: 1.3008 - root_mean_squared_error: 1.1405 - val_loss: 0.6258 - val_root_mean_squared_error: 0.7911\n",
      "Epoch 6/30\n",
      "516/516 [==============================] - 5s 10ms/step - loss: 36.6988 - root_mean_squared_error: 6.0580 - val_loss: 0.8164 - val_root_mean_squared_error: 0.9036\n",
      "Epoch 7/30\n",
      "516/516 [==============================] - 5s 10ms/step - loss: 5.3529 - root_mean_squared_error: 2.3136 - val_loss: 0.6559 - val_root_mean_squared_error: 0.8099\n",
      "Epoch 8/30\n",
      "516/516 [==============================] - 5s 10ms/step - loss: 11.5892 - root_mean_squared_error: 3.4043 - val_loss: 0.6928 - val_root_mean_squared_error: 0.8324\n",
      "Epoch 9/30\n",
      "516/516 [==============================] - 7s 13ms/step - loss: 2.3900 - root_mean_squared_error: 1.5460 - val_loss: 0.5611 - val_root_mean_squared_error: 0.7491\n",
      "Epoch 10/30\n",
      "516/516 [==============================] - 5s 10ms/step - loss: 2.7371 - root_mean_squared_error: 1.6544 - val_loss: 0.5899 - val_root_mean_squared_error: 0.7680\n",
      "Epoch 11/30\n",
      "516/516 [==============================] - 5s 10ms/step - loss: 2.7401 - root_mean_squared_error: 1.6553 - val_loss: 0.6228 - val_root_mean_squared_error: 0.7892\n",
      "Epoch 12/30\n",
      "516/516 [==============================] - 5s 10ms/step - loss: 59.6867 - root_mean_squared_error: 7.7257 - val_loss: 592.8270 - val_root_mean_squared_error: 24.3480\n",
      "Epoch 13/30\n",
      "516/516 [==============================] - 5s 10ms/step - loss: 162.2362 - root_mean_squared_error: 12.7372 - val_loss: 3.6141 - val_root_mean_squared_error: 1.9011\n",
      "Epoch 14/30\n",
      "516/516 [==============================] - 5s 10ms/step - loss: 162.0544 - root_mean_squared_error: 12.7301 - val_loss: 2.2789 - val_root_mean_squared_error: 1.5096\n",
      "Epoch 15/30\n",
      "516/516 [==============================] - 5s 10ms/step - loss: 10.0239 - root_mean_squared_error: 3.1661 - val_loss: 0.8940 - val_root_mean_squared_error: 0.9455\n",
      "Epoch 16/30\n",
      "516/516 [==============================] - 5s 9ms/step - loss: 210.7200 - root_mean_squared_error: 14.5162 - val_loss: 3.8636 - val_root_mean_squared_error: 1.9656\n",
      "Epoch 17/30\n",
      "516/516 [==============================] - 5s 9ms/step - loss: 46.0611 - root_mean_squared_error: 6.7868 - val_loss: 0.6776 - val_root_mean_squared_error: 0.8232\n",
      "Epoch 18/30\n",
      "516/516 [==============================] - 5s 10ms/step - loss: 1.9552 - root_mean_squared_error: 1.3983 - val_loss: 0.7438 - val_root_mean_squared_error: 0.8625\n",
      "Epoch 19/30\n",
      "516/516 [==============================] - 6s 11ms/step - loss: 2.0891 - root_mean_squared_error: 1.4454 - val_loss: 0.6923 - val_root_mean_squared_error: 0.8320\n",
      "Epoch 20/30\n",
      "516/516 [==============================] - 7s 14ms/step - loss: 5.5490 - root_mean_squared_error: 2.3556 - val_loss: 1.8871 - val_root_mean_squared_error: 1.3737\n",
      "Epoch 21/30\n",
      "516/516 [==============================] - 5s 11ms/step - loss: 30.1793 - root_mean_squared_error: 5.4936 - val_loss: 0.8488 - val_root_mean_squared_error: 0.9213\n",
      "Epoch 22/30\n",
      "516/516 [==============================] - 7s 14ms/step - loss: 71.2016 - root_mean_squared_error: 8.4381 - val_loss: 0.8321 - val_root_mean_squared_error: 0.9122\n",
      "Epoch 23/30\n",
      "516/516 [==============================] - 5s 11ms/step - loss: 0.8240 - root_mean_squared_error: 0.9078 - val_loss: 4.0236 - val_root_mean_squared_error: 2.0059\n",
      "Epoch 24/30\n",
      "516/516 [==============================] - 5s 10ms/step - loss: 1148.0646 - root_mean_squared_error: 33.8831 - val_loss: 6.3968 - val_root_mean_squared_error: 2.5292\n",
      "Epoch 25/30\n",
      "516/516 [==============================] - 5s 10ms/step - loss: 29.0990 - root_mean_squared_error: 5.3944 - val_loss: 0.8578 - val_root_mean_squared_error: 0.9262\n",
      "Epoch 26/30\n",
      "516/516 [==============================] - 5s 10ms/step - loss: 9.3771 - root_mean_squared_error: 3.0622 - val_loss: 0.5782 - val_root_mean_squared_error: 0.7604\n",
      "Epoch 27/30\n",
      "516/516 [==============================] - 5s 10ms/step - loss: 1.5478 - root_mean_squared_error: 1.2441 - val_loss: 0.5687 - val_root_mean_squared_error: 0.7541\n",
      "Epoch 28/30\n",
      "516/516 [==============================] - 5s 11ms/step - loss: 1.8901 - root_mean_squared_error: 1.3748 - val_loss: 0.6059 - val_root_mean_squared_error: 0.7784\n",
      "Epoch 29/30\n",
      "516/516 [==============================] - 5s 10ms/step - loss: 7.3545 - root_mean_squared_error: 2.7119 - val_loss: 2.6856 - val_root_mean_squared_error: 1.6388\n",
      "Epoch 30/30\n",
      "516/516 [==============================] - 5s 10ms/step - loss: 6.2635 - root_mean_squared_error: 2.5027 - val_loss: 0.7893 - val_root_mean_squared_error: 0.8884\n"
     ]
    }
   ],
   "source": [
    "hist = model.fit(X_train, y_train, epochs=30, validation_data=(X_test, y_test))"
   ]
  },
  {
   "cell_type": "markdown",
   "metadata": {},
   "source": [
    "#### Wide and Deep model\n",
    "*Using functional API - branching*"
   ]
  },
  {
   "cell_type": "code",
   "execution_count": 6,
   "metadata": {},
   "outputs": [],
   "source": [
    "norm_layer = tf.keras.layers.Normalization()\n",
    "hlayer_1 = tf.keras.layers.Dense(30, activation=\"relu\")\n",
    "hlayer_3 = tf.keras.layers.Dense(30, activation=\"relu\")\n",
    "concat_layer = tf.keras.layers.Concatenate()\n",
    "output_layer = tf.keras.layers.Dense(1)"
   ]
  },
  {
   "cell_type": "code",
   "execution_count": 7,
   "metadata": {},
   "outputs": [
    {
     "name": "stderr",
     "output_type": "stream",
     "text": [
      "2024-01-28 09:29:15.310010: I metal_plugin/src/device/metal_device.cc:1154] Metal device set to: Apple M1 Pro\n",
      "2024-01-28 09:29:15.310034: I metal_plugin/src/device/metal_device.cc:296] systemMemory: 16.00 GB\n",
      "2024-01-28 09:29:15.310040: I metal_plugin/src/device/metal_device.cc:313] maxCacheSize: 5.33 GB\n",
      "2024-01-28 09:29:15.310104: I tensorflow/core/common_runtime/pluggable_device/pluggable_device_factory.cc:306] Could not identify NUMA node of platform GPU ID 0, defaulting to 0. Your kernel may not have been built with NUMA support.\n",
      "2024-01-28 09:29:15.310317: I tensorflow/core/common_runtime/pluggable_device/pluggable_device_factory.cc:272] Created TensorFlow device (/job:localhost/replica:0/task:0/device:GPU:0 with 0 MB memory) -> physical PluggableDevice (device: 0, name: METAL, pci bus id: <undefined>)\n"
     ]
    }
   ],
   "source": [
    "input_ = tf.keras.layers.Input(shape=X_train.shape[1:])\n",
    "normalized = norm_layer(input_)\n",
    "hidden1 = hlayer_1(normalized)\n",
    "hidden2 = hlayer_3(hidden1)\n",
    "concat = concat_layer([hidden2, normalized])\n",
    "output = output_layer(concat)"
   ]
  },
  {
   "cell_type": "code",
   "execution_count": 8,
   "metadata": {},
   "outputs": [],
   "source": [
    "model_wide = tf.keras.Model(inputs=[input_], outputs=[output])"
   ]
  },
  {
   "cell_type": "code",
   "execution_count": 11,
   "metadata": {},
   "outputs": [],
   "source": [
    "model_wide.compile(loss=\"mse\", optimizer=\"adam\", metrics=[\"RootMeanSquaredError\"])"
   ]
  },
  {
   "cell_type": "code",
   "execution_count": 12,
   "metadata": {},
   "outputs": [
    {
     "name": "stdout",
     "output_type": "stream",
     "text": [
      "Epoch 1/30\n",
      "516/516 [==============================] - 4s 7ms/step - loss: 1.6370 - root_mean_squared_error: 1.2794 - val_loss: 0.5803 - val_root_mean_squared_error: 0.7618\n",
      "Epoch 2/30\n",
      "516/516 [==============================] - 3s 7ms/step - loss: 0.6790 - root_mean_squared_error: 0.8240 - val_loss: 0.6242 - val_root_mean_squared_error: 0.7901\n",
      "Epoch 3/30\n",
      "516/516 [==============================] - 3s 6ms/step - loss: 0.6087 - root_mean_squared_error: 0.7802 - val_loss: 0.5632 - val_root_mean_squared_error: 0.7505\n",
      "Epoch 4/30\n",
      "516/516 [==============================] - 3s 6ms/step - loss: 0.8583 - root_mean_squared_error: 0.9265 - val_loss: 0.5607 - val_root_mean_squared_error: 0.7488\n",
      "Epoch 5/30\n",
      "516/516 [==============================] - 3s 6ms/step - loss: 0.6026 - root_mean_squared_error: 0.7763 - val_loss: 0.6233 - val_root_mean_squared_error: 0.7895\n",
      "Epoch 6/30\n",
      "516/516 [==============================] - 3s 6ms/step - loss: 1.3424 - root_mean_squared_error: 1.1586 - val_loss: 0.5624 - val_root_mean_squared_error: 0.7499\n",
      "Epoch 7/30\n",
      "516/516 [==============================] - 3s 6ms/step - loss: 0.7001 - root_mean_squared_error: 0.8367 - val_loss: 0.5873 - val_root_mean_squared_error: 0.7664\n",
      "Epoch 8/30\n",
      "516/516 [==============================] - 3s 6ms/step - loss: 1.3033 - root_mean_squared_error: 1.1416 - val_loss: 0.6002 - val_root_mean_squared_error: 0.7747\n",
      "Epoch 9/30\n",
      "516/516 [==============================] - 3s 6ms/step - loss: 2.0090 - root_mean_squared_error: 1.4174 - val_loss: 0.7052 - val_root_mean_squared_error: 0.8398\n",
      "Epoch 10/30\n",
      "516/516 [==============================] - 3s 6ms/step - loss: 4.0593 - root_mean_squared_error: 2.0148 - val_loss: 0.5604 - val_root_mean_squared_error: 0.7486\n",
      "Epoch 11/30\n",
      "516/516 [==============================] - 3s 6ms/step - loss: 2.9740 - root_mean_squared_error: 1.7245 - val_loss: 0.6540 - val_root_mean_squared_error: 0.8087\n",
      "Epoch 12/30\n",
      "516/516 [==============================] - 3s 6ms/step - loss: 1.0581 - root_mean_squared_error: 1.0287 - val_loss: 0.5819 - val_root_mean_squared_error: 0.7628\n",
      "Epoch 13/30\n",
      "516/516 [==============================] - 3s 6ms/step - loss: 2.0468 - root_mean_squared_error: 1.4307 - val_loss: 0.5886 - val_root_mean_squared_error: 0.7672\n",
      "Epoch 14/30\n",
      "516/516 [==============================] - 3s 6ms/step - loss: 8.0674 - root_mean_squared_error: 2.8403 - val_loss: 0.8171 - val_root_mean_squared_error: 0.9040\n",
      "Epoch 15/30\n",
      "516/516 [==============================] - 3s 6ms/step - loss: 2.1695 - root_mean_squared_error: 1.4729 - val_loss: 0.5693 - val_root_mean_squared_error: 0.7545\n",
      "Epoch 16/30\n",
      "516/516 [==============================] - 3s 6ms/step - loss: 7.4820 - root_mean_squared_error: 2.7353 - val_loss: 0.6127 - val_root_mean_squared_error: 0.7828\n",
      "Epoch 17/30\n",
      "516/516 [==============================] - 3s 6ms/step - loss: 3.4286 - root_mean_squared_error: 1.8517 - val_loss: 0.7118 - val_root_mean_squared_error: 0.8437\n",
      "Epoch 18/30\n",
      "516/516 [==============================] - 3s 6ms/step - loss: 2.8562 - root_mean_squared_error: 1.6900 - val_loss: 1.1538 - val_root_mean_squared_error: 1.0742\n",
      "Epoch 19/30\n",
      "516/516 [==============================] - 3s 6ms/step - loss: 21.5887 - root_mean_squared_error: 4.6464 - val_loss: 2.2753 - val_root_mean_squared_error: 1.5084\n",
      "Epoch 20/30\n",
      "516/516 [==============================] - 3s 6ms/step - loss: 7.6918 - root_mean_squared_error: 2.7734 - val_loss: 1.3081 - val_root_mean_squared_error: 1.1437\n",
      "Epoch 21/30\n",
      "516/516 [==============================] - 3s 6ms/step - loss: 13.1181 - root_mean_squared_error: 3.6219 - val_loss: 0.7579 - val_root_mean_squared_error: 0.8706\n",
      "Epoch 22/30\n",
      "516/516 [==============================] - 3s 6ms/step - loss: 20.3170 - root_mean_squared_error: 4.5074 - val_loss: 0.5991 - val_root_mean_squared_error: 0.7740\n",
      "Epoch 23/30\n",
      "516/516 [==============================] - 3s 6ms/step - loss: 4.7097 - root_mean_squared_error: 2.1702 - val_loss: 0.6637 - val_root_mean_squared_error: 0.8147\n",
      "Epoch 24/30\n",
      "516/516 [==============================] - 3s 6ms/step - loss: 12.6648 - root_mean_squared_error: 3.5588 - val_loss: 0.9280 - val_root_mean_squared_error: 0.9633\n",
      "Epoch 25/30\n",
      "516/516 [==============================] - 3s 6ms/step - loss: 4.4615 - root_mean_squared_error: 2.1122 - val_loss: 0.7428 - val_root_mean_squared_error: 0.8619\n",
      "Epoch 26/30\n",
      "516/516 [==============================] - 3s 6ms/step - loss: 19.4629 - root_mean_squared_error: 4.4117 - val_loss: 0.6908 - val_root_mean_squared_error: 0.8312\n",
      "Epoch 27/30\n",
      "516/516 [==============================] - 3s 6ms/step - loss: 10.4167 - root_mean_squared_error: 3.2275 - val_loss: 0.8313 - val_root_mean_squared_error: 0.9118\n",
      "Epoch 28/30\n",
      "516/516 [==============================] - 3s 6ms/step - loss: 57.7989 - root_mean_squared_error: 7.6026 - val_loss: 2.0920 - val_root_mean_squared_error: 1.4464\n",
      "Epoch 29/30\n",
      "516/516 [==============================] - 4s 7ms/step - loss: 19.2497 - root_mean_squared_error: 4.3874 - val_loss: 0.6701 - val_root_mean_squared_error: 0.8186\n",
      "Epoch 30/30\n",
      "516/516 [==============================] - 3s 6ms/step - loss: 2.5485 - root_mean_squared_error: 1.5964 - val_loss: 0.7384 - val_root_mean_squared_error: 0.8593\n"
     ]
    },
    {
     "data": {
      "text/plain": [
       "<keras.src.callbacks.History at 0x17d4d4a50>"
      ]
     },
     "execution_count": 12,
     "metadata": {},
     "output_type": "execute_result"
    }
   ],
   "source": [
    "norm_layer.adapt(X_train)\n",
    "model_wide.fit(X_train, y_train, epochs=30, validation_data=(X_test, y_test))"
   ]
  },
  {
   "cell_type": "markdown",
   "metadata": {},
   "source": [
    "### Deep and Wide Model\n",
    "*Using Keras Functional API - multi input approach*"
   ]
  },
  {
   "cell_type": "code",
   "execution_count": 6,
   "metadata": {},
   "outputs": [
    {
     "name": "stderr",
     "output_type": "stream",
     "text": [
      "2024-01-28 10:40:02.451548: I metal_plugin/src/device/metal_device.cc:1154] Metal device set to: Apple M1 Pro\n",
      "2024-01-28 10:40:02.451578: I metal_plugin/src/device/metal_device.cc:296] systemMemory: 16.00 GB\n",
      "2024-01-28 10:40:02.451583: I metal_plugin/src/device/metal_device.cc:313] maxCacheSize: 5.33 GB\n",
      "2024-01-28 10:40:02.451660: I tensorflow/core/common_runtime/pluggable_device/pluggable_device_factory.cc:306] Could not identify NUMA node of platform GPU ID 0, defaulting to 0. Your kernel may not have been built with NUMA support.\n",
      "2024-01-28 10:40:02.451850: I tensorflow/core/common_runtime/pluggable_device/pluggable_device_factory.cc:272] Created TensorFlow device (/job:localhost/replica:0/task:0/device:GPU:0 with 0 MB memory) -> physical PluggableDevice (device: 0, name: METAL, pci bus id: <undefined>)\n"
     ]
    }
   ],
   "source": [
    "input_wide = tf.keras.layers.Input(shape=[5], name=\"input_wide\")\n",
    "input_deep = tf.keras.layers.Input(shape=[6], name=\"input_deep\")\n",
    "\n",
    "norm_layer_wide = tf.keras.layers.Normalization()\n",
    "norm_layer_deep = tf.keras.layers.Normalization()\n",
    "\n",
    "norm_wide = norm_layer_wide(input_wide)\n",
    "norm_deep = norm_layer_deep(input_deep)\n",
    "\n",
    "h1 = tf.keras.layers.Dense(30, activation=\"relu\")(norm_deep)\n",
    "h2 = tf.keras.layers.Dense(30, activation=\"relu\")(h1)\n",
    "concat_ = tf.keras.layers.concatenate([norm_wide, h2])\n",
    "output_ = tf.keras.layers.Dense(1)(concat_)\n",
    "\n",
    "model_split_features = tf.keras.Model(inputs=[input_wide, input_deep], outputs=[output_])"
   ]
  },
  {
   "cell_type": "code",
   "execution_count": 12,
   "metadata": {},
   "outputs": [],
   "source": [
    "X_train_wide, X_train_deep = X_train[:, :5], X_train[:, 2:]\n",
    "X_test_wide, X_test_deep = X_test[:, :5], X_test[:, 2:]"
   ]
  },
  {
   "cell_type": "code",
   "execution_count": 14,
   "metadata": {},
   "outputs": [],
   "source": [
    "model_split_features.compile(loss=\"mse\", optimizer=\"adam\", metrics=[\"RootMeanSquaredError\"])"
   ]
  },
  {
   "cell_type": "code",
   "execution_count": 15,
   "metadata": {},
   "outputs": [
    {
     "name": "stdout",
     "output_type": "stream",
     "text": [
      "Epoch 1/30\n",
      "516/516 [==============================] - 4s 7ms/step - loss: 831.7415 - root_mean_squared_error: 28.8399 - val_loss: 5.7120 - val_root_mean_squared_error: 2.3900\n",
      "Epoch 2/30\n",
      "516/516 [==============================] - 3s 7ms/step - loss: 8.4137 - root_mean_squared_error: 2.9006 - val_loss: 4.2034 - val_root_mean_squared_error: 2.0502\n",
      "Epoch 3/30\n",
      "516/516 [==============================] - 3s 7ms/step - loss: 6.9722 - root_mean_squared_error: 2.6405 - val_loss: 1.9510 - val_root_mean_squared_error: 1.3968\n",
      "Epoch 4/30\n",
      "516/516 [==============================] - 3s 7ms/step - loss: 3.6953 - root_mean_squared_error: 1.9223 - val_loss: 2.3898 - val_root_mean_squared_error: 1.5459\n",
      "Epoch 5/30\n",
      "516/516 [==============================] - 3s 6ms/step - loss: 12.9075 - root_mean_squared_error: 3.5927 - val_loss: 1.6287 - val_root_mean_squared_error: 1.2762\n",
      "Epoch 6/30\n",
      "516/516 [==============================] - 3s 6ms/step - loss: 6.4923 - root_mean_squared_error: 2.5480 - val_loss: 344.0101 - val_root_mean_squared_error: 18.5475\n",
      "Epoch 7/30\n",
      "516/516 [==============================] - 3s 7ms/step - loss: 217.2825 - root_mean_squared_error: 14.7405 - val_loss: 0.9303 - val_root_mean_squared_error: 0.9645\n",
      "Epoch 8/30\n",
      "516/516 [==============================] - 3s 7ms/step - loss: 3.0100 - root_mean_squared_error: 1.7349 - val_loss: 0.8480 - val_root_mean_squared_error: 0.9208\n",
      "Epoch 9/30\n",
      "516/516 [==============================] - 3s 7ms/step - loss: 17.4672 - root_mean_squared_error: 4.1794 - val_loss: 0.9721 - val_root_mean_squared_error: 0.9859\n",
      "Epoch 10/30\n",
      "516/516 [==============================] - 3s 7ms/step - loss: 11.7019 - root_mean_squared_error: 3.4208 - val_loss: 1.6554 - val_root_mean_squared_error: 1.2866\n",
      "Epoch 11/30\n",
      "516/516 [==============================] - 3s 7ms/step - loss: 7.2543 - root_mean_squared_error: 2.6934 - val_loss: 4.1286 - val_root_mean_squared_error: 2.0319\n",
      "Epoch 12/30\n",
      "516/516 [==============================] - 3s 6ms/step - loss: 8.9386 - root_mean_squared_error: 2.9897 - val_loss: 2.8243 - val_root_mean_squared_error: 1.6806\n",
      "Epoch 13/30\n",
      "516/516 [==============================] - 3s 7ms/step - loss: 5.3546 - root_mean_squared_error: 2.3140 - val_loss: 1.5984 - val_root_mean_squared_error: 1.2643\n",
      "Epoch 14/30\n",
      "516/516 [==============================] - 3s 7ms/step - loss: 116.8816 - root_mean_squared_error: 10.8112 - val_loss: 0.7615 - val_root_mean_squared_error: 0.8726\n",
      "Epoch 15/30\n",
      "516/516 [==============================] - 3s 7ms/step - loss: 5.4241 - root_mean_squared_error: 2.3290 - val_loss: 1.3991 - val_root_mean_squared_error: 1.1828\n",
      "Epoch 16/30\n",
      "516/516 [==============================] - 4s 7ms/step - loss: 2.9823 - root_mean_squared_error: 1.7269 - val_loss: 0.7824 - val_root_mean_squared_error: 0.8845\n",
      "Epoch 17/30\n",
      "516/516 [==============================] - 3s 7ms/step - loss: 15.3909 - root_mean_squared_error: 3.9231 - val_loss: 15.1360 - val_root_mean_squared_error: 3.8905\n",
      "Epoch 18/30\n",
      "516/516 [==============================] - 3s 7ms/step - loss: 8.1474 - root_mean_squared_error: 2.8544 - val_loss: 11.6682 - val_root_mean_squared_error: 3.4159\n",
      "Epoch 19/30\n",
      "516/516 [==============================] - 3s 7ms/step - loss: 51.1668 - root_mean_squared_error: 7.1531 - val_loss: 1.0419 - val_root_mean_squared_error: 1.0207\n",
      "Epoch 20/30\n",
      "516/516 [==============================] - 3s 6ms/step - loss: 5.2701 - root_mean_squared_error: 2.2957 - val_loss: 1.5712 - val_root_mean_squared_error: 1.2535\n",
      "Epoch 21/30\n",
      "516/516 [==============================] - 3s 6ms/step - loss: 8.5329 - root_mean_squared_error: 2.9211 - val_loss: 4.0693 - val_root_mean_squared_error: 2.0173\n",
      "Epoch 22/30\n",
      "516/516 [==============================] - 3s 6ms/step - loss: 63.6038 - root_mean_squared_error: 7.9752 - val_loss: 1.2893 - val_root_mean_squared_error: 1.1355\n",
      "Epoch 23/30\n",
      "516/516 [==============================] - 3s 6ms/step - loss: 9.4468 - root_mean_squared_error: 3.0736 - val_loss: 2.2325 - val_root_mean_squared_error: 1.4942\n",
      "Epoch 24/30\n",
      "516/516 [==============================] - 3s 7ms/step - loss: 47.0224 - root_mean_squared_error: 6.8573 - val_loss: 1.9381 - val_root_mean_squared_error: 1.3922\n",
      "Epoch 25/30\n",
      "516/516 [==============================] - 4s 7ms/step - loss: 28.7794 - root_mean_squared_error: 5.3646 - val_loss: 1.5617 - val_root_mean_squared_error: 1.2497\n",
      "Epoch 26/30\n",
      "516/516 [==============================] - 4s 7ms/step - loss: 17.5538 - root_mean_squared_error: 4.1897 - val_loss: 0.8045 - val_root_mean_squared_error: 0.8970\n",
      "Epoch 27/30\n",
      "516/516 [==============================] - 4s 7ms/step - loss: 12.2129 - root_mean_squared_error: 3.4947 - val_loss: 7.1792 - val_root_mean_squared_error: 2.6794\n",
      "Epoch 28/30\n",
      "516/516 [==============================] - 4s 7ms/step - loss: 587.6662 - root_mean_squared_error: 24.2418 - val_loss: 1.3970 - val_root_mean_squared_error: 1.1819\n",
      "Epoch 29/30\n",
      "516/516 [==============================] - 3s 7ms/step - loss: 14.6847 - root_mean_squared_error: 3.8321 - val_loss: 7.3727 - val_root_mean_squared_error: 2.7153\n",
      "Epoch 30/30\n",
      "516/516 [==============================] - 4s 7ms/step - loss: 27.1636 - root_mean_squared_error: 5.2119 - val_loss: 0.6781 - val_root_mean_squared_error: 0.8235\n"
     ]
    }
   ],
   "source": [
    "hist_fsplit = model_split_features.fit((X_train_wide, X_train_deep), y_train, epochs=30, validation_data=((X_test_wide, X_test_deep), y_test))\n",
    "# hist_fsplit = model_split_features.fit({\"input_wide\": X_train_wide, \"input_deep\":X_train_deep}, y_train, epochs=30, validation_data=({\"input_wide\": X_test_wide, \"input_deep\": X_test_deep}, y_test))"
   ]
  },
  {
   "cell_type": "code",
   "execution_count": null,
   "metadata": {},
   "outputs": [],
   "source": []
  }
 ],
 "metadata": {
  "kernelspec": {
   "display_name": "tfpy",
   "language": "python",
   "name": "python3"
  },
  "language_info": {
   "codemirror_mode": {
    "name": "ipython",
    "version": 3
   },
   "file_extension": ".py",
   "mimetype": "text/x-python",
   "name": "python",
   "nbconvert_exporter": "python",
   "pygments_lexer": "ipython3",
   "version": "3.11.7"
  }
 },
 "nbformat": 4,
 "nbformat_minor": 2
}
