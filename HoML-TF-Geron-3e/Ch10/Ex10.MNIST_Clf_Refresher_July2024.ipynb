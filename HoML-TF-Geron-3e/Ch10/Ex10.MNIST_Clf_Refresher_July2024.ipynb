{
 "cells": [
  {
   "cell_type": "code",
   "execution_count": 1,
   "metadata": {},
   "outputs": [],
   "source": [
    "import tensorflow as tf"
   ]
  },
  {
   "cell_type": "code",
   "execution_count": 2,
   "metadata": {},
   "outputs": [
    {
     "data": {
      "text/plain": [
       "'2.15.0'"
      ]
     },
     "execution_count": 2,
     "metadata": {},
     "output_type": "execute_result"
    }
   ],
   "source": [
    "tf.__version__"
   ]
  },
  {
   "cell_type": "code",
   "execution_count": 3,
   "metadata": {},
   "outputs": [],
   "source": [
    "(X_train_full, y_train_full), (X_test, y_test) = tf.keras.datasets.mnist.load_data()"
   ]
  },
  {
   "cell_type": "code",
   "execution_count": 4,
   "metadata": {},
   "outputs": [
    {
     "data": {
      "text/plain": [
       "((60000, 28, 28), (60000,))"
      ]
     },
     "execution_count": 4,
     "metadata": {},
     "output_type": "execute_result"
    }
   ],
   "source": [
    "X_train_full.shape, y_train_full.shape"
   ]
  },
  {
   "cell_type": "code",
   "execution_count": 5,
   "metadata": {},
   "outputs": [
    {
     "data": {
      "text/plain": [
       "dtype('uint8')"
      ]
     },
     "execution_count": 5,
     "metadata": {},
     "output_type": "execute_result"
    }
   ],
   "source": [
    "X_train_full.dtype"
   ]
  },
  {
   "cell_type": "code",
   "execution_count": 6,
   "metadata": {},
   "outputs": [],
   "source": [
    "X_train, X_valid = X_train_full[5000:] / 255.0, X_train_full[:5000] / 255.0\n",
    "y_train, y_valid = y_train_full[5000:], y_train_full[:5000]\n",
    "X_test = X_test / 255.0"
   ]
  },
  {
   "cell_type": "code",
   "execution_count": 7,
   "metadata": {},
   "outputs": [
    {
     "data": {
      "image/png": "[encoded data removed]",
      "text/plain": [
       "<Figure size 640x480 with 1 Axes>"
      ]
     },
     "metadata": {},
     "output_type": "display_data"
    }
   ],
   "source": [
    "import matplotlib.pyplot as plt\n",
    "\n",
    "plt.imshow(X_train[0], cmap='binary')\n",
    "plt.axis('off')\n",
    "plt.show()"
   ]
  },
  {
   "cell_type": "code",
   "execution_count": 8,
   "metadata": {},
   "outputs": [
    {
     "data": {
      "text/plain": [
       "7"
      ]
     },
     "execution_count": 8,
     "metadata": {},
     "output_type": "execute_result"
    }
   ],
   "source": [
    "y_train[0]"
   ]
  },
  {
   "cell_type": "code",
   "execution_count": 9,
   "metadata": {},
   "outputs": [],
   "source": [
    "K = tf.keras.backend\n",
    "\n",
    "class ExponentialLearningRate(tf.keras.callbacks.Callback):\n",
    "    def __init__(self, factor):\n",
    "        self.factor = factor\n",
    "        self.losses = []\n",
    "        self.rates = []\n",
    "\n",
    "    def on_batch_end(self, batch, logs):\n",
    "        self.rates.append(K.get_value(self.model.optimizer.learning_rate))\n",
    "        self.losses.append(logs['loss'])\n",
    "        K.set_value(self.model.optimizer.learning_rate, self.model.optimizer.learning_rate * self.factor)"
   ]
  },
  {
   "cell_type": "code",
   "execution_count": 10,
   "metadata": {},
   "outputs": [],
   "source": [
    "import numpy as np\n",
    "\n",
    "tf.keras.backend.clear_session()\n",
    "\n",
    "tf.random.set_seed(42)\n",
    "np.random.seed(42)"
   ]
  },
  {
   "cell_type": "code",
   "execution_count": 11,
   "metadata": {},
   "outputs": [
    {
     "name": "stderr",
     "output_type": "stream",
     "text": [
      "2024-07-28 20:04:23.136841: I metal_plugin/src/device/metal_device.cc:1154] Metal device set to: Apple M1 Pro\n",
      "2024-07-28 20:04:23.136863: I metal_plugin/src/device/metal_device.cc:296] systemMemory: 16.00 GB\n",
      "2024-07-28 20:04:23.136868: I metal_plugin/src/device/metal_device.cc:313] maxCacheSize: 5.33 GB\n",
      "2024-07-28 20:04:23.136899: I tensorflow/core/common_runtime/pluggable_device/pluggable_device_factory.cc:306] Could not identify NUMA node of platform GPU ID 0, defaulting to 0. Your kernel may not have been built with NUMA support.\n",
      "2024-07-28 20:04:23.136916: I tensorflow/core/common_runtime/pluggable_device/pluggable_device_factory.cc:272] Created TensorFlow device (/job:localhost/replica:0/task:0/device:GPU:0 with 0 MB memory) -> physical PluggableDevice (device: 0, name: METAL, pci bus id: <undefined>)\n"
     ]
    }
   ],
   "source": [
    "im_shape = list(X_train[0].shape)\n",
    "m1 = tf.keras.Sequential(\n",
    "    [\n",
    "        tf.keras.layers.Flatten(input_shape=im_shape),\n",
    "        tf.keras.layers.Dense(300, activation=\"relu\"),\n",
    "        tf.keras.layers.Dense(100, activation=\"relu\"),\n",
    "        tf.keras.layers.Dense(10, activation=\"softmax\"),\n",
    "    ]\n",
    ")\n",
    "\n",
    "m1.compile(\n",
    "    loss=\"sparse_categorical_crossentropy\", optimizer=\"adam\", metrics=[\"accuracy\"]\n",
    ")\n",
    "\n",
    "exp_lr = ExponentialLearningRate(1.005)"
   ]
  },
  {
   "cell_type": "code",
   "execution_count": 12,
   "metadata": {},
   "outputs": [
    {
     "name": "stdout",
     "output_type": "stream",
     "text": [
      "Epoch 1/3\n"
     ]
    },
    {
     "name": "stderr",
     "output_type": "stream",
     "text": [
      "2024-07-28 20:04:23.663606: I tensorflow/core/grappler/optimizers/custom_graph_optimizer_registry.cc:117] Plugin optimizer for device_type GPU is enabled.\n"
     ]
    },
    {
     "name": "stdout",
     "output_type": "stream",
     "text": [
      "   1/1719 [..............................] - ETA: 11:29 - loss: 2.4097 - accuracy: 0.1875WARNING:tensorflow:Callback method `on_train_batch_end` is slow compared to the batch time (batch time: 0.0042s vs `on_train_batch_end` time: 0.0045s). Check your callbacks.\n",
      "1719/1719 [==============================] - 14s 8ms/step - loss: 1832353664.0000 - accuracy: 0.7257 - val_loss: 90737147904.0000 - val_accuracy: 0.6022\n",
      "Epoch 2/3\n",
      "1719/1719 [==============================] - 13s 8ms/step - loss: 432215698710187737088.0000 - accuracy: 0.7156 - val_loss: 13618608301791296618496.0000 - val_accuracy: 0.6772\n",
      "Epoch 3/3\n",
      "1719/1719 [==============================] - 13s 7ms/step - loss: 334371616733545058300827009024.0000 - accuracy: 0.7243 - val_loss: 5855923031186219947134294163456.0000 - val_accuracy: 0.6980\n"
     ]
    }
   ],
   "source": [
    "h0 = m1.fit(\n",
    "    X_train,\n",
    "    y_train,\n",
    "    epochs=3,\n",
    "    validation_data=(X_valid, y_valid),\n",
    "    callbacks=[exp_lr],\n",
    "    verbose=1,\n",
    ")"
   ]
  },
  {
   "cell_type": "code",
   "execution_count": 13,
   "metadata": {},
   "outputs": [
    {
     "data": {
      "text/plain": [
       "Text(0, 0.5, 'Loss')"
      ]
     },
     "execution_count": 13,
     "metadata": {},
     "output_type": "execute_result"
    },
    {
     "data": {
      "image/png": "[encoded data removed]",
      "text/plain": [
       "<Figure size 640x480 with 1 Axes>"
      ]
     },
     "metadata": {},
     "output_type": "display_data"
    }
   ],
   "source": [
    "plt.plot(exp_lr.rates, exp_lr.losses)\n",
    "plt.gca().set_xscale('log')\n",
    "plt.hlines(min(exp_lr.losses), min(exp_lr.rates), max(exp_lr.rates))\n",
    "plt.grid()\n",
    "plt.xlabel('Learning rate')\n",
    "plt.ylabel('Loss')"
   ]
  },
  {
   "cell_type": "code",
   "execution_count": 14,
   "metadata": {},
   "outputs": [
    {
     "data": {
      "text/plain": [
       "PosixPath('my_mnist_logs_july2024/run_001')"
      ]
     },
     "execution_count": 14,
     "metadata": {},
     "output_type": "execute_result"
    }
   ],
   "source": [
    "from pathlib import Path\n",
    "\n",
    "run_index = 1\n",
    "run_logdir = Path() / \"my_mnist_logs_july2024\" / \"run_{:03d}\".format(run_index)\n",
    "run_logdir"
   ]
  },
  {
   "cell_type": "code",
   "execution_count": 15,
   "metadata": {},
   "outputs": [],
   "source": [
    "m2 = tf.keras.Sequential(\n",
    "    [\n",
    "        tf.keras.layers.Flatten(input_shape=im_shape),\n",
    "        tf.keras.layers.Dense(300, activation=\"relu\"),\n",
    "        tf.keras.layers.Dense(100, activation=\"relu\"),\n",
    "        tf.keras.layers.Dense(10, activation=\"softmax\"),\n",
    "    ]\n",
    ")"
   ]
  },
  {
   "cell_type": "code",
   "execution_count": 18,
   "metadata": {},
   "outputs": [],
   "source": [
    "m2.compile(\n",
    "    loss=\"sparse_categorical_crossentropy\", optimizer=tf.keras.optimizers.legacy.Adam(learning_rate=3e-3), metrics=[\"accuracy\"]\n",
    ")"
   ]
  },
  {
   "cell_type": "code",
   "execution_count": 22,
   "metadata": {},
   "outputs": [
    {
     "name": "stdout",
     "output_type": "stream",
     "text": [
      "Epoch 1/200\n",
      "1713/1719 [============================>.] - ETA: 0s - loss: 34369.4961 - accuracy: 0.8143INFO:tensorflow:Assets written to: my_mnist_model_july2024/assets\n"
     ]
    },
    {
     "name": "stderr",
     "output_type": "stream",
     "text": [
      "INFO:tensorflow:Assets written to: my_mnist_model_july2024/assets\n"
     ]
    },
    {
     "name": "stdout",
     "output_type": "stream",
     "text": [
      "1719/1719 [==============================] - 11s 6ms/step - loss: 34350.4062 - accuracy: 0.8144 - val_loss: 29043.9102 - val_accuracy: 0.8318\n",
      "Epoch 2/200\n",
      "1719/1719 [==============================] - 10s 6ms/step - loss: 36585.2422 - accuracy: 0.8132 - val_loss: 44897.7422 - val_accuracy: 0.7708\n",
      "Epoch 3/200\n",
      "1719/1719 [==============================] - 10s 6ms/step - loss: 36494.8789 - accuracy: 0.8155 - val_loss: 40757.5117 - val_accuracy: 0.8230\n",
      "Epoch 4/200\n",
      "1719/1719 [==============================] - 10s 6ms/step - loss: 37508.7891 - accuracy: 0.8187 - val_loss: 35371.5430 - val_accuracy: 0.8228\n",
      "Epoch 5/200\n",
      "1719/1719 [==============================] - 10s 6ms/step - loss: 40354.1914 - accuracy: 0.8130 - val_loss: 36982.3008 - val_accuracy: 0.8136\n",
      "Epoch 6/200\n",
      "1719/1719 [==============================] - 10s 6ms/step - loss: 40294.9922 - accuracy: 0.8162 - val_loss: 31213.2793 - val_accuracy: 0.8506\n",
      "Epoch 7/200\n",
      "1719/1719 [==============================] - 10s 6ms/step - loss: 42212.0273 - accuracy: 0.8176 - val_loss: 33471.2578 - val_accuracy: 0.8534\n",
      "Epoch 8/200\n",
      "1719/1719 [==============================] - 10s 6ms/step - loss: 42562.6094 - accuracy: 0.8172 - val_loss: 35403.7852 - val_accuracy: 0.8398\n",
      "Epoch 9/200\n",
      "1719/1719 [==============================] - 10s 6ms/step - loss: 46645.8945 - accuracy: 0.8137 - val_loss: 40483.7344 - val_accuracy: 0.8136\n",
      "Epoch 10/200\n",
      "1719/1719 [==============================] - 10s 6ms/step - loss: 46312.0352 - accuracy: 0.8164 - val_loss: 39355.3789 - val_accuracy: 0.8450\n",
      "Epoch 11/200\n",
      "1719/1719 [==============================] - 10s 6ms/step - loss: 48019.9883 - accuracy: 0.8158 - val_loss: 41222.0977 - val_accuracy: 0.8428\n",
      "Epoch 12/200\n",
      "1719/1719 [==============================] - 10s 6ms/step - loss: 51285.1094 - accuracy: 0.8123 - val_loss: 76106.9297 - val_accuracy: 0.7496\n",
      "Epoch 13/200\n",
      "1719/1719 [==============================] - 10s 6ms/step - loss: 54330.3828 - accuracy: 0.8116 - val_loss: 78938.2812 - val_accuracy: 0.7770\n",
      "Epoch 14/200\n",
      "1719/1719 [==============================] - 10s 6ms/step - loss: 51471.6523 - accuracy: 0.8182 - val_loss: 49654.1914 - val_accuracy: 0.8324\n",
      "Epoch 15/200\n",
      "1719/1719 [==============================] - 10s 6ms/step - loss: 56814.0352 - accuracy: 0.8143 - val_loss: 61046.2930 - val_accuracy: 0.8076\n",
      "Epoch 16/200\n",
      "1719/1719 [==============================] - 10s 6ms/step - loss: 57035.1250 - accuracy: 0.8148 - val_loss: 68407.8125 - val_accuracy: 0.7890\n",
      "Epoch 17/200\n",
      "1719/1719 [==============================] - 10s 6ms/step - loss: 58535.1602 - accuracy: 0.8169 - val_loss: 37065.1797 - val_accuracy: 0.8536\n",
      "Epoch 18/200\n",
      "1719/1719 [==============================] - 10s 6ms/step - loss: 60559.2656 - accuracy: 0.8132 - val_loss: 85606.3203 - val_accuracy: 0.7810\n",
      "Epoch 19/200\n",
      "1719/1719 [==============================] - 10s 6ms/step - loss: 62809.7969 - accuracy: 0.8173 - val_loss: 60846.0977 - val_accuracy: 0.8088\n",
      "Epoch 20/200\n",
      "1719/1719 [==============================] - 10s 6ms/step - loss: 66917.8438 - accuracy: 0.8132 - val_loss: 52967.0977 - val_accuracy: 0.8374\n",
      "Epoch 21/200\n",
      "1719/1719 [==============================] - 10s 6ms/step - loss: 68862.8359 - accuracy: 0.8126 - val_loss: 68444.1016 - val_accuracy: 0.8260\n"
     ]
    }
   ],
   "source": [
    "earlystopping_cb = tf.keras.callbacks.EarlyStopping(monitor='val_accuracy', min_delta=0.04, patience=20)\n",
    "checkpoint_cb = tf.keras.callbacks.ModelCheckpoint(\"my_mnist_model_july2024\", save_best_only=True)\n",
    "tf_cb = tf.keras.callbacks.TensorBoard(run_logdir)\n",
    "\n",
    "h1 = m2.fit(\n",
    "    X_train, y_train, epochs=200, validation_data=(X_valid, y_valid),\n",
    "    callbacks=[checkpoint_cb, earlystopping_cb, tf_cb], verbose=1\n",
    ")"
   ]
  },
  {
   "cell_type": "code",
   "execution_count": null,
   "metadata": {},
   "outputs": [],
   "source": []
  }
 ],
 "metadata": {
  "kernelspec": {
   "display_name": "tfpy",
   "language": "python",
   "name": "python3"
  },
  "language_info": {
   "codemirror_mode": {
    "name": "ipython",
    "version": 3
   },
   "file_extension": ".py",
   "mimetype": "text/x-python",
   "name": "python",
   "nbconvert_exporter": "python",
   "pygments_lexer": "ipython3",
   "version": "3.11.7"
  }
 },
 "nbformat": 4,
 "nbformat_minor": 2
}
