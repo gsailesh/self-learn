{
 "cells": [
  {
   "cell_type": "code",
   "execution_count": 1,
   "metadata": {},
   "outputs": [],
   "source": [
    "import tensorflow as tf"
   ]
  },
  {
   "cell_type": "code",
   "execution_count": 2,
   "metadata": {},
   "outputs": [
    {
     "data": {
      "text/plain": [
       "'2.15.0'"
      ]
     },
     "execution_count": 2,
     "metadata": {},
     "output_type": "execute_result"
    }
   ],
   "source": [
    "tf.__version__"
   ]
  },
  {
   "cell_type": "code",
   "execution_count": 3,
   "metadata": {},
   "outputs": [
    {
     "name": "stderr",
     "output_type": "stream",
     "text": [
      "2024-05-18 19:59:17.879616: I metal_plugin/src/device/metal_device.cc:1154] Metal device set to: Apple M1 Pro\n",
      "2024-05-18 19:59:17.879661: I metal_plugin/src/device/metal_device.cc:296] systemMemory: 16.00 GB\n",
      "2024-05-18 19:59:17.879680: I metal_plugin/src/device/metal_device.cc:313] maxCacheSize: 5.33 GB\n",
      "2024-05-18 19:59:17.879748: I tensorflow/core/common_runtime/pluggable_device/pluggable_device_factory.cc:306] Could not identify NUMA node of platform GPU ID 0, defaulting to 0. Your kernel may not have been built with NUMA support.\n",
      "2024-05-18 19:59:17.879794: I tensorflow/core/common_runtime/pluggable_device/pluggable_device_factory.cc:272] Created TensorFlow device (/job:localhost/replica:0/task:0/device:GPU:0 with 0 MB memory) -> physical PluggableDevice (device: 0, name: METAL, pci bus id: <undefined>)\n"
     ]
    }
   ],
   "source": [
    "tf.random.set_seed(42)\n",
    "\n",
    "model_cifar = tf.keras.Sequential()\n",
    "\n",
    "model_cifar.add(tf.keras.layers.Flatten(input_shape=(32, 32, 3)))\n",
    "\n",
    "for _ in range(20):\n",
    "    model_cifar.add(\n",
    "        tf.keras.layers.Dense(100, activation=\"swish\", kernel_initializer=\"he_normal\")\n",
    "    )"
   ]
  },
  {
   "cell_type": "code",
   "execution_count": 11,
   "metadata": {},
   "outputs": [],
   "source": [
    "model_cifar.add(tf.keras.layers.Dense(10, activation=\"softmax\"))"
   ]
  },
  {
   "cell_type": "code",
   "execution_count": 13,
   "metadata": {},
   "outputs": [],
   "source": [
    "model_cifar.compile(loss=\"sparse_categorical_crossentropy\", optimizer=tf.keras.optimizers.legacy.Nadam(learning_rate=5e-5), metrics=[\"accuracy\"])"
   ]
  },
  {
   "cell_type": "code",
   "execution_count": 4,
   "metadata": {},
   "outputs": [],
   "source": [
    "cifar10 = tf.keras.datasets.cifar10.load_data()"
   ]
  },
  {
   "cell_type": "code",
   "execution_count": 5,
   "metadata": {},
   "outputs": [],
   "source": [
    "(X_train_full, y_train_full), (X_test, y_test) = cifar10\n",
    "\n",
    "X_train = X_train_full[5000:]\n",
    "y_train = y_train_full[5000:]\n",
    "X_valid = X_train_full[:5000]\n",
    "y_valid = y_train_full[:5000]"
   ]
  },
  {
   "cell_type": "code",
   "execution_count": 6,
   "metadata": {},
   "outputs": [],
   "source": [
    "from pathlib import Path\n",
    "\n",
    "early_stopping_cb = tf.keras.callbacks.EarlyStopping(patience=10, restore_best_weights=True)\n",
    "model_ckpt_cb = tf.keras.callbacks.ModelCheckpoint(\"model_cifar10.ckpt\", save_best_only=True)\n",
    "\n",
    "run_idx = 1\n",
    "run_logdir = Path() / \"cifar10_logs\" / f\"run_{run_idx:03d}\"\n",
    "tensorboard_cb = tf.keras.callbacks.TensorBoard(run_logdir)"
   ]
  },
  {
   "cell_type": "code",
   "execution_count": 7,
   "metadata": {},
   "outputs": [],
   "source": [
    "callback_lst = [early_stopping_cb, model_ckpt_cb, tensorboard_cb]"
   ]
  },
  {
   "cell_type": "code",
   "execution_count": 9,
   "metadata": {},
   "outputs": [
    {
     "data": {
      "text/html": [
       "\n",
       "      <iframe id=\"tensorboard-frame-3af867f6a547afe9\" width=\"100%\" height=\"800\" frameborder=\"0\">\n",
       "      </iframe>\n",
       "      <script>\n",
       "        (function() {\n",
       "          const frame = document.getElementById(\"tensorboard-frame-3af867f6a547afe9\");\n",
       "          const url = new URL(\"/\", window.location);\n",
       "          const port = 6006;\n",
       "          if (port) {\n",
       "            url.port = port;\n",
       "          }\n",
       "          frame.src = url;\n",
       "        })();\n",
       "      </script>\n",
       "    "
      ],
      "text/plain": [
       "<IPython.core.display.HTML object>"
      ]
     },
     "metadata": {},
     "output_type": "display_data"
    }
   ],
   "source": [
    "%load_ext tensorboard\n",
    "%tensorboard --logdir=./cifar10_logs"
   ]
  },
  {
   "cell_type": "code",
   "execution_count": 14,
   "metadata": {},
   "outputs": [
    {
     "name": "stdout",
     "output_type": "stream",
     "text": [
      "Epoch 1/100\n"
     ]
    },
    {
     "name": "stderr",
     "output_type": "stream",
     "text": [
      "2024-05-18 20:15:12.068478: I tensorflow/core/grappler/optimizers/custom_graph_optimizer_registry.cc:117] Plugin optimizer for device_type GPU is enabled.\n"
     ]
    },
    {
     "name": "stdout",
     "output_type": "stream",
     "text": [
      "1407/1407 [==============================] - ETA: 0s - loss: 3.7540 - accuracy: 0.1688INFO:tensorflow:Assets written to: model_cifar10.ckpt/assets\n"
     ]
    },
    {
     "name": "stderr",
     "output_type": "stream",
     "text": [
      "INFO:tensorflow:Assets written to: model_cifar10.ckpt/assets\n"
     ]
    },
    {
     "name": "stdout",
     "output_type": "stream",
     "text": [
      "1407/1407 [==============================] - 67s 42ms/step - loss: 3.7540 - accuracy: 0.1688 - val_loss: 2.4276 - val_accuracy: 0.1818\n",
      "Epoch 2/100\n",
      "1406/1407 [============================>.] - ETA: 0s - loss: 2.0881 - accuracy: 0.2368INFO:tensorflow:Assets written to: model_cifar10.ckpt/assets\n"
     ]
    },
    {
     "name": "stderr",
     "output_type": "stream",
     "text": [
      "INFO:tensorflow:Assets written to: model_cifar10.ckpt/assets\n"
     ]
    },
    {
     "name": "stdout",
     "output_type": "stream",
     "text": [
      "1407/1407 [==============================] - 56s 40ms/step - loss: 2.0881 - accuracy: 0.2368 - val_loss: 2.1398 - val_accuracy: 0.2162\n",
      "Epoch 3/100\n",
      "1407/1407 [==============================] - ETA: 0s - loss: 1.9619 - accuracy: 0.2832INFO:tensorflow:Assets written to: model_cifar10.ckpt/assets\n"
     ]
    },
    {
     "name": "stderr",
     "output_type": "stream",
     "text": [
      "INFO:tensorflow:Assets written to: model_cifar10.ckpt/assets\n"
     ]
    },
    {
     "name": "stdout",
     "output_type": "stream",
     "text": [
      "1407/1407 [==============================] - 56s 40ms/step - loss: 1.9619 - accuracy: 0.2832 - val_loss: 2.0066 - val_accuracy: 0.2522\n",
      "Epoch 4/100\n",
      "1407/1407 [==============================] - ETA: 0s - loss: 1.8804 - accuracy: 0.3158INFO:tensorflow:Assets written to: model_cifar10.ckpt/assets\n"
     ]
    },
    {
     "name": "stderr",
     "output_type": "stream",
     "text": [
      "INFO:tensorflow:Assets written to: model_cifar10.ckpt/assets\n"
     ]
    },
    {
     "name": "stdout",
     "output_type": "stream",
     "text": [
      "1407/1407 [==============================] - 57s 41ms/step - loss: 1.8804 - accuracy: 0.3158 - val_loss: 1.9375 - val_accuracy: 0.3178\n",
      "Epoch 5/100\n",
      "1406/1407 [============================>.] - ETA: 0s - loss: 1.8199 - accuracy: 0.3410INFO:tensorflow:Assets written to: model_cifar10.ckpt/assets\n"
     ]
    },
    {
     "name": "stderr",
     "output_type": "stream",
     "text": [
      "INFO:tensorflow:Assets written to: model_cifar10.ckpt/assets\n"
     ]
    },
    {
     "name": "stdout",
     "output_type": "stream",
     "text": [
      "1407/1407 [==============================] - 56s 40ms/step - loss: 1.8199 - accuracy: 0.3410 - val_loss: 1.8636 - val_accuracy: 0.3350\n",
      "Epoch 6/100\n",
      "1406/1407 [============================>.] - ETA: 0s - loss: 1.7634 - accuracy: 0.3623INFO:tensorflow:Assets written to: model_cifar10.ckpt/assets\n"
     ]
    },
    {
     "name": "stderr",
     "output_type": "stream",
     "text": [
      "INFO:tensorflow:Assets written to: model_cifar10.ckpt/assets\n"
     ]
    },
    {
     "name": "stdout",
     "output_type": "stream",
     "text": [
      "1407/1407 [==============================] - 57s 40ms/step - loss: 1.7633 - accuracy: 0.3623 - val_loss: 1.7778 - val_accuracy: 0.3616\n",
      "Epoch 7/100\n",
      "1407/1407 [==============================] - ETA: 0s - loss: 1.7145 - accuracy: 0.3820INFO:tensorflow:Assets written to: model_cifar10.ckpt/assets\n"
     ]
    },
    {
     "name": "stderr",
     "output_type": "stream",
     "text": [
      "INFO:tensorflow:Assets written to: model_cifar10.ckpt/assets\n"
     ]
    },
    {
     "name": "stdout",
     "output_type": "stream",
     "text": [
      "1407/1407 [==============================] - 56s 40ms/step - loss: 1.7145 - accuracy: 0.3820 - val_loss: 1.7666 - val_accuracy: 0.3464\n",
      "Epoch 8/100\n",
      "1406/1407 [============================>.] - ETA: 0s - loss: 1.6768 - accuracy: 0.3983INFO:tensorflow:Assets written to: model_cifar10.ckpt/assets\n"
     ]
    },
    {
     "name": "stderr",
     "output_type": "stream",
     "text": [
      "INFO:tensorflow:Assets written to: model_cifar10.ckpt/assets\n"
     ]
    },
    {
     "name": "stdout",
     "output_type": "stream",
     "text": [
      "1407/1407 [==============================] - 59s 42ms/step - loss: 1.6768 - accuracy: 0.3983 - val_loss: 1.6723 - val_accuracy: 0.4070\n",
      "Epoch 9/100\n",
      "1407/1407 [==============================] - 56s 39ms/step - loss: 1.6419 - accuracy: 0.4086 - val_loss: 1.6758 - val_accuracy: 0.3976\n",
      "Epoch 10/100\n",
      "1407/1407 [==============================] - 56s 40ms/step - loss: 1.6150 - accuracy: 0.4184 - val_loss: 1.6799 - val_accuracy: 0.3908\n",
      "Epoch 11/100\n",
      "1407/1407 [==============================] - 58s 41ms/step - loss: 1.5918 - accuracy: 0.4284 - val_loss: 1.6827 - val_accuracy: 0.3940\n",
      "Epoch 12/100\n",
      "1407/1407 [==============================] - ETA: 0s - loss: 1.5718 - accuracy: 0.4378INFO:tensorflow:Assets written to: model_cifar10.ckpt/assets\n"
     ]
    },
    {
     "name": "stderr",
     "output_type": "stream",
     "text": [
      "INFO:tensorflow:Assets written to: model_cifar10.ckpt/assets\n"
     ]
    },
    {
     "name": "stdout",
     "output_type": "stream",
     "text": [
      "1407/1407 [==============================] - 59s 42ms/step - loss: 1.5718 - accuracy: 0.4378 - val_loss: 1.6036 - val_accuracy: 0.4254\n",
      "Epoch 13/100\n",
      "1406/1407 [============================>.] - ETA: 0s - loss: 1.5512 - accuracy: 0.4422INFO:tensorflow:Assets written to: model_cifar10.ckpt/assets\n"
     ]
    },
    {
     "name": "stderr",
     "output_type": "stream",
     "text": [
      "INFO:tensorflow:Assets written to: model_cifar10.ckpt/assets\n"
     ]
    },
    {
     "name": "stdout",
     "output_type": "stream",
     "text": [
      "1407/1407 [==============================] - 60s 43ms/step - loss: 1.5512 - accuracy: 0.4422 - val_loss: 1.6017 - val_accuracy: 0.4230\n",
      "Epoch 14/100\n",
      "1407/1407 [==============================] - ETA: 0s - loss: 1.5331 - accuracy: 0.4521INFO:tensorflow:Assets written to: model_cifar10.ckpt/assets\n"
     ]
    },
    {
     "name": "stderr",
     "output_type": "stream",
     "text": [
      "INFO:tensorflow:Assets written to: model_cifar10.ckpt/assets\n"
     ]
    },
    {
     "name": "stdout",
     "output_type": "stream",
     "text": [
      "1407/1407 [==============================] - 58s 41ms/step - loss: 1.5331 - accuracy: 0.4521 - val_loss: 1.6009 - val_accuracy: 0.4272\n",
      "Epoch 15/100\n",
      "1406/1407 [============================>.] - ETA: 0s - loss: 1.5167 - accuracy: 0.4568INFO:tensorflow:Assets written to: model_cifar10.ckpt/assets\n"
     ]
    },
    {
     "name": "stderr",
     "output_type": "stream",
     "text": [
      "INFO:tensorflow:Assets written to: model_cifar10.ckpt/assets\n"
     ]
    },
    {
     "name": "stdout",
     "output_type": "stream",
     "text": [
      "1407/1407 [==============================] - 58s 41ms/step - loss: 1.5168 - accuracy: 0.4568 - val_loss: 1.5651 - val_accuracy: 0.4386\n",
      "Epoch 16/100\n",
      "1407/1407 [==============================] - 57s 41ms/step - loss: 1.4987 - accuracy: 0.4648 - val_loss: 1.5809 - val_accuracy: 0.4344\n",
      "Epoch 17/100\n",
      "1406/1407 [============================>.] - ETA: 0s - loss: 1.4886 - accuracy: 0.4667INFO:tensorflow:Assets written to: model_cifar10.ckpt/assets\n"
     ]
    },
    {
     "name": "stderr",
     "output_type": "stream",
     "text": [
      "INFO:tensorflow:Assets written to: model_cifar10.ckpt/assets\n"
     ]
    },
    {
     "name": "stdout",
     "output_type": "stream",
     "text": [
      "1407/1407 [==============================] - 57s 40ms/step - loss: 1.4886 - accuracy: 0.4668 - val_loss: 1.5548 - val_accuracy: 0.4474\n",
      "Epoch 18/100\n",
      "1407/1407 [==============================] - 54s 38ms/step - loss: 1.4733 - accuracy: 0.4730 - val_loss: 1.5647 - val_accuracy: 0.4430\n",
      "Epoch 19/100\n",
      "1406/1407 [============================>.] - ETA: 0s - loss: 1.4627 - accuracy: 0.4757INFO:tensorflow:Assets written to: model_cifar10.ckpt/assets\n"
     ]
    },
    {
     "name": "stderr",
     "output_type": "stream",
     "text": [
      "INFO:tensorflow:Assets written to: model_cifar10.ckpt/assets\n"
     ]
    },
    {
     "name": "stdout",
     "output_type": "stream",
     "text": [
      "1407/1407 [==============================] - 56s 40ms/step - loss: 1.4627 - accuracy: 0.4758 - val_loss: 1.5461 - val_accuracy: 0.4464\n",
      "Epoch 20/100\n",
      "1407/1407 [==============================] - 54s 38ms/step - loss: 1.4503 - accuracy: 0.4806 - val_loss: 1.5738 - val_accuracy: 0.4372\n",
      "Epoch 21/100\n",
      "1407/1407 [==============================] - ETA: 0s - loss: 1.4381 - accuracy: 0.4836INFO:tensorflow:Assets written to: model_cifar10.ckpt/assets\n"
     ]
    },
    {
     "name": "stderr",
     "output_type": "stream",
     "text": [
      "INFO:tensorflow:Assets written to: model_cifar10.ckpt/assets\n"
     ]
    },
    {
     "name": "stdout",
     "output_type": "stream",
     "text": [
      "1407/1407 [==============================] - 56s 40ms/step - loss: 1.4381 - accuracy: 0.4836 - val_loss: 1.5460 - val_accuracy: 0.4490\n",
      "Epoch 22/100\n",
      "1407/1407 [==============================] - ETA: 0s - loss: 1.4281 - accuracy: 0.4892INFO:tensorflow:Assets written to: model_cifar10.ckpt/assets\n"
     ]
    },
    {
     "name": "stderr",
     "output_type": "stream",
     "text": [
      "INFO:tensorflow:Assets written to: model_cifar10.ckpt/assets\n"
     ]
    },
    {
     "name": "stdout",
     "output_type": "stream",
     "text": [
      "1407/1407 [==============================] - 56s 40ms/step - loss: 1.4281 - accuracy: 0.4892 - val_loss: 1.5151 - val_accuracy: 0.4650\n",
      "Epoch 23/100\n",
      "1407/1407 [==============================] - 54s 38ms/step - loss: 1.4163 - accuracy: 0.4946 - val_loss: 1.5434 - val_accuracy: 0.4394\n",
      "Epoch 24/100\n",
      "1407/1407 [==============================] - 54s 39ms/step - loss: 1.4055 - accuracy: 0.4978 - val_loss: 1.5603 - val_accuracy: 0.4410\n",
      "Epoch 25/100\n",
      "1407/1407 [==============================] - ETA: 0s - loss: 1.3944 - accuracy: 0.5030INFO:tensorflow:Assets written to: model_cifar10.ckpt/assets\n"
     ]
    },
    {
     "name": "stderr",
     "output_type": "stream",
     "text": [
      "INFO:tensorflow:Assets written to: model_cifar10.ckpt/assets\n"
     ]
    },
    {
     "name": "stdout",
     "output_type": "stream",
     "text": [
      "1407/1407 [==============================] - 56s 40ms/step - loss: 1.3944 - accuracy: 0.5030 - val_loss: 1.4975 - val_accuracy: 0.4666\n",
      "Epoch 26/100\n",
      "1407/1407 [==============================] - 54s 38ms/step - loss: 1.3845 - accuracy: 0.5054 - val_loss: 1.5520 - val_accuracy: 0.4494\n",
      "Epoch 27/100\n",
      "1407/1407 [==============================] - 55s 39ms/step - loss: 1.3747 - accuracy: 0.5103 - val_loss: 1.5065 - val_accuracy: 0.4678\n",
      "Epoch 28/100\n",
      "1407/1407 [==============================] - 70s 50ms/step - loss: 1.3694 - accuracy: 0.5130 - val_loss: 1.5098 - val_accuracy: 0.4634\n",
      "Epoch 29/100\n",
      "1407/1407 [==============================] - 124s 88ms/step - loss: 1.3596 - accuracy: 0.5145 - val_loss: 1.5136 - val_accuracy: 0.4636\n",
      "Epoch 30/100\n",
      "1407/1407 [==============================] - 55s 39ms/step - loss: 1.3477 - accuracy: 0.5180 - val_loss: 1.6237 - val_accuracy: 0.4454\n",
      "Epoch 31/100\n",
      "1407/1407 [==============================] - 55s 39ms/step - loss: 1.3427 - accuracy: 0.5211 - val_loss: 1.5900 - val_accuracy: 0.4462\n",
      "Epoch 32/100\n",
      "1407/1407 [==============================] - 55s 39ms/step - loss: 1.3327 - accuracy: 0.5234 - val_loss: 1.5182 - val_accuracy: 0.4564\n",
      "Epoch 33/100\n",
      "1407/1407 [==============================] - 55s 39ms/step - loss: 1.3223 - accuracy: 0.5274 - val_loss: 1.5126 - val_accuracy: 0.4760\n",
      "Epoch 34/100\n",
      "1407/1407 [==============================] - 55s 39ms/step - loss: 1.3157 - accuracy: 0.5312 - val_loss: 1.5896 - val_accuracy: 0.4582\n",
      "Epoch 35/100\n",
      "1407/1407 [==============================] - 57s 41ms/step - loss: 1.3098 - accuracy: 0.5319 - val_loss: 1.5183 - val_accuracy: 0.4756\n"
     ]
    },
    {
     "data": {
      "text/plain": [
       "<keras.src.callbacks.History at 0x3213bf610>"
      ]
     },
     "execution_count": 14,
     "metadata": {},
     "output_type": "execute_result"
    }
   ],
   "source": [
    "model_cifar.fit(X_train, y_train, epochs=100, validation_data=(X_valid, y_valid), callbacks=callback_lst, verbose=1)"
   ]
  },
  {
   "cell_type": "code",
   "execution_count": 15,
   "metadata": {},
   "outputs": [
    {
     "name": "stdout",
     "output_type": "stream",
     "text": [
      "157/157 [==============================] - 1s 7ms/step - loss: 1.4975 - accuracy: 0.4666\n"
     ]
    },
    {
     "data": {
      "text/plain": [
       "[1.4974884986877441, 0.4666000008583069]"
      ]
     },
     "execution_count": 15,
     "metadata": {},
     "output_type": "execute_result"
    }
   ],
   "source": [
    "model_cifar.evaluate(X_valid, y_valid)"
   ]
  },
  {
   "cell_type": "markdown",
   "metadata": {},
   "source": [
    "### Model with BatchNormalization"
   ]
  },
  {
   "cell_type": "code",
   "execution_count": 17,
   "metadata": {},
   "outputs": [],
   "source": [
    "model_cifar_2 = tf.keras.Sequential()\n",
    "\n",
    "model_cifar_2.add(tf.keras.layers.Flatten(input_shape=(32, 32, 3)))\n",
    "\n",
    "for _ in range(20):\n",
    "    model_cifar_2.add(tf.keras.layers.Dense(100, kernel_initializer=\"he_normal\"))\n",
    "    model_cifar_2.add(tf.keras.layers.BatchNormalization())\n",
    "    model_cifar_2.add(tf.keras.layers.Activation(\"swish\"))\n",
    "\n",
    "model_cifar_2.add(tf.keras.layers.Dense(10, activation=\"softmax\"))"
   ]
  },
  {
   "cell_type": "code",
   "execution_count": 18,
   "metadata": {},
   "outputs": [],
   "source": [
    "model_cifar_2.compile(loss=\"sparse_categorical_crossentropy\", optimizer=tf.keras.optimizers.legacy.Nadam(learning_rate=5e-4), metrics=[\"accuracy\"])\n",
    "\n",
    "early_stopping_cb = tf.keras.callbacks.EarlyStopping(patience=10, restore_best_weights=True)\n",
    "model_ckpt_cb = tf.keras.callbacks.ModelCheckpoint(\"model_cifar10_BN.ckpt\", save_best_only=True)\n",
    "\n",
    "run_idx = 1\n",
    "run_logdir = Path() / \"cifar10_BN_logs\" / f\"run_{run_idx:03d}\"\n",
    "tensorboard_cb = tf.keras.callbacks.TensorBoard(run_logdir)"
   ]
  },
  {
   "cell_type": "code",
   "execution_count": 19,
   "metadata": {},
   "outputs": [
    {
     "name": "stdout",
     "output_type": "stream",
     "text": [
      "Epoch 1/100\n",
      "1407/1407 [==============================] - ETA: 0s - loss: 2.0516 - accuracy: 0.2493INFO:tensorflow:Assets written to: model_cifar10_BN.ckpt/assets\n"
     ]
    },
    {
     "name": "stderr",
     "output_type": "stream",
     "text": [
      "INFO:tensorflow:Assets written to: model_cifar10_BN.ckpt/assets\n"
     ]
    },
    {
     "name": "stdout",
     "output_type": "stream",
     "text": [
      "1407/1407 [==============================] - 154s 94ms/step - loss: 2.0516 - accuracy: 0.2493 - val_loss: 1.9194 - val_accuracy: 0.3210\n",
      "Epoch 2/100\n",
      "1407/1407 [==============================] - 122s 87ms/step - loss: 1.7941 - accuracy: 0.3541 - val_loss: 1.9652 - val_accuracy: 0.2990\n",
      "Epoch 3/100\n",
      "1407/1407 [==============================] - ETA: 0s - loss: 1.6885 - accuracy: 0.3957INFO:tensorflow:Assets written to: model_cifar10_BN.ckpt/assets\n"
     ]
    },
    {
     "name": "stderr",
     "output_type": "stream",
     "text": [
      "INFO:tensorflow:Assets written to: model_cifar10_BN.ckpt/assets\n"
     ]
    },
    {
     "name": "stdout",
     "output_type": "stream",
     "text": [
      "1407/1407 [==============================] - 126s 90ms/step - loss: 1.6885 - accuracy: 0.3957 - val_loss: 1.7603 - val_accuracy: 0.3510\n",
      "Epoch 4/100\n",
      "1407/1407 [==============================] - 122s 87ms/step - loss: 1.6176 - accuracy: 0.4205 - val_loss: 1.7798 - val_accuracy: 0.3562\n",
      "Epoch 5/100\n",
      "1407/1407 [==============================] - ETA: 0s - loss: 1.5627 - accuracy: 0.4438INFO:tensorflow:Assets written to: model_cifar10_BN.ckpt/assets\n"
     ]
    },
    {
     "name": "stderr",
     "output_type": "stream",
     "text": [
      "INFO:tensorflow:Assets written to: model_cifar10_BN.ckpt/assets\n"
     ]
    },
    {
     "name": "stdout",
     "output_type": "stream",
     "text": [
      "1407/1407 [==============================] - 201s 143ms/step - loss: 1.5627 - accuracy: 0.4438 - val_loss: 1.6296 - val_accuracy: 0.4134\n",
      "Epoch 6/100\n",
      "1407/1407 [==============================] - ETA: 0s - loss: 1.5125 - accuracy: 0.4626INFO:tensorflow:Assets written to: model_cifar10_BN.ckpt/assets\n"
     ]
    },
    {
     "name": "stderr",
     "output_type": "stream",
     "text": [
      "INFO:tensorflow:Assets written to: model_cifar10_BN.ckpt/assets\n"
     ]
    },
    {
     "name": "stdout",
     "output_type": "stream",
     "text": [
      "1407/1407 [==============================] - 537s 382ms/step - loss: 1.5125 - accuracy: 0.4626 - val_loss: 1.5547 - val_accuracy: 0.4526\n",
      "Epoch 7/100\n",
      "1407/1407 [==============================] - 122s 87ms/step - loss: 1.4639 - accuracy: 0.4801 - val_loss: 1.6329 - val_accuracy: 0.4204\n",
      "Epoch 8/100\n",
      "1407/1407 [==============================] - 122s 87ms/step - loss: 1.4256 - accuracy: 0.4946 - val_loss: 1.5887 - val_accuracy: 0.4356\n",
      "Epoch 9/100\n",
      "1407/1407 [==============================] - ETA: 0s - loss: 1.3925 - accuracy: 0.5089INFO:tensorflow:Assets written to: model_cifar10_BN.ckpt/assets\n"
     ]
    },
    {
     "name": "stderr",
     "output_type": "stream",
     "text": [
      "INFO:tensorflow:Assets written to: model_cifar10_BN.ckpt/assets\n"
     ]
    },
    {
     "name": "stdout",
     "output_type": "stream",
     "text": [
      "1407/1407 [==============================] - 126s 89ms/step - loss: 1.3925 - accuracy: 0.5089 - val_loss: 1.5417 - val_accuracy: 0.4560\n",
      "Epoch 10/100\n",
      "1407/1407 [==============================] - ETA: 0s - loss: 1.3602 - accuracy: 0.5188INFO:tensorflow:Assets written to: model_cifar10_BN.ckpt/assets\n"
     ]
    },
    {
     "name": "stderr",
     "output_type": "stream",
     "text": [
      "INFO:tensorflow:Assets written to: model_cifar10_BN.ckpt/assets\n"
     ]
    },
    {
     "name": "stdout",
     "output_type": "stream",
     "text": [
      "1407/1407 [==============================] - 126s 90ms/step - loss: 1.3602 - accuracy: 0.5188 - val_loss: 1.5251 - val_accuracy: 0.4602\n",
      "Epoch 11/100\n",
      "1407/1407 [==============================] - ETA: 0s - loss: 1.3341 - accuracy: 0.5265INFO:tensorflow:Assets written to: model_cifar10_BN.ckpt/assets\n"
     ]
    },
    {
     "name": "stderr",
     "output_type": "stream",
     "text": [
      "INFO:tensorflow:Assets written to: model_cifar10_BN.ckpt/assets\n"
     ]
    },
    {
     "name": "stdout",
     "output_type": "stream",
     "text": [
      "1407/1407 [==============================] - 128s 91ms/step - loss: 1.3341 - accuracy: 0.5265 - val_loss: 1.5029 - val_accuracy: 0.4746\n",
      "Epoch 12/100\n",
      "1407/1407 [==============================] - 124s 88ms/step - loss: 1.3014 - accuracy: 0.5418 - val_loss: 1.7394 - val_accuracy: 0.4026\n",
      "Epoch 13/100\n",
      "1407/1407 [==============================] - 121s 86ms/step - loss: 1.2806 - accuracy: 0.5477 - val_loss: 1.5940 - val_accuracy: 0.4458\n",
      "Epoch 14/100\n",
      "1407/1407 [==============================] - 122s 87ms/step - loss: 1.2523 - accuracy: 0.5583 - val_loss: 1.5170 - val_accuracy: 0.4642\n",
      "Epoch 15/100\n",
      "1407/1407 [==============================] - ETA: 0s - loss: 1.2286 - accuracy: 0.5641INFO:tensorflow:Assets written to: model_cifar10_BN.ckpt/assets\n"
     ]
    },
    {
     "name": "stderr",
     "output_type": "stream",
     "text": [
      "INFO:tensorflow:Assets written to: model_cifar10_BN.ckpt/assets\n"
     ]
    },
    {
     "name": "stdout",
     "output_type": "stream",
     "text": [
      "1407/1407 [==============================] - 126s 90ms/step - loss: 1.2286 - accuracy: 0.5641 - val_loss: 1.4798 - val_accuracy: 0.4938\n",
      "Epoch 16/100\n",
      "1407/1407 [==============================] - 124s 88ms/step - loss: 1.2170 - accuracy: 0.5664 - val_loss: 1.4881 - val_accuracy: 0.4818\n",
      "Epoch 17/100\n",
      "1407/1407 [==============================] - 122s 87ms/step - loss: 1.1898 - accuracy: 0.5807 - val_loss: 1.5437 - val_accuracy: 0.4674\n",
      "Epoch 18/100\n",
      "1407/1407 [==============================] - 122s 87ms/step - loss: 1.1703 - accuracy: 0.5906 - val_loss: 1.6278 - val_accuracy: 0.4376\n",
      "Epoch 19/100\n",
      "1407/1407 [==============================] - 124s 88ms/step - loss: 1.1566 - accuracy: 0.5943 - val_loss: 1.6980 - val_accuracy: 0.4228\n",
      "Epoch 20/100\n",
      "1407/1407 [==============================] - 124s 88ms/step - loss: 1.1379 - accuracy: 0.6014 - val_loss: 1.5466 - val_accuracy: 0.4652\n",
      "Epoch 21/100\n",
      "1407/1407 [==============================] - 121s 86ms/step - loss: 1.1241 - accuracy: 0.6054 - val_loss: 1.5049 - val_accuracy: 0.4886\n",
      "Epoch 22/100\n",
      "1407/1407 [==============================] - 120s 85ms/step - loss: 1.1051 - accuracy: 0.6115 - val_loss: 1.5156 - val_accuracy: 0.4908\n",
      "Epoch 23/100\n",
      "1407/1407 [==============================] - 122s 86ms/step - loss: 1.0942 - accuracy: 0.6148 - val_loss: 1.4862 - val_accuracy: 0.5016\n",
      "Epoch 24/100\n",
      "1407/1407 [==============================] - 123s 87ms/step - loss: 1.0750 - accuracy: 0.6252 - val_loss: 1.5066 - val_accuracy: 0.4840\n",
      "Epoch 25/100\n",
      "1407/1407 [==============================] - 122s 87ms/step - loss: 1.0624 - accuracy: 0.6298 - val_loss: 1.5707 - val_accuracy: 0.4708\n"
     ]
    },
    {
     "data": {
      "text/plain": [
       "<keras.src.callbacks.History at 0x3ae4ea4d0>"
      ]
     },
     "execution_count": 19,
     "metadata": {},
     "output_type": "execute_result"
    }
   ],
   "source": [
    "model_cifar_2.fit(X_train, y_train, epochs=100,\n",
    "          validation_data=(X_valid, y_valid),\n",
    "          callbacks=[early_stopping_cb, model_ckpt_cb, tensorboard_cb])"
   ]
  },
  {
   "cell_type": "code",
   "execution_count": 20,
   "metadata": {},
   "outputs": [
    {
     "name": "stdout",
     "output_type": "stream",
     "text": [
      "157/157 [==============================] - 2s 10ms/step - loss: 1.4798 - accuracy: 0.4938\n"
     ]
    },
    {
     "data": {
      "text/plain": [
       "[1.479790210723877, 0.49380001425743103]"
      ]
     },
     "execution_count": 20,
     "metadata": {},
     "output_type": "execute_result"
    }
   ],
   "source": [
    "model_cifar_2.evaluate(X_valid, y_valid)"
   ]
  },
  {
   "cell_type": "markdown",
   "metadata": {},
   "source": [
    "### Model with Dropout and it's variants"
   ]
  },
  {
   "cell_type": "code",
   "execution_count": 21,
   "metadata": {},
   "outputs": [],
   "source": [
    "model_cifar_3 = tf.keras.Sequential()\n",
    "model_cifar_3.add(tf.keras.layers.Flatten(input_shape=(32, 32, 3)))\n",
    "\n",
    "for _ in range(20):\n",
    "    model_cifar_3.add(tf.keras.layers.Dense(100, kernel_initializer=\"he_normal\", activation=\"swish\"))\n",
    "\n",
    "model_cifar_3.add(tf.keras.layers.Dropout(rate=0.2))\n",
    "model_cifar_3.add(tf.keras.layers.Dense(10, activation=\"softmax\"))"
   ]
  },
  {
   "cell_type": "code",
   "execution_count": 22,
   "metadata": {},
   "outputs": [],
   "source": [
    "model_cifar_3.compile(loss=\"sparse_categorical_crossentropy\", optimizer=tf.keras.optimizers.legacy.Nadam(learning_rate=5e-4), metrics=[\"accuracy\"])\n",
    "\n",
    "early_stopping_cb = tf.keras.callbacks.EarlyStopping(patience=10, restore_best_weights=True)\n",
    "model_ckpt_cb = tf.keras.callbacks.ModelCheckpoint(\"model_cifar10_Dropout.ckpt\", save_best_only=True)\n",
    "\n",
    "run_idx = 1\n",
    "run_logdir = Path() / \"cifar10_Dropout_logs\" / f\"run_{run_idx:03d}\"\n",
    "tensorboard_cb = tf.keras.callbacks.TensorBoard(run_logdir)"
   ]
  },
  {
   "cell_type": "code",
   "execution_count": 23,
   "metadata": {},
   "outputs": [
    {
     "name": "stdout",
     "output_type": "stream",
     "text": [
      "Epoch 1/100\n",
      "1407/1407 [==============================] - ETA: 0s - loss: 3.4996 - accuracy: 0.1857INFO:tensorflow:Assets written to: model_cifar10_Dropout.ckpt/assets\n"
     ]
    },
    {
     "name": "stderr",
     "output_type": "stream",
     "text": [
      "INFO:tensorflow:Assets written to: model_cifar10_Dropout.ckpt/assets\n"
     ]
    },
    {
     "name": "stdout",
     "output_type": "stream",
     "text": [
      "1407/1407 [==============================] - 68s 43ms/step - loss: 3.4996 - accuracy: 0.1857 - val_loss: 2.0639 - val_accuracy: 0.2206\n",
      "Epoch 2/100\n",
      "1407/1407 [==============================] - ETA: 0s - loss: 1.9770 - accuracy: 0.2596INFO:tensorflow:Assets written to: model_cifar10_Dropout.ckpt/assets\n"
     ]
    },
    {
     "name": "stderr",
     "output_type": "stream",
     "text": [
      "INFO:tensorflow:Assets written to: model_cifar10_Dropout.ckpt/assets\n"
     ]
    },
    {
     "name": "stdout",
     "output_type": "stream",
     "text": [
      "1407/1407 [==============================] - 58s 41ms/step - loss: 1.9770 - accuracy: 0.2596 - val_loss: 1.9412 - val_accuracy: 0.2714\n",
      "Epoch 3/100\n",
      "1407/1407 [==============================] - 55s 39ms/step - loss: 1.9104 - accuracy: 0.2894 - val_loss: 1.9439 - val_accuracy: 0.2736\n",
      "Epoch 4/100\n",
      "1407/1407 [==============================] - 56s 40ms/step - loss: 1.8645 - accuracy: 0.3094 - val_loss: 2.0662 - val_accuracy: 0.2592\n",
      "Epoch 5/100\n",
      "1407/1407 [==============================] - ETA: 0s - loss: 1.8238 - accuracy: 0.3317INFO:tensorflow:Assets written to: model_cifar10_Dropout.ckpt/assets\n"
     ]
    },
    {
     "name": "stderr",
     "output_type": "stream",
     "text": [
      "INFO:tensorflow:Assets written to: model_cifar10_Dropout.ckpt/assets\n"
     ]
    },
    {
     "name": "stdout",
     "output_type": "stream",
     "text": [
      "1407/1407 [==============================] - 58s 41ms/step - loss: 1.8238 - accuracy: 0.3317 - val_loss: 1.8384 - val_accuracy: 0.3302\n",
      "Epoch 6/100\n",
      "1407/1407 [==============================] - 56s 40ms/step - loss: 1.7842 - accuracy: 0.3486 - val_loss: 2.0090 - val_accuracy: 0.2940\n",
      "Epoch 7/100\n",
      "1407/1407 [==============================] - ETA: 0s - loss: 1.7442 - accuracy: 0.3653INFO:tensorflow:Assets written to: model_cifar10_Dropout.ckpt/assets\n"
     ]
    },
    {
     "name": "stderr",
     "output_type": "stream",
     "text": [
      "INFO:tensorflow:Assets written to: model_cifar10_Dropout.ckpt/assets\n"
     ]
    },
    {
     "name": "stdout",
     "output_type": "stream",
     "text": [
      "1407/1407 [==============================] - 58s 41ms/step - loss: 1.7442 - accuracy: 0.3653 - val_loss: 1.7443 - val_accuracy: 0.3736\n",
      "Epoch 8/100\n",
      "1407/1407 [==============================] - ETA: 0s - loss: 1.7163 - accuracy: 0.3794INFO:tensorflow:Assets written to: model_cifar10_Dropout.ckpt/assets\n"
     ]
    },
    {
     "name": "stderr",
     "output_type": "stream",
     "text": [
      "INFO:tensorflow:Assets written to: model_cifar10_Dropout.ckpt/assets\n"
     ]
    },
    {
     "name": "stdout",
     "output_type": "stream",
     "text": [
      "1407/1407 [==============================] - 54s 38ms/step - loss: 1.7163 - accuracy: 0.3794 - val_loss: 1.6807 - val_accuracy: 0.3910\n",
      "Epoch 9/100\n",
      "1407/1407 [==============================] - 44s 31ms/step - loss: 1.7319 - accuracy: 0.3787 - val_loss: 1.7275 - val_accuracy: 0.3830\n",
      "Epoch 10/100\n",
      "1407/1407 [==============================] - 44s 32ms/step - loss: 1.6861 - accuracy: 0.3922 - val_loss: 1.6924 - val_accuracy: 0.3844\n",
      "Epoch 11/100\n",
      "1407/1407 [==============================] - 44s 31ms/step - loss: 1.6585 - accuracy: 0.3993 - val_loss: 1.7676 - val_accuracy: 0.3624\n",
      "Epoch 12/100\n",
      "1407/1407 [==============================] - ETA: 0s - loss: 1.6434 - accuracy: 0.4075INFO:tensorflow:Assets written to: model_cifar10_Dropout.ckpt/assets\n"
     ]
    },
    {
     "name": "stderr",
     "output_type": "stream",
     "text": [
      "INFO:tensorflow:Assets written to: model_cifar10_Dropout.ckpt/assets\n"
     ]
    },
    {
     "name": "stdout",
     "output_type": "stream",
     "text": [
      "1407/1407 [==============================] - 46s 32ms/step - loss: 1.6434 - accuracy: 0.4075 - val_loss: 1.6382 - val_accuracy: 0.4200\n",
      "Epoch 13/100\n",
      "1407/1407 [==============================] - 45s 32ms/step - loss: 1.6182 - accuracy: 0.4188 - val_loss: 1.6707 - val_accuracy: 0.3960\n",
      "Epoch 14/100\n",
      "1407/1407 [==============================] - 45s 32ms/step - loss: 1.6029 - accuracy: 0.4239 - val_loss: 1.6544 - val_accuracy: 0.4184\n",
      "Epoch 15/100\n",
      "1407/1407 [==============================] - 47s 33ms/step - loss: 1.5883 - accuracy: 0.4300 - val_loss: 1.6590 - val_accuracy: 0.3940\n",
      "Epoch 16/100\n",
      "1407/1407 [==============================] - 44s 31ms/step - loss: 1.7332 - accuracy: 0.3702 - val_loss: 1.6658 - val_accuracy: 0.3878\n",
      "Epoch 17/100\n",
      "1407/1407 [==============================] - 46s 32ms/step - loss: 1.6414 - accuracy: 0.4095 - val_loss: 1.6733 - val_accuracy: 0.3926\n",
      "Epoch 18/100\n",
      "1407/1407 [==============================] - 45s 32ms/step - loss: 1.6162 - accuracy: 0.4169 - val_loss: 1.6580 - val_accuracy: 0.3942\n",
      "Epoch 19/100\n",
      "1407/1407 [==============================] - ETA: 0s - loss: 1.5879 - accuracy: 0.4279INFO:tensorflow:Assets written to: model_cifar10_Dropout.ckpt/assets\n"
     ]
    },
    {
     "name": "stderr",
     "output_type": "stream",
     "text": [
      "INFO:tensorflow:Assets written to: model_cifar10_Dropout.ckpt/assets\n"
     ]
    },
    {
     "name": "stdout",
     "output_type": "stream",
     "text": [
      "1407/1407 [==============================] - 46s 33ms/step - loss: 1.5879 - accuracy: 0.4279 - val_loss: 1.6268 - val_accuracy: 0.4208\n",
      "Epoch 20/100\n",
      "1407/1407 [==============================] - 45s 32ms/step - loss: 1.5697 - accuracy: 0.4343 - val_loss: 1.6385 - val_accuracy: 0.4080\n",
      "Epoch 21/100\n",
      "1407/1407 [==============================] - ETA: 0s - loss: 1.5537 - accuracy: 0.4421INFO:tensorflow:Assets written to: model_cifar10_Dropout.ckpt/assets\n"
     ]
    },
    {
     "name": "stderr",
     "output_type": "stream",
     "text": [
      "INFO:tensorflow:Assets written to: model_cifar10_Dropout.ckpt/assets\n"
     ]
    },
    {
     "name": "stdout",
     "output_type": "stream",
     "text": [
      "1407/1407 [==============================] - 47s 33ms/step - loss: 1.5537 - accuracy: 0.4421 - val_loss: 1.5892 - val_accuracy: 0.4284\n",
      "Epoch 22/100\n",
      "1407/1407 [==============================] - ETA: 0s - loss: 1.5346 - accuracy: 0.4493INFO:tensorflow:Assets written to: model_cifar10_Dropout.ckpt/assets\n"
     ]
    },
    {
     "name": "stderr",
     "output_type": "stream",
     "text": [
      "INFO:tensorflow:Assets written to: model_cifar10_Dropout.ckpt/assets\n"
     ]
    },
    {
     "name": "stdout",
     "output_type": "stream",
     "text": [
      "1407/1407 [==============================] - 47s 33ms/step - loss: 1.5346 - accuracy: 0.4493 - val_loss: 1.5759 - val_accuracy: 0.4348\n",
      "Epoch 23/100\n",
      "1407/1407 [==============================] - 45s 32ms/step - loss: 1.5217 - accuracy: 0.4547 - val_loss: 1.6120 - val_accuracy: 0.4234\n",
      "Epoch 24/100\n",
      "1407/1407 [==============================] - 46s 32ms/step - loss: 1.5115 - accuracy: 0.4589 - val_loss: 1.5825 - val_accuracy: 0.4348\n",
      "Epoch 25/100\n",
      "1407/1407 [==============================] - ETA: 0s - loss: 1.4987 - accuracy: 0.4639INFO:tensorflow:Assets written to: model_cifar10_Dropout.ckpt/assets\n"
     ]
    },
    {
     "name": "stderr",
     "output_type": "stream",
     "text": [
      "INFO:tensorflow:Assets written to: model_cifar10_Dropout.ckpt/assets\n"
     ]
    },
    {
     "name": "stdout",
     "output_type": "stream",
     "text": [
      "1407/1407 [==============================] - 47s 34ms/step - loss: 1.4987 - accuracy: 0.4639 - val_loss: 1.5584 - val_accuracy: 0.4496\n",
      "Epoch 26/100\n",
      "1407/1407 [==============================] - 46s 33ms/step - loss: 1.4861 - accuracy: 0.4684 - val_loss: 1.5808 - val_accuracy: 0.4322\n",
      "Epoch 27/100\n",
      "1407/1407 [==============================] - 46s 33ms/step - loss: 1.4770 - accuracy: 0.4726 - val_loss: 1.5805 - val_accuracy: 0.4368\n",
      "Epoch 28/100\n",
      "1407/1407 [==============================] - 46s 33ms/step - loss: 1.4665 - accuracy: 0.4752 - val_loss: 1.5901 - val_accuracy: 0.4278\n",
      "Epoch 29/100\n",
      "1407/1407 [==============================] - 46s 33ms/step - loss: 1.4644 - accuracy: 0.4755 - val_loss: 1.5606 - val_accuracy: 0.4488\n",
      "Epoch 30/100\n",
      "1407/1407 [==============================] - 47s 33ms/step - loss: 1.5043 - accuracy: 0.4625 - val_loss: 1.6383 - val_accuracy: 0.4086\n",
      "Epoch 31/100\n",
      "1407/1407 [==============================] - ETA: 0s - loss: 1.4636 - accuracy: 0.4766INFO:tensorflow:Assets written to: model_cifar10_Dropout.ckpt/assets\n"
     ]
    },
    {
     "name": "stderr",
     "output_type": "stream",
     "text": [
      "INFO:tensorflow:Assets written to: model_cifar10_Dropout.ckpt/assets\n"
     ]
    },
    {
     "name": "stdout",
     "output_type": "stream",
     "text": [
      "1407/1407 [==============================] - 49s 35ms/step - loss: 1.4636 - accuracy: 0.4766 - val_loss: 1.5374 - val_accuracy: 0.4564\n",
      "Epoch 32/100\n",
      "1407/1407 [==============================] - 46s 33ms/step - loss: 1.4358 - accuracy: 0.4857 - val_loss: 1.5639 - val_accuracy: 0.4462\n",
      "Epoch 33/100\n",
      "1407/1407 [==============================] - 47s 33ms/step - loss: 1.4254 - accuracy: 0.4877 - val_loss: 1.5416 - val_accuracy: 0.4490\n",
      "Epoch 34/100\n",
      "1407/1407 [==============================] - 46s 33ms/step - loss: 1.4211 - accuracy: 0.4898 - val_loss: 1.5868 - val_accuracy: 0.4458\n",
      "Epoch 35/100\n",
      "1407/1407 [==============================] - 46s 33ms/step - loss: 1.4123 - accuracy: 0.4930 - val_loss: 1.5512 - val_accuracy: 0.4542\n",
      "Epoch 36/100\n",
      "1407/1407 [==============================] - 47s 34ms/step - loss: 1.4075 - accuracy: 0.4953 - val_loss: 1.5617 - val_accuracy: 0.4546\n",
      "Epoch 37/100\n",
      "1407/1407 [==============================] - ETA: 0s - loss: 1.3989 - accuracy: 0.4989INFO:tensorflow:Assets written to: model_cifar10_Dropout.ckpt/assets\n"
     ]
    },
    {
     "name": "stderr",
     "output_type": "stream",
     "text": [
      "INFO:tensorflow:Assets written to: model_cifar10_Dropout.ckpt/assets\n"
     ]
    },
    {
     "name": "stdout",
     "output_type": "stream",
     "text": [
      "1407/1407 [==============================] - 47s 34ms/step - loss: 1.3989 - accuracy: 0.4989 - val_loss: 1.5208 - val_accuracy: 0.4616\n",
      "Epoch 38/100\n",
      "1407/1407 [==============================] - 46s 33ms/step - loss: 1.3924 - accuracy: 0.5021 - val_loss: 1.5561 - val_accuracy: 0.4520\n",
      "Epoch 39/100\n",
      "1407/1407 [==============================] - 46s 32ms/step - loss: 1.3821 - accuracy: 0.5037 - val_loss: 1.5479 - val_accuracy: 0.4480\n",
      "Epoch 40/100\n",
      "1407/1407 [==============================] - 46s 32ms/step - loss: 1.3773 - accuracy: 0.5054 - val_loss: 1.5615 - val_accuracy: 0.4522\n",
      "Epoch 41/100\n",
      "1407/1407 [==============================] - 45s 32ms/step - loss: 1.3696 - accuracy: 0.5096 - val_loss: 1.5719 - val_accuracy: 0.4550\n",
      "Epoch 42/100\n",
      "1407/1407 [==============================] - 45s 32ms/step - loss: 1.3673 - accuracy: 0.5123 - val_loss: 1.5377 - val_accuracy: 0.4606\n",
      "Epoch 43/100\n",
      "1407/1407 [==============================] - 45s 32ms/step - loss: 1.3582 - accuracy: 0.5122 - val_loss: 1.5585 - val_accuracy: 0.4492\n",
      "Epoch 44/100\n",
      "1407/1407 [==============================] - 45s 32ms/step - loss: 1.3517 - accuracy: 0.5156 - val_loss: 1.5623 - val_accuracy: 0.4500\n",
      "Epoch 45/100\n",
      "1407/1407 [==============================] - 45s 32ms/step - loss: 1.3452 - accuracy: 0.5198 - val_loss: 1.5393 - val_accuracy: 0.4598\n",
      "Epoch 46/100\n",
      "1407/1407 [==============================] - 46s 32ms/step - loss: 1.3367 - accuracy: 0.5223 - val_loss: 1.5412 - val_accuracy: 0.4608\n",
      "Epoch 47/100\n",
      "1407/1407 [==============================] - 46s 33ms/step - loss: 1.3279 - accuracy: 0.5227 - val_loss: 1.5396 - val_accuracy: 0.4542\n"
     ]
    },
    {
     "data": {
      "text/plain": [
       "<keras.src.callbacks.History at 0x4ce888b50>"
      ]
     },
     "execution_count": 23,
     "metadata": {},
     "output_type": "execute_result"
    }
   ],
   "source": [
    "model_cifar_3.fit(X_train, y_train, epochs=100,\n",
    "          validation_data=(X_valid, y_valid),\n",
    "          callbacks=[early_stopping_cb, model_ckpt_cb, tensorboard_cb])"
   ]
  },
  {
   "cell_type": "code",
   "execution_count": 31,
   "metadata": {},
   "outputs": [
    {
     "name": "stdout",
     "output_type": "stream",
     "text": [
      "157/157 [==============================] - 1s 6ms/step - loss: 2.3027 - accuracy: 0.0972\n"
     ]
    },
    {
     "data": {
      "text/plain": [
       "[2.3027231693267822, 0.09719999879598618]"
      ]
     },
     "execution_count": 31,
     "metadata": {},
     "output_type": "execute_result"
    }
   ],
   "source": [
    "model_cifar_3.evaluate(X_valid, y_valid)"
   ]
  },
  {
   "cell_type": "markdown",
   "metadata": {},
   "source": [
    "### Summary\n",
    "- Model 1: `model_cifar`; `validation acc`: `46.66%`\n",
    "- Model 2: `model_cifar_2`: `validation acc`: `49.38%`\n",
    "- Model 3: `model_cifar_3`: `validation acc`: `9.72%`\n"
   ]
  },
  {
   "cell_type": "code",
   "execution_count": 24,
   "metadata": {},
   "outputs": [],
   "source": [
    "class MCDropout(tf.keras.layers.Dropout):\n",
    "    def call(self, inputs):\n",
    "        return super().call(inputs, training=True)\n",
    "    \n",
    "model_mcd = tf.keras.Sequential([\n",
    "    MCDropout(layer.rate) if isinstance(layer, tf.keras.layers.Dropout)\n",
    "    else layer for layer in model_cifar_3.layers\n",
    "])"
   ]
  },
  {
   "cell_type": "code",
   "execution_count": 25,
   "metadata": {},
   "outputs": [],
   "source": [
    "def mc_dropout_predict_probas(mc_model, X, n_samples=1000):\n",
    "    Y_probas = [mc_model.predict(X) for sample in range(n_samples)]\n",
    "    return np.mean(Y_probas, axis=0)\n",
    "\n",
    "def mc_dropout_predict_classes(mc_model, X, n_samples=1000):\n",
    "    Y_probas = mc_dropout_predict_probas(mc_model, X, n_samples)\n",
    "    return Y_probas.argmax(axis=1)"
   ]
  },
  {
   "cell_type": "code",
   "execution_count": null,
   "metadata": {},
   "outputs": [],
   "source": [
    "tf.random.set_seed(42)\n",
    "\n",
    "y_pred = mc_dropout_predict_classes(model_mcd, X_valid)\n",
    "accuracy = (y_pred == y_valid[:, 0]).mean()\n",
    "accuracy"
   ]
  },
  {
   "cell_type": "markdown",
   "metadata": {},
   "source": [
    "### Utilities"
   ]
  },
  {
   "cell_type": "markdown",
   "metadata": {},
   "source": [
    "The `find_learning_rate()` function trains the model using the `ExponentialLearningRate` callback, and it returns the learning rates and corresponding batch losses. \n",
    "At the end, it restores the model and its optimizer to their initial state."
   ]
  },
  {
   "cell_type": "code",
   "execution_count": 26,
   "metadata": {},
   "outputs": [],
   "source": [
    "import math\n",
    "K = tf.keras.backend\n",
    "\n",
    "class ExponentialLearningRate(tf.keras.callbacks.Callback):\n",
    "    def __init__(self, factor):\n",
    "        self.factor = factor\n",
    "        self.rates = []\n",
    "        self.losses = []\n",
    "\n",
    "    def on_epoch_begin(self, epoch, logs=None):\n",
    "        self.sum_of_epoch_losses = 0\n",
    "\n",
    "    def on_batch_end(self, batch, logs=None):\n",
    "        mean_epoch_loss = logs[\"loss\"]  # the epoch's mean loss so far \n",
    "        new_sum_of_epoch_losses = mean_epoch_loss * (batch + 1)\n",
    "        batch_loss = new_sum_of_epoch_losses - self.sum_of_epoch_losses\n",
    "        self.sum_of_epoch_losses = new_sum_of_epoch_losses\n",
    "        self.rates.append(K.get_value(self.model.optimizer.learning_rate))\n",
    "        self.losses.append(batch_loss)\n",
    "        K.set_value(self.model.optimizer.learning_rate,\n",
    "                    self.model.optimizer.learning_rate * self.factor)\n",
    "\n",
    "def find_learning_rate(model, X, y, epochs=1, batch_size=32, min_rate=1e-4,\n",
    "                       max_rate=1):\n",
    "    init_weights = model.get_weights()\n",
    "    iterations = math.ceil(len(X) / batch_size) * epochs\n",
    "    factor = (max_rate / min_rate) ** (1 / iterations)\n",
    "    init_lr = K.get_value(model.optimizer.learning_rate)\n",
    "    K.set_value(model.optimizer.learning_rate, min_rate)\n",
    "    exp_lr = ExponentialLearningRate(factor)\n",
    "    history = model.fit(X, y, epochs=epochs, batch_size=batch_size,\n",
    "                        callbacks=[exp_lr])\n",
    "    K.set_value(model.optimizer.learning_rate, init_lr)\n",
    "    model.set_weights(init_weights)\n",
    "    return exp_lr.rates, exp_lr.losses"
   ]
  },
  {
   "cell_type": "markdown",
   "metadata": {},
   "source": [
    "The `OneCycleScheduler` custom callback updates the learning rate at the beginning of each batch. It applies the logic: increase the learning rate linearly during about half of training, then reduce it linearly back to the initial learning rate, and lastly reduce it down to close to zero linearly for the very last part of training."
   ]
  },
  {
   "cell_type": "code",
   "execution_count": 27,
   "metadata": {},
   "outputs": [],
   "source": [
    "class OneCycleScheduler(tf.keras.callbacks.Callback):\n",
    "    def __init__(self, iterations, max_lr=1e-3, start_lr=None,\n",
    "                 last_iterations=None, last_lr=None):\n",
    "        self.iterations = iterations\n",
    "        self.max_lr = max_lr\n",
    "        self.start_lr = start_lr or max_lr / 10\n",
    "        self.last_iterations = last_iterations or iterations // 10 + 1\n",
    "        self.half_iteration = (iterations - self.last_iterations) // 2\n",
    "        self.last_lr = last_lr or self.start_lr / 1000\n",
    "        self.iteration = 0\n",
    "\n",
    "    def _interpolate(self, iter1, iter2, lr1, lr2):\n",
    "        return (lr2 - lr1) * (self.iteration - iter1) / (iter2 - iter1) + lr1\n",
    "\n",
    "    def on_batch_begin(self, batch, logs):\n",
    "        if self.iteration < self.half_iteration:\n",
    "            lr = self._interpolate(0, self.half_iteration, self.start_lr,\n",
    "                                   self.max_lr)\n",
    "        elif self.iteration < 2 * self.half_iteration:\n",
    "            lr = self._interpolate(self.half_iteration, 2 * self.half_iteration,\n",
    "                                   self.max_lr, self.start_lr)\n",
    "        else:\n",
    "            lr = self._interpolate(2 * self.half_iteration, self.iterations,\n",
    "                                   self.start_lr, self.last_lr)\n",
    "        self.iteration += 1\n",
    "        K.set_value(self.model.optimizer.learning_rate, lr)"
   ]
  },
  {
   "cell_type": "code",
   "execution_count": 28,
   "metadata": {},
   "outputs": [
    {
     "name": "stdout",
     "output_type": "stream",
     "text": [
      "Epoch 1/50\n",
      "352/352 [==============================] - 16s 37ms/step - loss: 22.8247 - accuracy: 0.1200 - val_loss: 2.3029 - val_accuracy: 0.1010\n",
      "Epoch 2/50\n",
      "352/352 [==============================] - 12s 33ms/step - loss: 2.3029 - accuracy: 0.1004 - val_loss: 2.3032 - val_accuracy: 0.0972\n",
      "Epoch 3/50\n",
      "352/352 [==============================] - 11s 32ms/step - loss: 2.3031 - accuracy: 0.0996 - val_loss: 2.3031 - val_accuracy: 0.1010\n",
      "Epoch 4/50\n",
      "352/352 [==============================] - 11s 32ms/step - loss: 2.3032 - accuracy: 0.0968 - val_loss: 2.3027 - val_accuracy: 0.0996\n",
      "Epoch 5/50\n",
      "352/352 [==============================] - 11s 32ms/step - loss: 2.3033 - accuracy: 0.0999 - val_loss: 2.3032 - val_accuracy: 0.1010\n",
      "Epoch 6/50\n",
      "352/352 [==============================] - 11s 32ms/step - loss: 2.3037 - accuracy: 0.0980 - val_loss: 2.3030 - val_accuracy: 0.0920\n",
      "Epoch 7/50\n",
      "352/352 [==============================] - 11s 32ms/step - loss: 2.3035 - accuracy: 0.0976 - val_loss: 2.3057 - val_accuracy: 0.0976\n",
      "Epoch 8/50\n",
      "352/352 [==============================] - 11s 31ms/step - loss: 2.3040 - accuracy: 0.0952 - val_loss: 2.3039 - val_accuracy: 0.0920\n",
      "Epoch 9/50\n",
      "352/352 [==============================] - 11s 31ms/step - loss: 2.3037 - accuracy: 0.1001 - val_loss: 2.3043 - val_accuracy: 0.1040\n",
      "Epoch 10/50\n",
      "352/352 [==============================] - 11s 32ms/step - loss: 2.3041 - accuracy: 0.0984 - val_loss: 2.3031 - val_accuracy: 0.0996\n",
      "Epoch 11/50\n",
      "352/352 [==============================] - 11s 31ms/step - loss: 2.3041 - accuracy: 0.0988 - val_loss: 2.3053 - val_accuracy: 0.0996\n",
      "Epoch 12/50\n",
      "352/352 [==============================] - 11s 31ms/step - loss: 2.3043 - accuracy: 0.0997 - val_loss: 2.3072 - val_accuracy: 0.0920\n",
      "Epoch 13/50\n",
      "352/352 [==============================] - 11s 31ms/step - loss: 2.3043 - accuracy: 0.0980 - val_loss: 2.3044 - val_accuracy: 0.1038\n",
      "Epoch 14/50\n",
      "352/352 [==============================] - 11s 31ms/step - loss: 2.3048 - accuracy: 0.0988 - val_loss: 2.3025 - val_accuracy: 0.1038\n",
      "Epoch 15/50\n",
      "352/352 [==============================] - 11s 31ms/step - loss: 2.3046 - accuracy: 0.0981 - val_loss: 2.3037 - val_accuracy: 0.1038\n",
      "Epoch 16/50\n",
      "352/352 [==============================] - 11s 31ms/step - loss: 2.3045 - accuracy: 0.1000 - val_loss: 2.3049 - val_accuracy: 0.1010\n",
      "Epoch 17/50\n",
      "352/352 [==============================] - 11s 31ms/step - loss: 2.3051 - accuracy: 0.0975 - val_loss: 2.3068 - val_accuracy: 0.1038\n",
      "Epoch 18/50\n",
      "352/352 [==============================] - 11s 31ms/step - loss: 2.3053 - accuracy: 0.0990 - val_loss: 2.3046 - val_accuracy: 0.1038\n",
      "Epoch 19/50\n",
      "352/352 [==============================] - 11s 32ms/step - loss: 2.3047 - accuracy: 0.1005 - val_loss: 2.3097 - val_accuracy: 0.1038\n",
      "Epoch 20/50\n",
      "352/352 [==============================] - 11s 31ms/step - loss: 2.3054 - accuracy: 0.1006 - val_loss: 2.3054 - val_accuracy: 0.1040\n",
      "Epoch 21/50\n",
      "352/352 [==============================] - 11s 31ms/step - loss: 2.3049 - accuracy: 0.0989 - val_loss: 2.3074 - val_accuracy: 0.1010\n",
      "Epoch 22/50\n",
      "352/352 [==============================] - 11s 32ms/step - loss: 2.3052 - accuracy: 0.0976 - val_loss: 2.3037 - val_accuracy: 0.1038\n",
      "Epoch 23/50\n",
      "352/352 [==============================] - 11s 31ms/step - loss: 2.3055 - accuracy: 0.0995 - val_loss: 2.3060 - val_accuracy: 0.1038\n",
      "Epoch 24/50\n",
      "352/352 [==============================] - 11s 32ms/step - loss: 2.3059 - accuracy: 0.0992 - val_loss: 2.3071 - val_accuracy: 0.0972\n",
      "Epoch 25/50\n",
      "352/352 [==============================] - 11s 33ms/step - loss: 2.3054 - accuracy: 0.1003 - val_loss: 2.3056 - val_accuracy: 0.1040\n",
      "Epoch 26/50\n",
      "352/352 [==============================] - 12s 33ms/step - loss: 2.3054 - accuracy: 0.1005 - val_loss: 2.3032 - val_accuracy: 0.1038\n",
      "Epoch 27/50\n",
      "352/352 [==============================] - 12s 33ms/step - loss: 2.3051 - accuracy: 0.1002 - val_loss: 2.3063 - val_accuracy: 0.0972\n",
      "Epoch 28/50\n",
      "352/352 [==============================] - 12s 33ms/step - loss: 2.3051 - accuracy: 0.0988 - val_loss: 2.3031 - val_accuracy: 0.1010\n",
      "Epoch 29/50\n",
      "352/352 [==============================] - 12s 33ms/step - loss: 2.3050 - accuracy: 0.0994 - val_loss: 2.3039 - val_accuracy: 0.0976\n",
      "Epoch 30/50\n",
      "352/352 [==============================] - 12s 34ms/step - loss: 2.3048 - accuracy: 0.0999 - val_loss: 2.3033 - val_accuracy: 0.1038\n",
      "Epoch 31/50\n",
      "352/352 [==============================] - 12s 33ms/step - loss: 2.3043 - accuracy: 0.1015 - val_loss: 2.3035 - val_accuracy: 0.1040\n",
      "Epoch 32/50\n",
      "352/352 [==============================] - 12s 33ms/step - loss: 2.3047 - accuracy: 0.0972 - val_loss: 2.3037 - val_accuracy: 0.1010\n",
      "Epoch 33/50\n",
      "352/352 [==============================] - 12s 33ms/step - loss: 2.3047 - accuracy: 0.0996 - val_loss: 2.3049 - val_accuracy: 0.0976\n",
      "Epoch 34/50\n",
      "352/352 [==============================] - 12s 33ms/step - loss: 2.3042 - accuracy: 0.0977 - val_loss: 2.3034 - val_accuracy: 0.1038\n",
      "Epoch 35/50\n",
      "352/352 [==============================] - 12s 33ms/step - loss: 2.3039 - accuracy: 0.1004 - val_loss: 2.3071 - val_accuracy: 0.0920\n",
      "Epoch 36/50\n",
      "352/352 [==============================] - 12s 33ms/step - loss: 2.3042 - accuracy: 0.0981 - val_loss: 2.3053 - val_accuracy: 0.0920\n",
      "Epoch 37/50\n",
      "352/352 [==============================] - 12s 33ms/step - loss: 2.3040 - accuracy: 0.1000 - val_loss: 2.3037 - val_accuracy: 0.0976\n",
      "Epoch 38/50\n",
      "352/352 [==============================] - 12s 33ms/step - loss: 2.3039 - accuracy: 0.1016 - val_loss: 2.3031 - val_accuracy: 0.1038\n",
      "Epoch 39/50\n",
      "352/352 [==============================] - 11s 33ms/step - loss: 2.3039 - accuracy: 0.0991 - val_loss: 2.3038 - val_accuracy: 0.1038\n",
      "Epoch 40/50\n",
      "352/352 [==============================] - 11s 33ms/step - loss: 2.3037 - accuracy: 0.1003 - val_loss: 2.3032 - val_accuracy: 0.0972\n",
      "Epoch 41/50\n",
      "352/352 [==============================] - 11s 32ms/step - loss: 2.3035 - accuracy: 0.0981 - val_loss: 2.3028 - val_accuracy: 0.0972\n",
      "Epoch 42/50\n",
      "352/352 [==============================] - 11s 32ms/step - loss: 2.3033 - accuracy: 0.1010 - val_loss: 2.3049 - val_accuracy: 0.0972\n",
      "Epoch 43/50\n",
      "352/352 [==============================] - 11s 32ms/step - loss: 2.3032 - accuracy: 0.1011 - val_loss: 2.3037 - val_accuracy: 0.0920\n",
      "Epoch 44/50\n",
      "352/352 [==============================] - 11s 32ms/step - loss: 2.3031 - accuracy: 0.0985 - val_loss: 2.3033 - val_accuracy: 0.1040\n",
      "Epoch 45/50\n",
      "352/352 [==============================] - 11s 32ms/step - loss: 2.3030 - accuracy: 0.0968 - val_loss: 2.3033 - val_accuracy: 0.1038\n",
      "Epoch 46/50\n",
      "352/352 [==============================] - 11s 32ms/step - loss: 2.3030 - accuracy: 0.0986 - val_loss: 2.3031 - val_accuracy: 0.1010\n",
      "Epoch 47/50\n",
      "352/352 [==============================] - 11s 32ms/step - loss: 2.3029 - accuracy: 0.1001 - val_loss: 2.3029 - val_accuracy: 0.0972\n",
      "Epoch 48/50\n",
      "352/352 [==============================] - 11s 32ms/step - loss: 2.3028 - accuracy: 0.0972 - val_loss: 2.3030 - val_accuracy: 0.0972\n",
      "Epoch 49/50\n",
      "352/352 [==============================] - 12s 33ms/step - loss: 2.3028 - accuracy: 0.0989 - val_loss: 2.3027 - val_accuracy: 0.0920\n",
      "Epoch 50/50\n",
      "352/352 [==============================] - 11s 32ms/step - loss: 2.3027 - accuracy: 0.0991 - val_loss: 2.3027 - val_accuracy: 0.0972\n"
     ]
    }
   ],
   "source": [
    "n_epochs = 50\n",
    "batch_size = 128\n",
    "\n",
    "n_iterations = math.ceil(len(X_train) / batch_size) * n_epochs\n",
    "onecycle = OneCycleScheduler(n_iterations, max_lr=0.05)\n",
    "history = model_cifar_3.fit(X_train, y_train, epochs=n_epochs, batch_size=batch_size,\n",
    "                    validation_data=(X_valid, y_valid),\n",
    "                    callbacks=[onecycle])"
   ]
  },
  {
   "cell_type": "code",
   "execution_count": 30,
   "metadata": {},
   "outputs": [],
   "source": [
    "# history2 = model_cifar_2.fit(X_train, y_train, epochs=n_epochs, batch_size=batch_size,\n",
    "#                     validation_data=(X_valid, y_valid),\n",
    "#                     callbacks=[onecycle])"
   ]
  },
  {
   "cell_type": "code",
   "execution_count": null,
   "metadata": {},
   "outputs": [],
   "source": []
  }
 ],
 "metadata": {
  "kernelspec": {
   "display_name": "tfpy",
   "language": "python",
   "name": "python3"
  },
  "language_info": {
   "codemirror_mode": {
    "name": "ipython",
    "version": 3
   },
   "file_extension": ".py",
   "mimetype": "text/x-python",
   "name": "python",
   "nbconvert_exporter": "python",
   "pygments_lexer": "ipython3",
   "version": "3.11.7"
  }
 },
 "nbformat": 4,
 "nbformat_minor": 2
}
