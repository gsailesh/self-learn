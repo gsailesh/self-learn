{
 "cells": [
  {
   "cell_type": "code",
   "execution_count": 1,
   "metadata": {},
   "outputs": [],
   "source": [
    "import tensorflow as tf\n",
    "import numpy as np"
   ]
  },
  {
   "cell_type": "code",
   "execution_count": 2,
   "metadata": {},
   "outputs": [
    {
     "data": {
      "text/plain": [
       "'2.15.0'"
      ]
     },
     "execution_count": 2,
     "metadata": {},
     "output_type": "execute_result"
    }
   ],
   "source": [
    "tf.__version__"
   ]
  },
  {
   "cell_type": "code",
   "execution_count": 3,
   "metadata": {},
   "outputs": [],
   "source": [
    "tf.random.set_seed(42)"
   ]
  },
  {
   "cell_type": "code",
   "execution_count": 4,
   "metadata": {},
   "outputs": [
    {
     "data": {
      "text/plain": [
       "((45000, 32, 32, 3),\n",
       " (45000, 1),\n",
       " (5000, 32, 32, 3),\n",
       " (5000, 1),\n",
       " (50000, 32, 32, 3),\n",
       " (50000, 1))"
      ]
     },
     "execution_count": 4,
     "metadata": {},
     "output_type": "execute_result"
    }
   ],
   "source": [
    "(X_train_full, y_train_full), (X_test, y_test) = tf.keras.datasets.cifar10.load_data()\n",
    "\n",
    "X_train = X_train_full[5000:]\n",
    "y_train = y_train_full[5000:]\n",
    "\n",
    "X_valid = X_train_full[:5000]\n",
    "y_valid = y_train_full[:5000]\n",
    "\n",
    "X_train.shape, y_train.shape, X_valid.shape, y_valid.shape, X_train_full.shape, y_train_full.shape"
   ]
  },
  {
   "cell_type": "code",
   "execution_count": 9,
   "metadata": {},
   "outputs": [],
   "source": [
    "model_cifar10 = tf.keras.Sequential()\n",
    "\n",
    "model_cifar10.add(tf.keras.layers.Flatten(input_shape=X_train[0].shape))\n",
    "\n",
    "for _ in range(20):\n",
    "    model_cifar10.add(tf.keras.layers.Dense(units=100, activation=\"swish\", kernel_initializer=\"he_normal\"))\n",
    "\n",
    "model_cifar10.add(tf.keras.layers.Dense(10, activation=\"softmax\"))\n"
   ]
  },
  {
   "cell_type": "code",
   "execution_count": 10,
   "metadata": {},
   "outputs": [
    {
     "name": "stdout",
     "output_type": "stream",
     "text": [
      "Model: \"sequential_1\"\n",
      "_________________________________________________________________\n",
      " Layer (type)                Output Shape              Param #   \n",
      "=================================================================\n",
      " flatten (Flatten)           (None, 3072)              0         \n",
      "                                                                 \n",
      " dense_20 (Dense)            (None, 100)               307300    \n",
      "                                                                 \n",
      " dense_21 (Dense)            (None, 100)               10100     \n",
      "                                                                 \n",
      " dense_22 (Dense)            (None, 100)               10100     \n",
      "                                                                 \n",
      " dense_23 (Dense)            (None, 100)               10100     \n",
      "                                                                 \n",
      " dense_24 (Dense)            (None, 100)               10100     \n",
      "                                                                 \n",
      " dense_25 (Dense)            (None, 100)               10100     \n",
      "                                                                 \n",
      " dense_26 (Dense)            (None, 100)               10100     \n",
      "                                                                 \n",
      " dense_27 (Dense)            (None, 100)               10100     \n",
      "                                                                 \n",
      " dense_28 (Dense)            (None, 100)               10100     \n",
      "                                                                 \n",
      " dense_29 (Dense)            (None, 100)               10100     \n",
      "                                                                 \n",
      " dense_30 (Dense)            (None, 100)               10100     \n",
      "                                                                 \n",
      " dense_31 (Dense)            (None, 100)               10100     \n",
      "                                                                 \n",
      " dense_32 (Dense)            (None, 100)               10100     \n",
      "                                                                 \n",
      " dense_33 (Dense)            (None, 100)               10100     \n",
      "                                                                 \n",
      " dense_34 (Dense)            (None, 100)               10100     \n",
      "                                                                 \n",
      " dense_35 (Dense)            (None, 100)               10100     \n",
      "                                                                 \n",
      " dense_36 (Dense)            (None, 100)               10100     \n",
      "                                                                 \n",
      " dense_37 (Dense)            (None, 100)               10100     \n",
      "                                                                 \n",
      " dense_38 (Dense)            (None, 100)               10100     \n",
      "                                                                 \n",
      " dense_39 (Dense)            (None, 100)               10100     \n",
      "                                                                 \n",
      " dense_40 (Dense)            (None, 10)                1010      \n",
      "                                                                 \n",
      "=================================================================\n",
      "Total params: 500210 (1.91 MB)\n",
      "Trainable params: 500210 (1.91 MB)\n",
      "Non-trainable params: 0 (0.00 Byte)\n",
      "_________________________________________________________________\n"
     ]
    }
   ],
   "source": [
    "model_cifar10.summary()"
   ]
  },
  {
   "cell_type": "code",
   "execution_count": 12,
   "metadata": {},
   "outputs": [],
   "source": [
    "model_cifar10.compile(loss=\"sparse_categorical_crossentropy\", optimizer=tf.keras.optimizers.legacy.Nadam(), metrics=[\"accuracy\"])"
   ]
  },
  {
   "cell_type": "code",
   "execution_count": 17,
   "metadata": {},
   "outputs": [],
   "source": [
    "from pathlib import Path\n",
    "\n",
    "early_stopping_cb = tf.keras.callbacks.EarlyStopping(monitor=\"val_loss\", patience=30, restore_best_weights=True)\n",
    "model_ckpt_cb = tf.keras.callbacks.ModelCheckpoint(\"model_cifar10-refresher.ckpt\", save_best_only=True)\n",
    "\n",
    "def exp_decay(steps):\n",
    "    def exp_decay_func(epoch, lr):\n",
    "        return lr * 0.1 ** (epoch / steps)\n",
    "    return exp_decay_func\n",
    "\n",
    "exp_lr = exp_decay(20)\n",
    "lr_scheduler = tf.keras.callbacks.LearningRateScheduler(exp_lr)"
   ]
  },
  {
   "cell_type": "code",
   "execution_count": 14,
   "metadata": {},
   "outputs": [],
   "source": [
    "run_idx = 1\n",
    "run_logdir = Path() / \"cifar10_refresher_logs\" / f\"run_{run_idx:03d}\"\n",
    "tensorboard_cb = tf.keras.callbacks.TensorBoard(run_logdir)"
   ]
  },
  {
   "cell_type": "code",
   "execution_count": 18,
   "metadata": {},
   "outputs": [],
   "source": [
    "callback_lst = [early_stopping_cb, lr_scheduler, model_ckpt_cb, tensorboard_cb]"
   ]
  },
  {
   "cell_type": "code",
   "execution_count": 20,
   "metadata": {},
   "outputs": [
    {
     "name": "stdout",
     "output_type": "stream",
     "text": [
      "Epoch 1/1000\n",
      "1407/1407 [==============================] - 59s 42ms/step - loss: 1.6233 - accuracy: 0.4113 - val_loss: 1.6677 - val_accuracy: 0.3992 - lr: 2.2387e-11\n",
      "Epoch 2/1000\n",
      "1407/1407 [==============================] - 58s 41ms/step - loss: 1.6233 - accuracy: 0.4113 - val_loss: 1.6677 - val_accuracy: 0.3992 - lr: 1.9953e-11\n",
      "Epoch 3/1000\n",
      "1407/1407 [==============================] - 58s 41ms/step - loss: 1.6233 - accuracy: 0.4113 - val_loss: 1.6677 - val_accuracy: 0.3992 - lr: 1.5849e-11\n",
      "Epoch 4/1000\n",
      "1407/1407 [==============================] - 58s 41ms/step - loss: 1.6233 - accuracy: 0.4113 - val_loss: 1.6677 - val_accuracy: 0.3992 - lr: 1.1220e-11\n",
      "Epoch 5/1000\n",
      "1407/1407 [==============================] - 59s 42ms/step - loss: 1.6233 - accuracy: 0.4113 - val_loss: 1.6677 - val_accuracy: 0.3992 - lr: 7.0795e-12\n",
      "Epoch 6/1000\n",
      "1407/1407 [==============================] - 59s 42ms/step - loss: 1.6233 - accuracy: 0.4113 - val_loss: 1.6677 - val_accuracy: 0.3992 - lr: 3.9811e-12\n",
      "Epoch 7/1000\n",
      "1407/1407 [==============================] - 59s 42ms/step - loss: 1.6233 - accuracy: 0.4113 - val_loss: 1.6677 - val_accuracy: 0.3992 - lr: 1.9953e-12\n",
      "Epoch 8/1000\n",
      "1407/1407 [==============================] - 59s 42ms/step - loss: 1.6233 - accuracy: 0.4113 - val_loss: 1.6677 - val_accuracy: 0.3992 - lr: 8.9125e-13\n",
      "Epoch 9/1000\n",
      "1407/1407 [==============================] - 59s 42ms/step - loss: 1.6233 - accuracy: 0.4113 - val_loss: 1.6677 - val_accuracy: 0.3992 - lr: 3.5481e-13\n",
      "Epoch 10/1000\n",
      "1407/1407 [==============================] - 59s 42ms/step - loss: 1.6233 - accuracy: 0.4113 - val_loss: 1.6677 - val_accuracy: 0.3992 - lr: 1.2589e-13\n",
      "Epoch 11/1000\n",
      "1407/1407 [==============================] - 3774s 3s/step - loss: 1.6233 - accuracy: 0.4113 - val_loss: 1.6677 - val_accuracy: 0.3992 - lr: 3.9811e-14\n",
      "Epoch 12/1000\n",
      "1407/1407 [==============================] - 3602s 3s/step - loss: 1.6233 - accuracy: 0.4113 - val_loss: 1.6677 - val_accuracy: 0.3992 - lr: 1.1220e-14\n",
      "Epoch 13/1000\n",
      "1407/1407 [==============================] - 472s 336ms/step - loss: 1.6233 - accuracy: 0.4113 - val_loss: 1.6677 - val_accuracy: 0.3992 - lr: 2.8184e-15\n",
      "Epoch 14/1000\n",
      "1407/1407 [==============================] - 58s 41ms/step - loss: 1.6233 - accuracy: 0.4113 - val_loss: 1.6677 - val_accuracy: 0.3992 - lr: 6.3096e-16\n",
      "Epoch 15/1000\n",
      "1407/1407 [==============================] - 58s 41ms/step - loss: 1.6233 - accuracy: 0.4113 - val_loss: 1.6677 - val_accuracy: 0.3992 - lr: 1.2589e-16\n",
      "Epoch 16/1000\n",
      "1407/1407 [==============================] - 58s 41ms/step - loss: 1.6233 - accuracy: 0.4113 - val_loss: 1.6677 - val_accuracy: 0.3992 - lr: 2.2387e-17\n",
      "Epoch 17/1000\n",
      "1407/1407 [==============================] - 58s 41ms/step - loss: 1.6233 - accuracy: 0.4113 - val_loss: 1.6677 - val_accuracy: 0.3992 - lr: 3.5481e-18\n",
      "Epoch 18/1000\n",
      "1407/1407 [==============================] - 58s 41ms/step - loss: 1.6233 - accuracy: 0.4113 - val_loss: 1.6677 - val_accuracy: 0.3992 - lr: 5.0119e-19\n",
      "Epoch 19/1000\n",
      "1407/1407 [==============================] - 57s 41ms/step - loss: 1.6233 - accuracy: 0.4113 - val_loss: 1.6677 - val_accuracy: 0.3992 - lr: 6.3096e-20\n",
      "Epoch 20/1000\n",
      "1407/1407 [==============================] - 57s 41ms/step - loss: 1.6233 - accuracy: 0.4113 - val_loss: 1.6677 - val_accuracy: 0.3992 - lr: 7.0795e-21\n",
      "Epoch 21/1000\n",
      "1407/1407 [==============================] - 57s 41ms/step - loss: 1.6233 - accuracy: 0.4113 - val_loss: 1.6677 - val_accuracy: 0.3992 - lr: 7.0795e-22\n",
      "Epoch 22/1000\n",
      "1407/1407 [==============================] - 57s 41ms/step - loss: 1.6233 - accuracy: 0.4113 - val_loss: 1.6677 - val_accuracy: 0.3992 - lr: 6.3096e-23\n",
      "Epoch 23/1000\n",
      "1407/1407 [==============================] - 57s 41ms/step - loss: 1.6233 - accuracy: 0.4113 - val_loss: 1.6677 - val_accuracy: 0.3992 - lr: 5.0119e-24\n",
      "Epoch 24/1000\n",
      "1407/1407 [==============================] - 57s 41ms/step - loss: 1.6233 - accuracy: 0.4113 - val_loss: 1.6677 - val_accuracy: 0.3992 - lr: 3.5481e-25\n",
      "Epoch 25/1000\n",
      "1407/1407 [==============================] - 57s 40ms/step - loss: 1.6233 - accuracy: 0.4113 - val_loss: 1.6677 - val_accuracy: 0.3992 - lr: 2.2387e-26\n",
      "Epoch 26/1000\n",
      "1407/1407 [==============================] - 339s 241ms/step - loss: 1.6233 - accuracy: 0.4113 - val_loss: 1.6677 - val_accuracy: 0.3992 - lr: 1.2589e-27\n",
      "Epoch 27/1000\n",
      "1407/1407 [==============================] - 57s 40ms/step - loss: 1.6233 - accuracy: 0.4113 - val_loss: 1.6677 - val_accuracy: 0.3992 - lr: 6.3096e-29\n",
      "Epoch 28/1000\n",
      "1407/1407 [==============================] - 57s 40ms/step - loss: 1.6233 - accuracy: 0.4113 - val_loss: 1.6677 - val_accuracy: 0.3992 - lr: 2.8184e-30\n",
      "Epoch 29/1000\n",
      "1407/1407 [==============================] - 57s 40ms/step - loss: 1.6233 - accuracy: 0.4113 - val_loss: 1.6677 - val_accuracy: 0.3992 - lr: 1.1220e-31\n",
      "Epoch 30/1000\n",
      "1407/1407 [==============================] - 57s 40ms/step - loss: 1.6233 - accuracy: 0.4113 - val_loss: 1.6677 - val_accuracy: 0.3992 - lr: 3.9811e-33\n",
      "Epoch 31/1000\n",
      "1407/1407 [==============================] - 58s 41ms/step - loss: 1.6233 - accuracy: 0.4113 - val_loss: 1.6677 - val_accuracy: 0.3992 - lr: 1.2589e-34\n"
     ]
    }
   ],
   "source": [
    "hist_v1 = model_cifar10.fit(X_train, y_train, epochs=1000, validation_data=(X_valid, y_valid), callbacks=callback_lst, verbose=1)"
   ]
  },
  {
   "cell_type": "code",
   "execution_count": 44,
   "metadata": {},
   "outputs": [
    {
     "data": {
      "text/plain": [
       "<Axes: xlabel='lr', ylabel='val_accuracy'>"
      ]
     },
     "execution_count": 44,
     "metadata": {},
     "output_type": "execute_result"
    },
    {
     "data": {
      "image/png": "[encoded data removed]",
      "text/plain": [
       "<Figure size 640x480 with 1 Axes>"
      ]
     },
     "metadata": {},
     "output_type": "display_data"
    }
   ],
   "source": [
    "import pandas as pd\n",
    "\n",
    "pd.DataFrame.from_dict(hist_v1.history).plot(x=\"lr\", y=\"val_accuracy\", kind=\"scatter\")"
   ]
  },
  {
   "cell_type": "code",
   "execution_count": 45,
   "metadata": {},
   "outputs": [
    {
     "data": {
      "text/plain": [
       "<Axes: xlabel='lr', ylabel='accuracy'>"
      ]
     },
     "execution_count": 45,
     "metadata": {},
     "output_type": "execute_result"
    },
    {
     "data": {
      "image/png": "[encoded data removed]",
      "text/plain": [
       "<Figure size 640x480 with 1 Axes>"
      ]
     },
     "metadata": {},
     "output_type": "display_data"
    }
   ],
   "source": [
    "pd.DataFrame.from_dict(hist_v1.history).plot(x=\"lr\", y=\"accuracy\", kind=\"scatter\")"
   ]
  },
  {
   "cell_type": "code",
   "execution_count": 24,
   "metadata": {},
   "outputs": [],
   "source": [
    "model_cifar10_BN = tf.keras.Sequential()\n",
    "\n",
    "model_cifar10_BN.add(tf.keras.layers.Flatten(input_shape=X_train[0].shape))\n",
    "\n",
    "for _ in range(20):\n",
    "    model_cifar10_BN.add(tf.keras.layers.Dense(units=10, kernel_initializer=\"he_normal\"))\n",
    "    model_cifar10_BN.add(tf.keras.layers.BatchNormalization())\n",
    "    model_cifar10_BN.add(tf.keras.layers.Activation(\"swish\"))    \n",
    "\n",
    "model_cifar10_BN.add(tf.keras.layers.Dense(10, activation=\"softmax\"))\n"
   ]
  },
  {
   "cell_type": "code",
   "execution_count": 25,
   "metadata": {},
   "outputs": [
    {
     "name": "stdout",
     "output_type": "stream",
     "text": [
      "Model: \"sequential_4\"\n",
      "_________________________________________________________________\n",
      " Layer (type)                Output Shape              Param #   \n",
      "=================================================================\n",
      " flatten_3 (Flatten)         (None, 3072)              0         \n",
      "                                                                 \n",
      " dense_43 (Dense)            (None, 10)                30730     \n",
      "                                                                 \n",
      " batch_normalization_2 (Bat  (None, 10)                40        \n",
      " chNormalization)                                                \n",
      "                                                                 \n",
      " activation (Activation)     (None, 10)                0         \n",
      "                                                                 \n",
      " dense_44 (Dense)            (None, 10)                110       \n",
      "                                                                 \n",
      " batch_normalization_3 (Bat  (None, 10)                40        \n",
      " chNormalization)                                                \n",
      "                                                                 \n",
      " activation_1 (Activation)   (None, 10)                0         \n",
      "                                                                 \n",
      " dense_45 (Dense)            (None, 10)                110       \n",
      "                                                                 \n",
      " batch_normalization_4 (Bat  (None, 10)                40        \n",
      " chNormalization)                                                \n",
      "                                                                 \n",
      " activation_2 (Activation)   (None, 10)                0         \n",
      "                                                                 \n",
      " dense_46 (Dense)            (None, 10)                110       \n",
      "                                                                 \n",
      " batch_normalization_5 (Bat  (None, 10)                40        \n",
      " chNormalization)                                                \n",
      "                                                                 \n",
      " activation_3 (Activation)   (None, 10)                0         \n",
      "                                                                 \n",
      " dense_47 (Dense)            (None, 10)                110       \n",
      "                                                                 \n",
      " batch_normalization_6 (Bat  (None, 10)                40        \n",
      " chNormalization)                                                \n",
      "                                                                 \n",
      " activation_4 (Activation)   (None, 10)                0         \n",
      "                                                                 \n",
      " dense_48 (Dense)            (None, 10)                110       \n",
      "                                                                 \n",
      " batch_normalization_7 (Bat  (None, 10)                40        \n",
      " chNormalization)                                                \n",
      "                                                                 \n",
      " activation_5 (Activation)   (None, 10)                0         \n",
      "                                                                 \n",
      " dense_49 (Dense)            (None, 10)                110       \n",
      "                                                                 \n",
      " batch_normalization_8 (Bat  (None, 10)                40        \n",
      " chNormalization)                                                \n",
      "                                                                 \n",
      " activation_6 (Activation)   (None, 10)                0         \n",
      "                                                                 \n",
      " dense_50 (Dense)            (None, 10)                110       \n",
      "                                                                 \n",
      " batch_normalization_9 (Bat  (None, 10)                40        \n",
      " chNormalization)                                                \n",
      "                                                                 \n",
      " activation_7 (Activation)   (None, 10)                0         \n",
      "                                                                 \n",
      " dense_51 (Dense)            (None, 10)                110       \n",
      "                                                                 \n",
      " batch_normalization_10 (Ba  (None, 10)                40        \n",
      " tchNormalization)                                               \n",
      "                                                                 \n",
      " activation_8 (Activation)   (None, 10)                0         \n",
      "                                                                 \n",
      " dense_52 (Dense)            (None, 10)                110       \n",
      "                                                                 \n",
      " batch_normalization_11 (Ba  (None, 10)                40        \n",
      " tchNormalization)                                               \n",
      "                                                                 \n",
      " activation_9 (Activation)   (None, 10)                0         \n",
      "                                                                 \n",
      " dense_53 (Dense)            (None, 10)                110       \n",
      "                                                                 \n",
      " batch_normalization_12 (Ba  (None, 10)                40        \n",
      " tchNormalization)                                               \n",
      "                                                                 \n",
      " activation_10 (Activation)  (None, 10)                0         \n",
      "                                                                 \n",
      " dense_54 (Dense)            (None, 10)                110       \n",
      "                                                                 \n",
      " batch_normalization_13 (Ba  (None, 10)                40        \n",
      " tchNormalization)                                               \n",
      "                                                                 \n",
      " activation_11 (Activation)  (None, 10)                0         \n",
      "                                                                 \n",
      " dense_55 (Dense)            (None, 10)                110       \n",
      "                                                                 \n",
      " batch_normalization_14 (Ba  (None, 10)                40        \n",
      " tchNormalization)                                               \n",
      "                                                                 \n",
      " activation_12 (Activation)  (None, 10)                0         \n",
      "                                                                 \n",
      " dense_56 (Dense)            (None, 10)                110       \n",
      "                                                                 \n",
      " batch_normalization_15 (Ba  (None, 10)                40        \n",
      " tchNormalization)                                               \n",
      "                                                                 \n",
      " activation_13 (Activation)  (None, 10)                0         \n",
      "                                                                 \n",
      " dense_57 (Dense)            (None, 10)                110       \n",
      "                                                                 \n",
      " batch_normalization_16 (Ba  (None, 10)                40        \n",
      " tchNormalization)                                               \n",
      "                                                                 \n",
      " activation_14 (Activation)  (None, 10)                0         \n",
      "                                                                 \n",
      " dense_58 (Dense)            (None, 10)                110       \n",
      "                                                                 \n",
      " batch_normalization_17 (Ba  (None, 10)                40        \n",
      " tchNormalization)                                               \n",
      "                                                                 \n",
      " activation_15 (Activation)  (None, 10)                0         \n",
      "                                                                 \n",
      " dense_59 (Dense)            (None, 10)                110       \n",
      "                                                                 \n",
      " batch_normalization_18 (Ba  (None, 10)                40        \n",
      " tchNormalization)                                               \n",
      "                                                                 \n",
      " activation_16 (Activation)  (None, 10)                0         \n",
      "                                                                 \n",
      " dense_60 (Dense)            (None, 10)                110       \n",
      "                                                                 \n",
      " batch_normalization_19 (Ba  (None, 10)                40        \n",
      " tchNormalization)                                               \n",
      "                                                                 \n",
      " activation_17 (Activation)  (None, 10)                0         \n",
      "                                                                 \n",
      " dense_61 (Dense)            (None, 10)                110       \n",
      "                                                                 \n",
      " batch_normalization_20 (Ba  (None, 10)                40        \n",
      " tchNormalization)                                               \n",
      "                                                                 \n",
      " activation_18 (Activation)  (None, 10)                0         \n",
      "                                                                 \n",
      " dense_62 (Dense)            (None, 10)                110       \n",
      "                                                                 \n",
      " batch_normalization_21 (Ba  (None, 10)                40        \n",
      " tchNormalization)                                               \n",
      "                                                                 \n",
      " activation_19 (Activation)  (None, 10)                0         \n",
      "                                                                 \n",
      " dense_63 (Dense)            (None, 10)                110       \n",
      "                                                                 \n",
      "=================================================================\n",
      "Total params: 33730 (131.76 KB)\n",
      "Trainable params: 33330 (130.20 KB)\n",
      "Non-trainable params: 400 (1.56 KB)\n",
      "_________________________________________________________________\n"
     ]
    }
   ],
   "source": [
    "model_cifar10_BN.summary()"
   ]
  },
  {
   "cell_type": "code",
   "execution_count": 26,
   "metadata": {},
   "outputs": [],
   "source": [
    "model_cifar10_BN.compile(loss=\"sparse_categorical_crossentropy\", optimizer=tf.keras.optimizers.legacy.Nadam(), metrics=[\"accuracy\"])"
   ]
  },
  {
   "cell_type": "code",
   "execution_count": 30,
   "metadata": {},
   "outputs": [],
   "source": [
    "early_stopping_cb = tf.keras.callbacks.EarlyStopping(monitor=\"val_loss\", patience=20, restore_best_weights=True)\n",
    "model_ckpt_cb = tf.keras.callbacks.ModelCheckpoint(\"model_cifar10-BN-refresher.ckpt\", save_best_only=True)\n"
   ]
  },
  {
   "cell_type": "code",
   "execution_count": 28,
   "metadata": {},
   "outputs": [],
   "source": [
    "run_idx = 1\n",
    "run_logdir = Path() / \"cifar10_refresher_BN_logs\" / f\"run_{run_idx:03d}\"\n",
    "tensorboard_cb = tf.keras.callbacks.TensorBoard(run_logdir)"
   ]
  },
  {
   "cell_type": "code",
   "execution_count": 31,
   "metadata": {},
   "outputs": [],
   "source": [
    "callback_lst = [early_stopping_cb, lr_scheduler, model_ckpt_cb, tensorboard_cb]"
   ]
  },
  {
   "cell_type": "code",
   "execution_count": 46,
   "metadata": {},
   "outputs": [
    {
     "name": "stdout",
     "output_type": "stream",
     "text": [
      "Epoch 1/1000\n",
      "1407/1407 [==============================] - ETA: 0s - loss: 2.1761 - accuracy: 0.1744INFO:tensorflow:Assets written to: model_cifar10-BN-refresher.ckpt/assets\n"
     ]
    },
    {
     "name": "stderr",
     "output_type": "stream",
     "text": [
      "INFO:tensorflow:Assets written to: model_cifar10-BN-refresher.ckpt/assets\n"
     ]
    },
    {
     "name": "stdout",
     "output_type": "stream",
     "text": [
      "1407/1407 [==============================] - 164s 100ms/step - loss: 2.1761 - accuracy: 0.1744 - val_loss: 2.0764 - val_accuracy: 0.2182 - lr: 0.0010\n",
      "Epoch 2/1000\n",
      "1407/1407 [==============================] - ETA: 0s - loss: 2.0149 - accuracy: 0.2371INFO:tensorflow:Assets written to: model_cifar10-BN-refresher.ckpt/assets\n"
     ]
    },
    {
     "name": "stderr",
     "output_type": "stream",
     "text": [
      "INFO:tensorflow:Assets written to: model_cifar10-BN-refresher.ckpt/assets\n"
     ]
    },
    {
     "name": "stdout",
     "output_type": "stream",
     "text": [
      "1407/1407 [==============================] - 132s 94ms/step - loss: 2.0149 - accuracy: 0.2371 - val_loss: 1.9798 - val_accuracy: 0.2522 - lr: 8.9125e-04\n",
      "Epoch 3/1000\n",
      "1407/1407 [==============================] - ETA: 0s - loss: 1.9411 - accuracy: 0.2629INFO:tensorflow:Assets written to: model_cifar10-BN-refresher.ckpt/assets\n"
     ]
    },
    {
     "name": "stderr",
     "output_type": "stream",
     "text": [
      "INFO:tensorflow:Assets written to: model_cifar10-BN-refresher.ckpt/assets\n"
     ]
    },
    {
     "name": "stdout",
     "output_type": "stream",
     "text": [
      "1407/1407 [==============================] - 132s 94ms/step - loss: 1.9411 - accuracy: 0.2629 - val_loss: 1.9752 - val_accuracy: 0.2562 - lr: 7.0795e-04\n",
      "Epoch 4/1000\n",
      "1407/1407 [==============================] - ETA: 0s - loss: 1.8981 - accuracy: 0.2785INFO:tensorflow:Assets written to: model_cifar10-BN-refresher.ckpt/assets\n"
     ]
    },
    {
     "name": "stderr",
     "output_type": "stream",
     "text": [
      "INFO:tensorflow:Assets written to: model_cifar10-BN-refresher.ckpt/assets\n"
     ]
    },
    {
     "name": "stdout",
     "output_type": "stream",
     "text": [
      "1407/1407 [==============================] - 132s 94ms/step - loss: 1.8981 - accuracy: 0.2785 - val_loss: 1.9471 - val_accuracy: 0.2554 - lr: 5.0119e-04\n",
      "Epoch 5/1000\n",
      "1407/1407 [==============================] - ETA: 0s - loss: 1.8823 - accuracy: 0.2859INFO:tensorflow:Assets written to: model_cifar10-BN-refresher.ckpt/assets\n"
     ]
    },
    {
     "name": "stderr",
     "output_type": "stream",
     "text": [
      "INFO:tensorflow:Assets written to: model_cifar10-BN-refresher.ckpt/assets\n"
     ]
    },
    {
     "name": "stdout",
     "output_type": "stream",
     "text": [
      "1407/1407 [==============================] - 3964s 3s/step - loss: 1.8823 - accuracy: 0.2859 - val_loss: 1.8537 - val_accuracy: 0.2886 - lr: 3.1623e-04\n",
      "Epoch 6/1000\n",
      "1407/1407 [==============================] - 1592s 1s/step - loss: 1.8598 - accuracy: 0.2941 - val_loss: 1.8538 - val_accuracy: 0.2960 - lr: 1.7783e-04\n",
      "Epoch 7/1000\n",
      "1407/1407 [==============================] - ETA: 0s - loss: 1.8470 - accuracy: 0.2985INFO:tensorflow:Assets written to: model_cifar10-BN-refresher.ckpt/assets\n"
     ]
    },
    {
     "name": "stderr",
     "output_type": "stream",
     "text": [
      "INFO:tensorflow:Assets written to: model_cifar10-BN-refresher.ckpt/assets\n"
     ]
    },
    {
     "name": "stdout",
     "output_type": "stream",
     "text": [
      "1407/1407 [==============================] - 131s 93ms/step - loss: 1.8470 - accuracy: 0.2985 - val_loss: 1.8279 - val_accuracy: 0.3134 - lr: 8.9125e-05\n",
      "Epoch 8/1000\n",
      "1407/1407 [==============================] - ETA: 0s - loss: 1.8422 - accuracy: 0.2995INFO:tensorflow:Assets written to: model_cifar10-BN-refresher.ckpt/assets\n"
     ]
    },
    {
     "name": "stderr",
     "output_type": "stream",
     "text": [
      "INFO:tensorflow:Assets written to: model_cifar10-BN-refresher.ckpt/assets\n"
     ]
    },
    {
     "name": "stdout",
     "output_type": "stream",
     "text": [
      "1407/1407 [==============================] - 130s 92ms/step - loss: 1.8422 - accuracy: 0.2995 - val_loss: 1.8234 - val_accuracy: 0.3052 - lr: 3.9811e-05\n",
      "Epoch 9/1000\n",
      "1407/1407 [==============================] - ETA: 0s - loss: 1.8381 - accuracy: 0.2993INFO:tensorflow:Assets written to: model_cifar10-BN-refresher.ckpt/assets\n"
     ]
    },
    {
     "name": "stderr",
     "output_type": "stream",
     "text": [
      "INFO:tensorflow:Assets written to: model_cifar10-BN-refresher.ckpt/assets\n"
     ]
    },
    {
     "name": "stdout",
     "output_type": "stream",
     "text": [
      "1407/1407 [==============================] - 130s 92ms/step - loss: 1.8381 - accuracy: 0.2993 - val_loss: 1.8194 - val_accuracy: 0.3130 - lr: 1.5849e-05\n",
      "Epoch 10/1000\n",
      "1407/1407 [==============================] - ETA: 0s - loss: 1.8376 - accuracy: 0.3030INFO:tensorflow:Assets written to: model_cifar10-BN-refresher.ckpt/assets\n"
     ]
    },
    {
     "name": "stderr",
     "output_type": "stream",
     "text": [
      "INFO:tensorflow:Assets written to: model_cifar10-BN-refresher.ckpt/assets\n"
     ]
    },
    {
     "name": "stdout",
     "output_type": "stream",
     "text": [
      "1407/1407 [==============================] - 130s 92ms/step - loss: 1.8376 - accuracy: 0.3030 - val_loss: 1.8184 - val_accuracy: 0.3096 - lr: 5.6234e-06\n",
      "Epoch 11/1000\n",
      "1407/1407 [==============================] - ETA: 0s - loss: 1.8374 - accuracy: 0.3056INFO:tensorflow:Assets written to: model_cifar10-BN-refresher.ckpt/assets\n"
     ]
    },
    {
     "name": "stderr",
     "output_type": "stream",
     "text": [
      "INFO:tensorflow:Assets written to: model_cifar10-BN-refresher.ckpt/assets\n"
     ]
    },
    {
     "name": "stdout",
     "output_type": "stream",
     "text": [
      "1407/1407 [==============================] - 131s 93ms/step - loss: 1.8374 - accuracy: 0.3056 - val_loss: 1.8172 - val_accuracy: 0.3114 - lr: 1.7783e-06\n",
      "Epoch 12/1000\n",
      "1407/1407 [==============================] - ETA: 0s - loss: 1.8368 - accuracy: 0.3038INFO:tensorflow:Assets written to: model_cifar10-BN-refresher.ckpt/assets\n"
     ]
    },
    {
     "name": "stderr",
     "output_type": "stream",
     "text": [
      "INFO:tensorflow:Assets written to: model_cifar10-BN-refresher.ckpt/assets\n"
     ]
    },
    {
     "name": "stdout",
     "output_type": "stream",
     "text": [
      "1407/1407 [==============================] - 129s 92ms/step - loss: 1.8368 - accuracy: 0.3038 - val_loss: 1.8171 - val_accuracy: 0.3082 - lr: 5.0119e-07\n",
      "Epoch 13/1000\n",
      "1407/1407 [==============================] - 125s 89ms/step - loss: 1.8394 - accuracy: 0.3029 - val_loss: 1.8177 - val_accuracy: 0.3128 - lr: 1.2589e-07\n",
      "Epoch 14/1000\n",
      "1407/1407 [==============================] - 125s 89ms/step - loss: 1.8381 - accuracy: 0.3030 - val_loss: 1.8183 - val_accuracy: 0.3078 - lr: 2.8184e-08\n",
      "Epoch 15/1000\n",
      "1407/1407 [==============================] - ETA: 0s - loss: 1.8375 - accuracy: 0.3012INFO:tensorflow:Assets written to: model_cifar10-BN-refresher.ckpt/assets\n"
     ]
    },
    {
     "name": "stderr",
     "output_type": "stream",
     "text": [
      "INFO:tensorflow:Assets written to: model_cifar10-BN-refresher.ckpt/assets\n"
     ]
    },
    {
     "name": "stdout",
     "output_type": "stream",
     "text": [
      "1407/1407 [==============================] - 1137s 809ms/step - loss: 1.8375 - accuracy: 0.3012 - val_loss: 1.8168 - val_accuracy: 0.3098 - lr: 5.6234e-09\n",
      "Epoch 16/1000\n",
      "1407/1407 [==============================] - 125s 89ms/step - loss: 1.8440 - accuracy: 0.3018 - val_loss: 1.8179 - val_accuracy: 0.3094 - lr: 1.0000e-09\n",
      "Epoch 17/1000\n",
      "1407/1407 [==============================] - 125s 89ms/step - loss: 1.8405 - accuracy: 0.3018 - val_loss: 1.8187 - val_accuracy: 0.3090 - lr: 1.5849e-10\n",
      "Epoch 18/1000\n",
      "1407/1407 [==============================] - 125s 89ms/step - loss: 1.8365 - accuracy: 0.3032 - val_loss: 1.8177 - val_accuracy: 0.3094 - lr: 2.2387e-11\n",
      "Epoch 19/1000\n",
      "1407/1407 [==============================] - ETA: 0s - loss: 1.8369 - accuracy: 0.3042INFO:tensorflow:Assets written to: model_cifar10-BN-refresher.ckpt/assets\n"
     ]
    },
    {
     "name": "stderr",
     "output_type": "stream",
     "text": [
      "INFO:tensorflow:Assets written to: model_cifar10-BN-refresher.ckpt/assets\n"
     ]
    },
    {
     "name": "stdout",
     "output_type": "stream",
     "text": [
      "1407/1407 [==============================] - 129s 92ms/step - loss: 1.8369 - accuracy: 0.3042 - val_loss: 1.8164 - val_accuracy: 0.3094 - lr: 2.8184e-12\n",
      "Epoch 20/1000\n",
      "1407/1407 [==============================] - 1410s 1s/step - loss: 1.8375 - accuracy: 0.3030 - val_loss: 1.8175 - val_accuracy: 0.3094 - lr: 3.1623e-13\n",
      "Epoch 21/1000\n",
      "1407/1407 [==============================] - 1988s 1s/step - loss: 1.8378 - accuracy: 0.3029 - val_loss: 1.8184 - val_accuracy: 0.3110 - lr: 3.1623e-14\n",
      "Epoch 22/1000\n",
      "1407/1407 [==============================] - 132s 94ms/step - loss: 1.8371 - accuracy: 0.3044 - val_loss: 1.8169 - val_accuracy: 0.3088 - lr: 2.8184e-15\n",
      "Epoch 23/1000\n",
      "1407/1407 [==============================] - 128s 91ms/step - loss: 1.8356 - accuracy: 0.3028 - val_loss: 1.8167 - val_accuracy: 0.3086 - lr: 2.2387e-16\n",
      "Epoch 24/1000\n",
      "1407/1407 [==============================] - 131s 93ms/step - loss: 1.8350 - accuracy: 0.3012 - val_loss: 1.8185 - val_accuracy: 0.3094 - lr: 1.5849e-17\n",
      "Epoch 25/1000\n",
      "1407/1407 [==============================] - 125s 89ms/step - loss: 1.8376 - accuracy: 0.3027 - val_loss: 1.8181 - val_accuracy: 0.3104 - lr: 1.0000e-18\n",
      "Epoch 26/1000\n",
      "1407/1407 [==============================] - 125s 89ms/step - loss: 1.8369 - accuracy: 0.3026 - val_loss: 1.8176 - val_accuracy: 0.3128 - lr: 5.6234e-20\n",
      "Epoch 27/1000\n",
      "1407/1407 [==============================] - 125s 89ms/step - loss: 1.8355 - accuracy: 0.3047 - val_loss: 1.8193 - val_accuracy: 0.3116 - lr: 2.8184e-21\n",
      "Epoch 28/1000\n",
      "1407/1407 [==============================] - 125s 89ms/step - loss: 1.8387 - accuracy: 0.3032 - val_loss: 1.8175 - val_accuracy: 0.3108 - lr: 1.2589e-22\n",
      "Epoch 29/1000\n",
      "1407/1407 [==============================] - 125s 89ms/step - loss: 1.8395 - accuracy: 0.3014 - val_loss: 1.8196 - val_accuracy: 0.3106 - lr: 5.0119e-24\n",
      "Epoch 30/1000\n",
      "1407/1407 [==============================] - 125s 89ms/step - loss: 1.8384 - accuracy: 0.3017 - val_loss: 1.8184 - val_accuracy: 0.3126 - lr: 1.7783e-25\n",
      "Epoch 31/1000\n",
      "1407/1407 [==============================] - 125s 89ms/step - loss: 1.8402 - accuracy: 0.3028 - val_loss: 1.8176 - val_accuracy: 0.3102 - lr: 5.6234e-27\n",
      "Epoch 32/1000\n",
      "1407/1407 [==============================] - 125s 89ms/step - loss: 1.8398 - accuracy: 0.3010 - val_loss: 1.8169 - val_accuracy: 0.3082 - lr: 1.5849e-28\n",
      "Epoch 33/1000\n",
      "1407/1407 [==============================] - ETA: 0s - loss: 1.8378 - accuracy: 0.3026 INFO:tensorflow:Assets written to: model_cifar10-BN-refresher.ckpt/assets\n"
     ]
    },
    {
     "name": "stderr",
     "output_type": "stream",
     "text": [
      "INFO:tensorflow:Assets written to: model_cifar10-BN-refresher.ckpt/assets\n"
     ]
    },
    {
     "name": "stdout",
     "output_type": "stream",
     "text": [
      "1407/1407 [==============================] - 21646s 15s/step - loss: 1.8378 - accuracy: 0.3026 - val_loss: 1.8154 - val_accuracy: 0.3092 - lr: 3.9811e-30\n",
      "Epoch 34/1000\n",
      "1407/1407 [==============================] - 3585s 3s/step - loss: 1.8350 - accuracy: 0.3036 - val_loss: 1.8187 - val_accuracy: 0.3082 - lr: 8.9125e-32\n",
      "Epoch 35/1000\n",
      "1407/1407 [==============================] - 125s 89ms/step - loss: 1.8387 - accuracy: 0.3020 - val_loss: 1.8172 - val_accuracy: 0.3108 - lr: 1.7783e-33\n",
      "Epoch 36/1000\n",
      "1407/1407 [==============================] - 125s 89ms/step - loss: 1.8410 - accuracy: 0.3038 - val_loss: 1.8183 - val_accuracy: 0.3108 - lr: 3.1623e-35\n",
      "Epoch 37/1000\n",
      "1407/1407 [==============================] - 106s 75ms/step - loss: 1.8355 - accuracy: 0.3050 - val_loss: 1.8172 - val_accuracy: 0.3094 - lr: 5.0119e-37\n",
      "Epoch 38/1000\n",
      "1407/1407 [==============================] - 104s 74ms/step - loss: 1.8394 - accuracy: 0.3020 - val_loss: 1.8177 - val_accuracy: 0.3116 - lr: 7.0795e-39\n",
      "Epoch 39/1000\n",
      "1407/1407 [==============================] - 104s 74ms/step - loss: 1.8374 - accuracy: 0.3032 - val_loss: 1.8172 - val_accuracy: 0.3096 - lr: 8.9125e-41\n",
      "Epoch 40/1000\n",
      "1407/1407 [==============================] - 104s 74ms/step - loss: 1.8367 - accuracy: 0.3040 - val_loss: 1.8172 - val_accuracy: 0.3102 - lr: 1.0005e-42\n",
      "Epoch 41/1000\n",
      "1407/1407 [==============================] - 103s 74ms/step - loss: 1.8406 - accuracy: 0.3030 - val_loss: 1.8177 - val_accuracy: 0.3122 - lr: 9.8091e-45\n",
      "Epoch 42/1000\n",
      "1407/1407 [==============================] - 103s 73ms/step - loss: 1.8391 - accuracy: 0.3016 - val_loss: 1.8166 - val_accuracy: 0.3088 - lr: 0.0000e+00\n",
      "Epoch 43/1000\n",
      "1407/1407 [==============================] - 103s 73ms/step - loss: 1.8372 - accuracy: 0.3042 - val_loss: 1.8160 - val_accuracy: 0.3094 - lr: 0.0000e+00\n",
      "Epoch 44/1000\n",
      "1407/1407 [==============================] - 102s 73ms/step - loss: 1.8407 - accuracy: 0.3009 - val_loss: 1.8170 - val_accuracy: 0.3104 - lr: 0.0000e+00\n",
      "Epoch 45/1000\n",
      "1407/1407 [==============================] - 103s 73ms/step - loss: 1.8371 - accuracy: 0.3033 - val_loss: 1.8194 - val_accuracy: 0.3100 - lr: 0.0000e+00\n",
      "Epoch 46/1000\n",
      "1407/1407 [==============================] - 105s 75ms/step - loss: 1.8386 - accuracy: 0.3039 - val_loss: 1.8170 - val_accuracy: 0.3110 - lr: 0.0000e+00\n",
      "Epoch 47/1000\n",
      "1407/1407 [==============================] - 110s 78ms/step - loss: 1.8389 - accuracy: 0.3032 - val_loss: 1.8173 - val_accuracy: 0.3096 - lr: 0.0000e+00\n",
      "Epoch 48/1000\n",
      "1407/1407 [==============================] - 109s 77ms/step - loss: 1.8376 - accuracy: 0.3049 - val_loss: 1.8182 - val_accuracy: 0.3108 - lr: 0.0000e+00\n",
      "Epoch 49/1000\n",
      "1407/1407 [==============================] - 108s 77ms/step - loss: 1.8385 - accuracy: 0.3036 - val_loss: 1.8176 - val_accuracy: 0.3090 - lr: 0.0000e+00\n",
      "Epoch 50/1000\n",
      "1407/1407 [==============================] - 108s 77ms/step - loss: 1.8375 - accuracy: 0.3033 - val_loss: 1.8176 - val_accuracy: 0.3112 - lr: 0.0000e+00\n",
      "Epoch 51/1000\n",
      "1407/1407 [==============================] - 108s 77ms/step - loss: 1.8365 - accuracy: 0.3037 - val_loss: 1.8181 - val_accuracy: 0.3122 - lr: 0.0000e+00\n",
      "Epoch 52/1000\n",
      "1407/1407 [==============================] - 108s 77ms/step - loss: 1.8341 - accuracy: 0.3042 - val_loss: 1.8173 - val_accuracy: 0.3110 - lr: 0.0000e+00\n",
      "Epoch 53/1000\n",
      "1407/1407 [==============================] - 108s 77ms/step - loss: 1.8362 - accuracy: 0.3029 - val_loss: 1.8175 - val_accuracy: 0.3098 - lr: 0.0000e+00\n"
     ]
    }
   ],
   "source": [
    "hist_v2 = model_cifar10_BN.fit(X_train, y_train, epochs=1000, validation_data=(X_valid, y_valid), callbacks=callback_lst, verbose=1)"
   ]
  },
  {
   "cell_type": "code",
   "execution_count": null,
   "metadata": {},
   "outputs": [],
   "source": []
  },
  {
   "cell_type": "markdown",
   "metadata": {},
   "source": [
    "### Model with Dropout and it's variants"
   ]
  }
 ],
 "metadata": {
  "kernelspec": {
   "display_name": "tfpy",
   "language": "python",
   "name": "python3"
  },
  "language_info": {
   "codemirror_mode": {
    "name": "ipython",
    "version": 3
   },
   "file_extension": ".py",
   "mimetype": "text/x-python",
   "name": "python",
   "nbconvert_exporter": "python",
   "pygments_lexer": "ipython3",
   "version": "3.11.7"
  }
 },
 "nbformat": 4,
 "nbformat_minor": 2
}
