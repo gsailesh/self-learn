{
 "cells": [
  {
   "cell_type": "code",
   "execution_count": 1,
   "id": "c63e2467",
   "metadata": {},
   "outputs": [
    {
     "data": {
      "text/plain": [
       "CircleModelV2(\n",
       "  (layer_1): Linear(in_features=2, out_features=10, bias=True)\n",
       "  (layer_2): Linear(in_features=10, out_features=10, bias=True)\n",
       "  (layer_3): Linear(in_features=10, out_features=1, bias=True)\n",
       ")"
      ]
     },
     "execution_count": 1,
     "metadata": {},
     "output_type": "execute_result"
    }
   ],
   "source": [
    "import torch\n",
    "from torch import nn\n",
    "\n",
    "\n",
    "class CircleModelV2(nn.Module):\n",
    "    def __init__(self):\n",
    "        super().__init__()\n",
    "        self.layer_1 = nn.Linear(in_features=2, out_features=10)\n",
    "        self.layer_2 = nn.Linear(in_features=10, out_features=10)\n",
    "        self.layer_3 = nn.Linear(in_features=10, out_features=1)\n",
    "\n",
    "    def forward(self, x):\n",
    "        z = self.layer_1(x)\n",
    "        z = self.layer_2(z)\n",
    "        z = self.layer_3(z)\n",
    "\n",
    "        # z = self.layer_3(self.layer_2(self.layer_1(x)))\n",
    "        return z\n",
    "    \n",
    "model_v2 = CircleModelV2()\n",
    "model_v2.to(\"cuda\" if torch.cuda.is_available() else \"cpu\")"
   ]
  },
  {
   "cell_type": "code",
   "execution_count": 2,
   "id": "1f97513f",
   "metadata": {},
   "outputs": [],
   "source": [
    "loss_fun = nn.BCEWithLogitsLoss()\n",
    "optimizer = torch.optim.SGD(params=model_v2.parameters(),\n",
    "                            lr=0.1)"
   ]
  },
  {
   "cell_type": "code",
   "execution_count": null,
   "id": "5c2c3707",
   "metadata": {},
   "outputs": [],
   "source": [
    "torch.manual_seed(42)\n",
    "torch.cuda.manual_seed(42)\n",
    "\n",
    "X_train, y_train = X_train.to(\"cuda\" if torch.cuda.is_available() else \"cpu\"), y_train.to(\"cuda\" if torch.cuda.is_available() else \"cpu\")\n",
    "X_test, y_test = X_test.to(\"cuda\" if torch.cuda.is_available() else \"cpu\"), y_test.to(\"cuda\" if torch.cuda.is_available() else \"cpu\")\n",
    "\n",
    "epochs = 1000\n",
    "for epoch in range(epochs):\n",
    "    model_v2.train()\n",
    "    y_logits = model_v2(X_train).squeeze()\n",
    "    y_pred = torch.round(torch.sigmoid(y_logits))\n",
    "\n",
    "\n",
    "    loss = loss_fun(y_logits, y_train)\n",
    "    acc = (y_pred == y_train).sum() / len(y_pred)\n",
    "\n",
    "    optimizer.zero_grad()\n",
    "    loss.backward()\n",
    "    optimizer.step() # Adjust the model parameters\n",
    "\n",
    "    model_v2.eval()\n",
    "    with torch.inference_mode():\n",
    "        test_logits = model_v2(X_test).squeeze()\n",
    "        test_pred = torch.round(torch.sigmoid(test_logits))\n",
    "\n",
    "        test_loss = loss_fun(test_logits, y_test)\n",
    "        test_acc = (test_pred == y_test).sum() / len(test_pred)\n",
    "    if epoch % 100 == 0:\n",
    "        print(f\"Epoch: {epoch} | \"\n",
    "              f\"Train Loss: {loss:.5f} | Train Acc: {acc:.2f} | \"\n",
    "              f\"Test Loss: {test_loss:.5f} | Test Acc: {test_acc:.2f}\")\n",
    "\n"
   ]
  }
 ],
 "metadata": {
  "kernelspec": {
   "display_name": "torchenv",
   "language": "python",
   "name": "python3"
  },
  "language_info": {
   "codemirror_mode": {
    "name": "ipython",
    "version": 3
   },
   "file_extension": ".py",
   "mimetype": "text/x-python",
   "name": "python",
   "nbconvert_exporter": "python",
   "pygments_lexer": "ipython3",
   "version": "3.9.21"
  }
 },
 "nbformat": 4,
 "nbformat_minor": 5
}
