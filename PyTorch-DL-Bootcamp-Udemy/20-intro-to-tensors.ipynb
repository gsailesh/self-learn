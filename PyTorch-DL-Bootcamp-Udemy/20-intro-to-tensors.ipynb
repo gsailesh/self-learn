{
 "cells": [
  {
   "cell_type": "code",
   "execution_count": 1,
   "id": "c5bf54bf",
   "metadata": {},
   "outputs": [],
   "source": [
    "# !pip3 install torch torchvision torchaudio"
   ]
  },
  {
   "cell_type": "code",
   "execution_count": 2,
   "id": "cf76f80a",
   "metadata": {},
   "outputs": [
    {
     "name": "stdout",
     "output_type": "stream",
     "text": [
      "2.6.0\n"
     ]
    }
   ],
   "source": [
    "import torch\n",
    "import pandas as pd\n",
    "import numpy as np\n",
    "import matplotlib.pyplot as plt\n",
    "print(torch.__version__)"
   ]
  },
  {
   "cell_type": "markdown",
   "id": "577ee2a2",
   "metadata": {},
   "source": [
    "### Intro to Tensors"
   ]
  },
  {
   "cell_type": "markdown",
   "id": "007ebd4f",
   "metadata": {},
   "source": [
    "#### Creating tensors"
   ]
  },
  {
   "cell_type": "code",
   "execution_count": 3,
   "id": "7353e18e",
   "metadata": {},
   "outputs": [
    {
     "data": {
      "text/plain": [
       "tensor(7)"
      ]
     },
     "execution_count": 3,
     "metadata": {},
     "output_type": "execute_result"
    }
   ],
   "source": [
    "# scalar\n",
    "scalar = torch.tensor(7)\n",
    "scalar"
   ]
  },
  {
   "cell_type": "code",
   "execution_count": 4,
   "id": "37b3aab0",
   "metadata": {},
   "outputs": [
    {
     "data": {
      "text/plain": [
       "(0, 7)"
      ]
     },
     "execution_count": 4,
     "metadata": {},
     "output_type": "execute_result"
    }
   ],
   "source": [
    "scalar.ndim, scalar.item()"
   ]
  },
  {
   "cell_type": "code",
   "execution_count": 5,
   "id": "a3baf0fd",
   "metadata": {},
   "outputs": [
    {
     "data": {
      "text/plain": [
       "tensor([7, 8, 9])"
      ]
     },
     "execution_count": 5,
     "metadata": {},
     "output_type": "execute_result"
    }
   ],
   "source": [
    "# vector\n",
    "vector = torch.tensor([7, 8, 9])\n",
    "vector"
   ]
  },
  {
   "cell_type": "code",
   "execution_count": 6,
   "id": "33e8629c",
   "metadata": {},
   "outputs": [
    {
     "data": {
      "text/plain": [
       "(1, torch.Size([3]), torch.Size([3]))"
      ]
     },
     "execution_count": 6,
     "metadata": {},
     "output_type": "execute_result"
    }
   ],
   "source": [
    "vector.ndim, vector.shape, vector.size()"
   ]
  },
  {
   "cell_type": "code",
   "execution_count": 7,
   "id": "4bb017bb",
   "metadata": {},
   "outputs": [
    {
     "data": {
      "text/plain": [
       "tensor([[ 7,  8,  9],\n",
       "        [10, 11, 12]])"
      ]
     },
     "execution_count": 7,
     "metadata": {},
     "output_type": "execute_result"
    }
   ],
   "source": [
    "# matrix\n",
    "matrix = torch.tensor([[7, 8, 9], [10, 11, 12]])\n",
    "matrix"
   ]
  },
  {
   "cell_type": "code",
   "execution_count": 8,
   "id": "00ab8f4b",
   "metadata": {},
   "outputs": [
    {
     "data": {
      "text/plain": [
       "(2, torch.Size([2, 3]), torch.Size([2, 3]))"
      ]
     },
     "execution_count": 8,
     "metadata": {},
     "output_type": "execute_result"
    }
   ],
   "source": [
    "matrix.ndim, matrix.shape, matrix.size()"
   ]
  },
  {
   "cell_type": "code",
   "execution_count": 9,
   "id": "d463669c",
   "metadata": {},
   "outputs": [
    {
     "data": {
      "text/plain": [
       "tensor([[[ 7,  8,  9],\n",
       "         [10, 11, 12]],\n",
       "\n",
       "        [[13, 14, 15],\n",
       "         [16, 17, 18]]])"
      ]
     },
     "execution_count": 9,
     "metadata": {},
     "output_type": "execute_result"
    }
   ],
   "source": [
    "# tensor\n",
    "tensor = torch.tensor([[[7, 8, 9], [10, 11, 12]], [[13, 14, 15], [16, 17, 18]]])\n",
    "tensor"
   ]
  },
  {
   "cell_type": "code",
   "execution_count": 10,
   "id": "aa977144",
   "metadata": {},
   "outputs": [
    {
     "data": {
      "text/plain": [
       "(3, torch.Size([2, 2, 3]), torch.Size([2, 2, 3]))"
      ]
     },
     "execution_count": 10,
     "metadata": {},
     "output_type": "execute_result"
    }
   ],
   "source": [
    "tensor.ndim, tensor.shape, tensor.size()"
   ]
  },
  {
   "cell_type": "markdown",
   "id": "1fe0f7c8",
   "metadata": {},
   "source": [
    "#### Random tensors"
   ]
  },
  {
   "cell_type": "markdown",
   "id": "d8006e7e",
   "metadata": {},
   "source": [
    "`torch.rand`: https://pytorch.org/docs/stable/generated/torch.rand.html#torch-rand"
   ]
  },
  {
   "cell_type": "code",
   "execution_count": 11,
   "id": "6df694f5",
   "metadata": {},
   "outputs": [
    {
     "data": {
      "text/plain": [
       "tensor([[0.4238, 0.7447, 0.4036, 0.4850],\n",
       "        [0.3125, 0.5325, 0.4670, 0.7299],\n",
       "        [0.4134, 0.2969, 0.9016, 0.8870]])"
      ]
     },
     "execution_count": 11,
     "metadata": {},
     "output_type": "execute_result"
    }
   ],
   "source": [
    "# create a random tensor of size(3, 4)\n",
    "random_tensor = torch.rand(3, 4)\n",
    "random_tensor "
   ]
  },
  {
   "cell_type": "code",
   "execution_count": 12,
   "id": "a6266366",
   "metadata": {},
   "outputs": [
    {
     "data": {
      "text/plain": [
       "(2, torch.Size([3, 4]), torch.Size([3, 4]))"
      ]
     },
     "execution_count": 12,
     "metadata": {},
     "output_type": "execute_result"
    }
   ],
   "source": [
    "random_tensor.ndim, random_tensor.shape, random_tensor.size()"
   ]
  },
  {
   "cell_type": "code",
   "execution_count": 13,
   "id": "b703eb2c",
   "metadata": {},
   "outputs": [
    {
     "data": {
      "text/plain": [
       "tensor([[[0.1927, 0.5567, 0.5487, 0.4139],\n",
       "         [0.2279, 0.7176, 0.3426, 0.1769],\n",
       "         [0.7305, 0.9845, 0.1790, 0.3923]]])"
      ]
     },
     "execution_count": 13,
     "metadata": {},
     "output_type": "execute_result"
    }
   ],
   "source": [
    "random_tensor_2 = torch.rand(1, 3, 4)\n",
    "random_tensor_2"
   ]
  },
  {
   "cell_type": "code",
   "execution_count": 14,
   "id": "da937e75",
   "metadata": {},
   "outputs": [
    {
     "data": {
      "text/plain": [
       "tensor([[[0.8149, 0.1677, 0.4351,  ..., 0.9927, 0.0644, 0.4225],\n",
       "         [0.1129, 0.7381, 0.5124,  ..., 0.6110, 0.9773, 0.9841],\n",
       "         [0.0305, 0.3248, 0.7526,  ..., 0.2889, 0.1209, 0.4713],\n",
       "         ...,\n",
       "         [0.8875, 0.0599, 0.2724,  ..., 0.6260, 0.1820, 0.9112],\n",
       "         [0.0353, 0.9849, 0.3606,  ..., 0.9512, 0.9758, 0.5076],\n",
       "         [0.8600, 0.5796, 0.6520,  ..., 0.6255, 0.9592, 0.4960]],\n",
       "\n",
       "        [[0.2404, 0.0503, 0.5371,  ..., 0.2416, 0.9866, 0.3476],\n",
       "         [0.1004, 0.5664, 0.9564,  ..., 0.6528, 0.5918, 0.9035],\n",
       "         [0.7210, 0.7986, 0.9822,  ..., 0.4682, 0.5773, 0.6912],\n",
       "         ...,\n",
       "         [0.1282, 0.0106, 0.9466,  ..., 0.2811, 0.0421, 0.8800],\n",
       "         [0.1412, 0.5753, 0.9820,  ..., 0.0386, 0.4786, 0.9215],\n",
       "         [0.0962, 0.2681, 0.3254,  ..., 0.8193, 0.6791, 0.6248]],\n",
       "\n",
       "        [[0.3801, 0.7340, 0.0815,  ..., 0.8120, 0.4332, 0.6213],\n",
       "         [0.6396, 0.1594, 0.6907,  ..., 0.3741, 0.3144, 0.3106],\n",
       "         [0.0165, 0.4216, 0.4714,  ..., 0.0461, 0.6073, 0.5854],\n",
       "         ...,\n",
       "         [0.9025, 0.2903, 0.4832,  ..., 0.4118, 0.3443, 0.5280],\n",
       "         [0.7001, 0.2618, 0.0854,  ..., 0.6159, 0.5043, 0.7790],\n",
       "         [0.4972, 0.4367, 0.6593,  ..., 0.8801, 0.5417, 0.3654]]])"
      ]
     },
     "execution_count": 14,
     "metadata": {},
     "output_type": "execute_result"
    }
   ],
   "source": [
    "random_image_tensor = torch.rand(3, 224, 224)\n",
    "random_image_tensor"
   ]
  },
  {
   "cell_type": "code",
   "execution_count": 15,
   "id": "91053045",
   "metadata": {},
   "outputs": [
    {
     "data": {
      "text/plain": [
       "tensor([[0., 0., 0., 0.],\n",
       "        [0., 0., 0., 0.],\n",
       "        [0., 0., 0., 0.]])"
      ]
     },
     "execution_count": 15,
     "metadata": {},
     "output_type": "execute_result"
    }
   ],
   "source": [
    "# create zeros and ones\n",
    "zeros = torch.zeros(size=(3, 4))\n",
    "zeros"
   ]
  },
  {
   "cell_type": "code",
   "execution_count": 16,
   "id": "86667615",
   "metadata": {},
   "outputs": [
    {
     "data": {
      "text/plain": [
       "tensor([[1., 1., 1., 1.],\n",
       "        [1., 1., 1., 1.],\n",
       "        [1., 1., 1., 1.]])"
      ]
     },
     "execution_count": 16,
     "metadata": {},
     "output_type": "execute_result"
    }
   ],
   "source": [
    "ones = torch.ones(size=(3, 4))\n",
    "ones"
   ]
  },
  {
   "cell_type": "code",
   "execution_count": 17,
   "id": "b58074d3",
   "metadata": {},
   "outputs": [
    {
     "data": {
      "text/plain": [
       "torch.float32"
      ]
     },
     "execution_count": 17,
     "metadata": {},
     "output_type": "execute_result"
    }
   ],
   "source": [
    "ones.dtype"
   ]
  },
  {
   "cell_type": "markdown",
   "id": "b6bdd350",
   "metadata": {},
   "source": [
    "#### Range tensors and tensor likes"
   ]
  },
  {
   "cell_type": "markdown",
   "id": "95720c18",
   "metadata": {},
   "source": [
    "`torch.arange`: https://pytorch.org/docs/stable/generated/torch.arange.html#torch-arange"
   ]
  },
  {
   "cell_type": "code",
   "execution_count": 18,
   "id": "4221d93d",
   "metadata": {},
   "outputs": [
    {
     "data": {
      "text/plain": [
       "tensor([0, 1, 2, 3, 4, 5, 6, 7, 8, 9])"
      ]
     },
     "execution_count": 18,
     "metadata": {},
     "output_type": "execute_result"
    }
   ],
   "source": [
    "# create a range of numbers\n",
    "# torch.range(0, 10)\n",
    "torch.arange(0, 10)"
   ]
  },
  {
   "cell_type": "code",
   "execution_count": 19,
   "id": "49132c08",
   "metadata": {},
   "outputs": [
    {
     "data": {
      "text/plain": [
       "tensor([[[1., 1., 1.,  ..., 1., 1., 1.],\n",
       "         [1., 1., 1.,  ..., 1., 1., 1.],\n",
       "         [1., 1., 1.,  ..., 1., 1., 1.],\n",
       "         ...,\n",
       "         [1., 1., 1.,  ..., 1., 1., 1.],\n",
       "         [1., 1., 1.,  ..., 1., 1., 1.],\n",
       "         [1., 1., 1.,  ..., 1., 1., 1.]],\n",
       "\n",
       "        [[1., 1., 1.,  ..., 1., 1., 1.],\n",
       "         [1., 1., 1.,  ..., 1., 1., 1.],\n",
       "         [1., 1., 1.,  ..., 1., 1., 1.],\n",
       "         ...,\n",
       "         [1., 1., 1.,  ..., 1., 1., 1.],\n",
       "         [1., 1., 1.,  ..., 1., 1., 1.],\n",
       "         [1., 1., 1.,  ..., 1., 1., 1.]],\n",
       "\n",
       "        [[1., 1., 1.,  ..., 1., 1., 1.],\n",
       "         [1., 1., 1.,  ..., 1., 1., 1.],\n",
       "         [1., 1., 1.,  ..., 1., 1., 1.],\n",
       "         ...,\n",
       "         [1., 1., 1.,  ..., 1., 1., 1.],\n",
       "         [1., 1., 1.,  ..., 1., 1., 1.],\n",
       "         [1., 1., 1.,  ..., 1., 1., 1.]]])"
      ]
     },
     "execution_count": 19,
     "metadata": {},
     "output_type": "execute_result"
    }
   ],
   "source": [
    "# creating tensors like\n",
    "tensor_ones = torch.ones_like(random_image_tensor)\n",
    "tensor_ones"
   ]
  },
  {
   "cell_type": "code",
   "execution_count": 20,
   "id": "e75dc917",
   "metadata": {},
   "outputs": [
    {
     "data": {
      "text/plain": [
       "tensor([[[0., 0., 0.,  ..., 0., 0., 0.],\n",
       "         [0., 0., 0.,  ..., 0., 0., 0.],\n",
       "         [0., 0., 0.,  ..., 0., 0., 0.],\n",
       "         ...,\n",
       "         [0., 0., 0.,  ..., 0., 0., 0.],\n",
       "         [0., 0., 0.,  ..., 0., 0., 0.],\n",
       "         [0., 0., 0.,  ..., 0., 0., 0.]],\n",
       "\n",
       "        [[0., 0., 0.,  ..., 0., 0., 0.],\n",
       "         [0., 0., 0.,  ..., 0., 0., 0.],\n",
       "         [0., 0., 0.,  ..., 0., 0., 0.],\n",
       "         ...,\n",
       "         [0., 0., 0.,  ..., 0., 0., 0.],\n",
       "         [0., 0., 0.,  ..., 0., 0., 0.],\n",
       "         [0., 0., 0.,  ..., 0., 0., 0.]],\n",
       "\n",
       "        [[0., 0., 0.,  ..., 0., 0., 0.],\n",
       "         [0., 0., 0.,  ..., 0., 0., 0.],\n",
       "         [0., 0., 0.,  ..., 0., 0., 0.],\n",
       "         ...,\n",
       "         [0., 0., 0.,  ..., 0., 0., 0.],\n",
       "         [0., 0., 0.,  ..., 0., 0., 0.],\n",
       "         [0., 0., 0.,  ..., 0., 0., 0.]]])"
      ]
     },
     "execution_count": 20,
     "metadata": {},
     "output_type": "execute_result"
    }
   ],
   "source": [
    "tensor_zeros = torch.zeros_like(random_image_tensor)\n",
    "tensor_zeros"
   ]
  },
  {
   "cell_type": "markdown",
   "id": "ebe6ad0a",
   "metadata": {},
   "source": [
    "#### Tensor datatypes\n",
    "- Three common errors:\n",
    "    - Tensors not right type (type errors). Check with `tensor.dtype`.\n",
    "    - Tensors not right shape (shape errors). Check with `tensor.shape` or `tensor.size()`.\n",
    "    - Tensors not on the right device (device errors). Check with `tensor.device`."
   ]
  },
  {
   "cell_type": "markdown",
   "id": "2525e230",
   "metadata": {},
   "source": [
    "#### Tensor Operations\n",
    "1. Addition\n",
    "2. Subtraction\n",
    "3. Multiplication (element-wise, matrix multiplication)\n",
    "4. Division"
   ]
  },
  {
   "cell_type": "code",
   "execution_count": 21,
   "id": "94b7a560",
   "metadata": {},
   "outputs": [
    {
     "name": "stdout",
     "output_type": "stream",
     "text": [
      "tensor([11, 12, 13])\n",
      "tensor([-9, -8, -7])\n",
      "tensor([10, 20, 30])\n",
      "tensor([0.1000, 0.2000, 0.3000])\n"
     ]
    }
   ],
   "source": [
    "t = torch.tensor([1, 2, 3])\n",
    "print(t + 10)\n",
    "print(t - 10)\n",
    "print(t * 10)\n",
    "print(t / 10)"
   ]
  },
  {
   "cell_type": "code",
   "execution_count": 22,
   "id": "fdcfd1f9",
   "metadata": {},
   "outputs": [
    {
     "data": {
      "text/plain": [
       "(tensor([11, 12, 13]),\n",
       " tensor([10, 20, 30]),\n",
       " tensor([0.1000, 0.2000, 0.3000]),\n",
       " tensor([-9, -8, -7]))"
      ]
     },
     "execution_count": 22,
     "metadata": {},
     "output_type": "execute_result"
    }
   ],
   "source": [
    "torch.add(t, 10), torch.mul(t, 10), torch.div(t, 10), torch.sub(t, 10)"
   ]
  },
  {
   "cell_type": "code",
   "execution_count": 23,
   "id": "febcbf63",
   "metadata": {},
   "outputs": [
    {
     "data": {
      "text/plain": [
       "tensor([ 4, 10, 18])"
      ]
     },
     "execution_count": 23,
     "metadata": {},
     "output_type": "execute_result"
    }
   ],
   "source": [
    "# tensor multiplication\n",
    "# element-wise multiplication\n",
    "t1 = torch.tensor([1, 2, 3])\n",
    "t2 = torch.tensor([4, 5, 6])\n",
    "t1 * t2"
   ]
  },
  {
   "cell_type": "code",
   "execution_count": null,
   "id": "6600a4e7",
   "metadata": {},
   "outputs": [
    {
     "data": {
      "text/plain": [
       "tensor(32)"
      ]
     },
     "execution_count": 24,
     "metadata": {},
     "output_type": "execute_result"
    }
   ],
   "source": [
    "# matrix multiplication\n",
    "torch.matmul(t1, t2)"
   ]
  },
  {
   "cell_type": "code",
   "execution_count": null,
   "id": "8295efec",
   "metadata": {},
   "outputs": [
    {
     "data": {
      "text/plain": [
       "tensor(32)"
      ]
     },
     "execution_count": 25,
     "metadata": {},
     "output_type": "execute_result"
    }
   ],
   "source": [
    "t1 @ t2 # alt"
   ]
  },
  {
   "cell_type": "code",
   "execution_count": 28,
   "id": "08120e98",
   "metadata": {},
   "outputs": [
    {
     "data": {
      "text/plain": [
       "(torch.Size([2, 3]), torch.Size([2, 3]))"
      ]
     },
     "execution_count": 28,
     "metadata": {},
     "output_type": "execute_result"
    }
   ],
   "source": [
    "# transpose\n",
    "t1 = torch.tensor([[1, 2, 5], [3, 4, 3]])\n",
    "t2 = torch.tensor([[5, 1, 6], [2, 7, 8]])\n",
    "t1.shape, t2.shape"
   ]
  },
  {
   "cell_type": "code",
   "execution_count": 29,
   "id": "d2dee812",
   "metadata": {},
   "outputs": [
    {
     "data": {
      "text/plain": [
       "tensor([[11, 22, 30],\n",
       "        [18, 30, 44],\n",
       "        [31, 26, 54]])"
      ]
     },
     "execution_count": 29,
     "metadata": {},
     "output_type": "execute_result"
    }
   ],
   "source": [
    "t1.T @ t2"
   ]
  },
  {
   "cell_type": "code",
   "execution_count": 30,
   "id": "7f6c4111",
   "metadata": {},
   "outputs": [
    {
     "data": {
      "text/plain": [
       "torch.Size([3, 3])"
      ]
     },
     "execution_count": 30,
     "metadata": {},
     "output_type": "execute_result"
    }
   ],
   "source": [
    "(t1.T @ t2).shape"
   ]
  },
  {
   "cell_type": "markdown",
   "id": "8aa78edb",
   "metadata": {},
   "source": [
    "#### Tensor aggregation"
   ]
  },
  {
   "cell_type": "code",
   "execution_count": 32,
   "id": "9904c030",
   "metadata": {},
   "outputs": [],
   "source": [
    "x = torch.arange(0, 100, 10)"
   ]
  },
  {
   "cell_type": "code",
   "execution_count": 33,
   "id": "729bf942",
   "metadata": {},
   "outputs": [
    {
     "data": {
      "text/plain": [
       "(tensor(0), tensor(0), tensor(90), tensor(90), tensor(9), tensor(0))"
      ]
     },
     "execution_count": 33,
     "metadata": {},
     "output_type": "execute_result"
    }
   ],
   "source": [
    "torch.min(x), x.min(), x.max(), torch.max(x), x.argmax(), x.argmin()"
   ]
  },
  {
   "cell_type": "code",
   "execution_count": 36,
   "id": "5754a249",
   "metadata": {},
   "outputs": [
    {
     "data": {
      "text/plain": [
       "(tensor(45.), tensor(45.))"
      ]
     },
     "execution_count": 36,
     "metadata": {},
     "output_type": "execute_result"
    }
   ],
   "source": [
    "# torch.mean(x) # mean is not defined for integer tensors\n",
    "torch.mean(x.type(torch.float32)), x.type(torch.float32).mean()"
   ]
  },
  {
   "cell_type": "code",
   "execution_count": 37,
   "id": "fbf1c0c0",
   "metadata": {},
   "outputs": [
    {
     "data": {
      "text/plain": [
       "(tensor(450), tensor(450))"
      ]
     },
     "execution_count": 37,
     "metadata": {},
     "output_type": "execute_result"
    }
   ],
   "source": [
    "torch.sum(x), x.sum()"
   ]
  },
  {
   "cell_type": "code",
   "execution_count": 39,
   "id": "abe6ce6d",
   "metadata": {},
   "outputs": [
    {
     "data": {
      "text/plain": [
       "(tensor(30.2765), tensor(30.2765), tensor(916.6667), tensor(916.6667))"
      ]
     },
     "execution_count": 39,
     "metadata": {},
     "output_type": "execute_result"
    }
   ],
   "source": [
    "torch.std(x.type(torch.float32)), x.type(torch.float32).std(), torch.var(x.type(torch.float32)), x.type(torch.float32).var()"
   ]
  },
  {
   "cell_type": "markdown",
   "id": "c78cc457",
   "metadata": {},
   "source": [
    "#### Reshape, View and Stack Tensors"
   ]
  },
  {
   "cell_type": "code",
   "execution_count": 48,
   "id": "ebe7dc44",
   "metadata": {},
   "outputs": [],
   "source": [
    "x = torch.arange(1., 10.)"
   ]
  },
  {
   "cell_type": "code",
   "execution_count": 49,
   "id": "cd00e681",
   "metadata": {},
   "outputs": [
    {
     "data": {
      "text/plain": [
       "(tensor([1., 2., 3., 4., 5., 6., 7., 8., 9.]), torch.Size([9]))"
      ]
     },
     "execution_count": 49,
     "metadata": {},
     "output_type": "execute_result"
    }
   ],
   "source": [
    "x, x.shape"
   ]
  },
  {
   "cell_type": "code",
   "execution_count": 50,
   "id": "4737aa72",
   "metadata": {},
   "outputs": [
    {
     "data": {
      "text/plain": [
       "(tensor([[1., 2., 3., 4., 5., 6., 7., 8., 9.]]), torch.Size([1, 9]))"
      ]
     },
     "execution_count": 50,
     "metadata": {},
     "output_type": "execute_result"
    }
   ],
   "source": [
    "# x_reshaped = x.reshape(1, 7) # 1 row, 7 columns won't work.\n",
    "x_reshaped = x.reshape(1, 9) # valid shape\n",
    "x_reshaped, x_reshaped.shape"
   ]
  },
  {
   "cell_type": "code",
   "execution_count": 51,
   "id": "bc7a2a0a",
   "metadata": {},
   "outputs": [
    {
     "data": {
      "text/plain": [
       "(tensor([[1., 2., 3.],\n",
       "         [4., 5., 6.],\n",
       "         [7., 8., 9.]]),\n",
       " torch.Size([3, 3]))"
      ]
     },
     "execution_count": 51,
     "metadata": {},
     "output_type": "execute_result"
    }
   ],
   "source": [
    "x_reshaped = x.reshape(3, 3) # 3 rows, 3 columns\n",
    "x_reshaped, x_reshaped.shape"
   ]
  },
  {
   "cell_type": "code",
   "execution_count": 52,
   "id": "36b82a7d",
   "metadata": {},
   "outputs": [
    {
     "data": {
      "text/plain": [
       "(tensor([[1., 2., 3., 4., 5., 6., 7., 8., 9.]]), torch.Size([1, 9]))"
      ]
     },
     "execution_count": 52,
     "metadata": {},
     "output_type": "execute_result"
    }
   ],
   "source": [
    "# change the view\n",
    "z = x.view(1, 9) # shares the same memory as x\n",
    "z, z.shape"
   ]
  },
  {
   "cell_type": "code",
   "execution_count": 53,
   "id": "e5aac409",
   "metadata": {},
   "outputs": [
    {
     "data": {
      "text/plain": [
       "(tensor([100., 100.,   3.,   4.,   5.,   6.,   7.,   8.,   9.]),\n",
       " tensor([[100., 100.,   3.,   4.,   5.,   6.,   7.,   8.,   9.]]))"
      ]
     },
     "execution_count": 53,
     "metadata": {},
     "output_type": "execute_result"
    }
   ],
   "source": [
    "z[0,:2] = 100\n",
    "x, z"
   ]
  },
  {
   "cell_type": "code",
   "execution_count": 56,
   "id": "9885d5af",
   "metadata": {},
   "outputs": [
    {
     "data": {
      "text/plain": [
       "(tensor([[[100., 100.,   3.,   4.,   5.,   6.,   7.,   8.,   9.]],\n",
       " \n",
       "         [[100., 100.,   3.,   4.,   5.,   6.,   7.,   8.,   9.]],\n",
       " \n",
       "         [[100., 100.,   3.,   4.,   5.,   6.,   7.,   8.,   9.]]]),\n",
       " torch.Size([3, 1, 9]))"
      ]
     },
     "execution_count": 56,
     "metadata": {},
     "output_type": "execute_result"
    }
   ],
   "source": [
    "x_stacked = torch.stack([z, z, z], dim=0) # stack along the first dimension\n",
    "x_stacked, x_stacked.shape"
   ]
  },
  {
   "cell_type": "code",
   "execution_count": 57,
   "id": "a5895e9b",
   "metadata": {},
   "outputs": [
    {
     "data": {
      "text/plain": [
       "(tensor([[[100., 100.,   3.,   4.,   5.,   6.,   7.,   8.,   9.],\n",
       "          [100., 100.,   3.,   4.,   5.,   6.,   7.,   8.,   9.],\n",
       "          [100., 100.,   3.,   4.,   5.,   6.,   7.,   8.,   9.]]]),\n",
       " torch.Size([1, 3, 9]))"
      ]
     },
     "execution_count": 57,
     "metadata": {},
     "output_type": "execute_result"
    }
   ],
   "source": [
    "x_stacked = torch.stack([z, z, z], dim=1) # stack along the second dimension\n",
    "x_stacked, x_stacked.shape"
   ]
  },
  {
   "cell_type": "code",
   "execution_count": 58,
   "id": "4de7e919",
   "metadata": {},
   "outputs": [
    {
     "data": {
      "text/plain": [
       "(tensor([[100., 100.,   3.,   4.,   5.,   6.,   7.,   8.,   9.],\n",
       "         [100., 100.,   3.,   4.,   5.,   6.,   7.,   8.,   9.],\n",
       "         [100., 100.,   3.,   4.,   5.,   6.,   7.,   8.,   9.]]),\n",
       " torch.Size([3, 9]))"
      ]
     },
     "execution_count": 58,
     "metadata": {},
     "output_type": "execute_result"
    }
   ],
   "source": [
    "x_vstacked = torch.vstack([z, z, z]) # stack along the first dimension\n",
    "x_vstacked, x_vstacked.shape"
   ]
  },
  {
   "cell_type": "code",
   "execution_count": 59,
   "id": "58a4f058",
   "metadata": {},
   "outputs": [
    {
     "data": {
      "text/plain": [
       "(tensor([[100., 100.,   3.,   4.,   5.,   6.,   7.,   8.,   9., 100., 100.,   3.,\n",
       "            4.,   5.,   6.,   7.,   8.,   9., 100., 100.,   3.,   4.,   5.,   6.,\n",
       "            7.,   8.,   9.]]),\n",
       " torch.Size([1, 27]))"
      ]
     },
     "execution_count": 59,
     "metadata": {},
     "output_type": "execute_result"
    }
   ],
   "source": [
    "x_hstacked = torch.hstack([z, z, z]) # stack along the second dimension\n",
    "x_hstacked, x_hstacked.shape"
   ]
  },
  {
   "cell_type": "code",
   "execution_count": 60,
   "id": "e428ab53",
   "metadata": {},
   "outputs": [
    {
     "data": {
      "text/plain": [
       "tensor([[1, 2, 3, 4]])"
      ]
     },
     "execution_count": 60,
     "metadata": {},
     "output_type": "execute_result"
    }
   ],
   "source": [
    "a = torch.tensor([[1, 2]])\n",
    "b = torch.tensor([[3, 4]])\n",
    "\n",
    "torch.hstack((a, b))"
   ]
  },
  {
   "cell_type": "markdown",
   "id": "6e0c8473",
   "metadata": {},
   "source": [
    "#### Squeeze and Unsqueeze Tensors"
   ]
  },
  {
   "cell_type": "code",
   "execution_count": null,
   "id": "98b2480c",
   "metadata": {},
   "outputs": [
    {
     "data": {
      "text/plain": [
       "(torch.Size([3, 3]), torch.Size([3, 3]))"
      ]
     },
     "execution_count": 61,
     "metadata": {},
     "output_type": "execute_result"
    }
   ],
   "source": [
    "x_reshaped.shape, x_reshaped.squeeze().shape # squeeze removes all dimensions of size 1, none here"
   ]
  },
  {
   "cell_type": "code",
   "execution_count": 62,
   "id": "0b25c794",
   "metadata": {},
   "outputs": [
    {
     "data": {
      "text/plain": [
       "(torch.Size([1, 9]), torch.Size([9]))"
      ]
     },
     "execution_count": 62,
     "metadata": {},
     "output_type": "execute_result"
    }
   ],
   "source": [
    "z.shape, z.squeeze().shape"
   ]
  },
  {
   "cell_type": "code",
   "execution_count": 65,
   "id": "81218bc3",
   "metadata": {},
   "outputs": [
    {
     "data": {
      "text/plain": [
       "torch.Size([1, 3, 3])"
      ]
     },
     "execution_count": 65,
     "metadata": {},
     "output_type": "execute_result"
    }
   ],
   "source": [
    "x_reshaped.unsqueeze(dim=0).shape # unsqueeze adds a dimension of size 1\n"
   ]
  },
  {
   "cell_type": "code",
   "execution_count": 67,
   "id": "c7aeb681",
   "metadata": {},
   "outputs": [
    {
     "data": {
      "text/plain": [
       "(torch.Size([1, 1, 9]), torch.Size([1, 1, 9]), torch.Size([1, 9, 1]))"
      ]
     },
     "execution_count": 67,
     "metadata": {},
     "output_type": "execute_result"
    }
   ],
   "source": [
    "z.unsqueeze(dim=0).shape, z.unsqueeze(dim=1).shape, z.unsqueeze(dim=-1).shape"
   ]
  },
  {
   "cell_type": "code",
   "execution_count": null,
   "id": "286fa335",
   "metadata": {},
   "outputs": [
    {
     "data": {
      "text/plain": [
       "(torch.Size([1, 9]), torch.Size([9, 1]))"
      ]
     },
     "execution_count": 69,
     "metadata": {},
     "output_type": "execute_result"
    }
   ],
   "source": [
    "z.shape, torch.permute(z, (1, 0)).shape # swap the first and second dimensions; IT'S A VIEW!\n"
   ]
  },
  {
   "cell_type": "code",
   "execution_count": 70,
   "id": "fb771210",
   "metadata": {},
   "outputs": [
    {
     "data": {
      "text/plain": [
       "(torch.Size([3, 224, 224]), torch.Size([224, 224, 3]))"
      ]
     },
     "execution_count": 70,
     "metadata": {},
     "output_type": "execute_result"
    }
   ],
   "source": [
    "img = torch.rand(3, 224, 224)\n",
    "img.shape, img.permute(1, 2, 0).shape # swap the first and second dimensions"
   ]
  },
  {
   "cell_type": "code",
   "execution_count": null,
   "id": "efb4b389",
   "metadata": {},
   "outputs": [],
   "source": [
    "assert img[1, 0, 0] == img.permute(1, 2, 0)[0, 0, 1]"
   ]
  },
  {
   "cell_type": "markdown",
   "id": "be9bcc75",
   "metadata": {},
   "source": [
    "- `.from_numpy()` and `.numpy()` functions are handy to interchange between Npy and PyT. (Note: Numpy tensors do not work on GPU)\n",
    "- `torch.manual_seed(<some number>)` for reproducibility.\n",
    "- `torch.cuda.is_available()` to check GPU availability."
   ]
  },
  {
   "cell_type": "markdown",
   "id": "29cd9823",
   "metadata": {},
   "source": []
  }
 ],
 "metadata": {
  "kernelspec": {
   "display_name": "torchenv",
   "language": "python",
   "name": "python3"
  },
  "language_info": {
   "codemirror_mode": {
    "name": "ipython",
    "version": 3
   },
   "file_extension": ".py",
   "mimetype": "text/x-python",
   "name": "python",
   "nbconvert_exporter": "python",
   "pygments_lexer": "ipython3",
   "version": "3.9.21"
  }
 },
 "nbformat": 4,
 "nbformat_minor": 5
}
