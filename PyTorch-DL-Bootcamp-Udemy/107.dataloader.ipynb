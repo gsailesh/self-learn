{
 "cells": [
  {
   "cell_type": "code",
   "execution_count": 1,
   "id": "7b29b8aa",
   "metadata": {},
   "outputs": [
    {
     "name": "stderr",
     "output_type": "stream",
     "text": [
      "100.0%\n",
      "100.0%\n",
      "100.0%\n",
      "100.0%\n"
     ]
    }
   ],
   "source": [
    "import torchvision\n",
    "import torch\n",
    "import matplotlib.pyplot as plt\n",
    "from torchvision import datasets\n",
    "from torchvision.transforms import ToTensor\n",
    "\n",
    "train_data = datasets.FashionMNIST(root='data', train=True, download=True, transform=ToTensor(), target_transform=None)\n",
    "test_data = datasets.FashionMNIST(root='data', train=False, download=True, transform=ToTensor())"
   ]
  },
  {
   "cell_type": "code",
   "execution_count": 2,
   "id": "aaff2a87",
   "metadata": {},
   "outputs": [
    {
     "data": {
      "text/plain": [
       "(1875, 313)"
      ]
     },
     "execution_count": 2,
     "metadata": {},
     "output_type": "execute_result"
    }
   ],
   "source": [
    "from torch.utils.data import DataLoader\n",
    "\n",
    "BATCH_SIZE = 32\n",
    "train_dataloader = DataLoader(dataset=train_data, batch_size=BATCH_SIZE, shuffle=True, num_workers=4)\n",
    "test_dataloader = DataLoader(dataset=test_data, batch_size=BATCH_SIZE, shuffle=False, num_workers=4)\n",
    "\n",
    "len(train_dataloader), len(test_dataloader)"
   ]
  },
  {
   "cell_type": "code",
   "execution_count": 3,
   "id": "c5bef3cc",
   "metadata": {},
   "outputs": [
    {
     "name": "stdout",
     "output_type": "stream",
     "text": [
      "torch.Size([32, 1, 28, 28]) torch.Size([32])\n"
     ]
    }
   ],
   "source": [
    "train_features_batch, train_labels_batch = next(iter(train_dataloader))\n",
    "print(train_features_batch.shape, train_labels_batch.shape)"
   ]
  },
  {
   "cell_type": "code",
   "execution_count": 12,
   "id": "e41918ea",
   "metadata": {},
   "outputs": [
    {
     "data": {
      "image/png": "[encoded data removed]",
      "text/plain": [
       "<Figure size 640x480 with 1 Axes>"
      ]
     },
     "metadata": {},
     "output_type": "display_data"
    }
   ],
   "source": [
    "# Plot one\n",
    "\n",
    "# torch.manual_seed(42)\n",
    "random_index = torch.randint(0, len(train_features_batch), size=(1,)).item()\n",
    "image, label = train_features_batch[random_index], train_labels_batch[random_index]\n",
    "plt.imshow(image.squeeze(), cmap='gray')\n",
    "plt.title(f\"Label: {label}\")\n",
    "plt.axis(False);"
   ]
  },
  {
   "cell_type": "code",
   "execution_count": 13,
   "id": "a2cb5c47",
   "metadata": {},
   "outputs": [],
   "source": [
    "# Baseline model\n",
    "from torch import nn\n",
    "\n",
    "class FashionMNISTModelV0(nn.Module):\n",
    "    def __init__(self, input_shape: int, hidden_units:int, output_shape:int):\n",
    "        super().__init__()\n",
    "\n",
    "        self.layer_stack = nn.Sequential(\n",
    "            nn.Flatten(),\n",
    "            nn.Linear(in_features=input_shape, out_features=hidden_units),\n",
    "            nn.Linear(in_features=hidden_units, out_features=output_shape)\n",
    "        )\n",
    "\n",
    "    def forward(self, x):\n",
    "        return self.layer_stack(x)\n",
    "\n"
   ]
  },
  {
   "cell_type": "code",
   "execution_count": 16,
   "id": "cfb53002",
   "metadata": {},
   "outputs": [
    {
     "data": {
      "text/plain": [
       "FashionMNISTModelV0(\n",
       "  (layer_stack): Sequential(\n",
       "    (0): Flatten(start_dim=1, end_dim=-1)\n",
       "    (1): Linear(in_features=784, out_features=10, bias=True)\n",
       "    (2): Linear(in_features=10, out_features=10, bias=True)\n",
       "  )\n",
       ")"
      ]
     },
     "execution_count": 16,
     "metadata": {},
     "output_type": "execute_result"
    }
   ],
   "source": [
    "torch.manual_seed(42)\n",
    "class_names = train_data.classes\n",
    "\n",
    "model_0 = FashionMNISTModelV0(\n",
    "    input_shape=28*28,\n",
    "    hidden_units=10,\n",
    "    output_shape=len(class_names)\n",
    ")\n",
    "\n",
    "model_0"
   ]
  },
  {
   "cell_type": "code",
   "execution_count": 17,
   "id": "35cb674d",
   "metadata": {},
   "outputs": [
    {
     "data": {
      "text/plain": [
       "tensor([[-0.0315,  0.3171,  0.0531, -0.2525,  0.5959,  0.2112,  0.3233,  0.2694,\n",
       "         -0.1004,  0.0157]], grad_fn=<AddmmBackward0>)"
      ]
     },
     "execution_count": 17,
     "metadata": {},
     "output_type": "execute_result"
    }
   ],
   "source": [
    "dummy_x = torch.rand([1, 1, 28, 28])\n",
    "model_0(dummy_x)"
   ]
  },
  {
   "cell_type": "code",
   "execution_count": 18,
   "id": "cfd730fb",
   "metadata": {},
   "outputs": [
    {
     "name": "stdout",
     "output_type": "stream",
     "text": [
      "Downloading helper_functions.py\n"
     ]
    }
   ],
   "source": [
    "import requests\n",
    "from pathlib import Path \n",
    "\n",
    "# Download helper functions from Learn PyTorch repo (if not already downloaded)\n",
    "if Path(\"helper_functions.py\").is_file():\n",
    "  print(\"helper_functions.py already exists, skipping download\")\n",
    "else:\n",
    "  print(\"Downloading helper_functions.py\")\n",
    "  # Note: you need the \"raw\" GitHub URL for this to work\n",
    "  request = requests.get(\"https://raw.githubusercontent.com/mrdbourke/pytorch-deep-learning/main/helper_functions.py\")\n",
    "  with open(\"helper_functions.py\", \"wb\") as f:\n",
    "    f.write(request.content)"
   ]
  },
  {
   "cell_type": "code",
   "execution_count": 19,
   "id": "d18a3c00",
   "metadata": {},
   "outputs": [],
   "source": [
    "from helper_functions import accuracy_fn\n",
    "\n",
    "loss_fn = nn.CrossEntropyLoss()\n",
    "optimizer = torch.optim.SGD(params=model_0.parameters(), lr=0.1)"
   ]
  },
  {
   "cell_type": "code",
   "execution_count": 21,
   "id": "e9be5b85",
   "metadata": {},
   "outputs": [],
   "source": [
    "from timeit import default_timer as timer\n",
    "def print_train_time(start:float, end: float, device:torch.device=None):\n",
    "    total_time = end - start\n",
    "    print(f\"Train time on {device} is {total_time:.3f} seconds\")\n",
    "    return total_time"
   ]
  },
  {
   "cell_type": "code",
   "execution_count": 28,
   "id": "01ebf002",
   "metadata": {},
   "outputs": [
    {
     "name": "stderr",
     "output_type": "stream",
     "text": [
      "  0%|          | 0/3 [00:00<?, ?it/s]"
     ]
    },
    {
     "name": "stdout",
     "output_type": "stream",
     "text": [
      "Epoch 0\n",
      "Trained on 0 / 60000 samples.\n",
      "Trained on 3200 / 60000 samples.\n",
      "Trained on 6400 / 60000 samples.\n",
      "Trained on 9600 / 60000 samples.\n",
      "Trained on 12800 / 60000 samples.\n",
      "Trained on 16000 / 60000 samples.\n",
      "Trained on 19200 / 60000 samples.\n",
      "Trained on 22400 / 60000 samples.\n",
      "Trained on 25600 / 60000 samples.\n",
      "Trained on 28800 / 60000 samples.\n",
      "Trained on 32000 / 60000 samples.\n",
      "Trained on 35200 / 60000 samples.\n",
      "Trained on 38400 / 60000 samples.\n",
      "Trained on 41600 / 60000 samples.\n",
      "Trained on 44800 / 60000 samples.\n",
      "Trained on 48000 / 60000 samples.\n",
      "Trained on 51200 / 60000 samples.\n",
      "Trained on 54400 / 60000 samples.\n",
      "Trained on 57600 / 60000 samples.\n"
     ]
    },
    {
     "name": "stderr",
     "output_type": "stream",
     "text": [
      " 33%|███▎      | 1/3 [00:04<00:09,  4.65s/it]"
     ]
    },
    {
     "name": "stdout",
     "output_type": "stream",
     "text": [
      "Train loss: 0.431, Test loss: 0.459, Test_acc: 83.836\n",
      "\n",
      "Epoch 1\n",
      "Trained on 0 / 60000 samples.\n",
      "Trained on 3200 / 60000 samples.\n",
      "Trained on 6400 / 60000 samples.\n",
      "Trained on 9600 / 60000 samples.\n",
      "Trained on 12800 / 60000 samples.\n",
      "Trained on 16000 / 60000 samples.\n",
      "Trained on 19200 / 60000 samples.\n",
      "Trained on 22400 / 60000 samples.\n",
      "Trained on 25600 / 60000 samples.\n",
      "Trained on 28800 / 60000 samples.\n",
      "Trained on 32000 / 60000 samples.\n",
      "Trained on 35200 / 60000 samples.\n",
      "Trained on 38400 / 60000 samples.\n",
      "Trained on 41600 / 60000 samples.\n",
      "Trained on 44800 / 60000 samples.\n",
      "Trained on 48000 / 60000 samples.\n",
      "Trained on 51200 / 60000 samples.\n",
      "Trained on 54400 / 60000 samples.\n",
      "Trained on 57600 / 60000 samples.\n"
     ]
    },
    {
     "name": "stderr",
     "output_type": "stream",
     "text": [
      " 67%|██████▋   | 2/3 [00:09<00:04,  4.58s/it]"
     ]
    },
    {
     "name": "stdout",
     "output_type": "stream",
     "text": [
      "Train loss: 0.427, Test loss: 0.461, Test_acc: 84.075\n",
      "\n",
      "Epoch 2\n",
      "Trained on 0 / 60000 samples.\n",
      "Trained on 3200 / 60000 samples.\n",
      "Trained on 6400 / 60000 samples.\n",
      "Trained on 9600 / 60000 samples.\n",
      "Trained on 12800 / 60000 samples.\n",
      "Trained on 16000 / 60000 samples.\n",
      "Trained on 19200 / 60000 samples.\n",
      "Trained on 22400 / 60000 samples.\n",
      "Trained on 25600 / 60000 samples.\n",
      "Trained on 28800 / 60000 samples.\n",
      "Trained on 32000 / 60000 samples.\n",
      "Trained on 35200 / 60000 samples.\n",
      "Trained on 38400 / 60000 samples.\n",
      "Trained on 41600 / 60000 samples.\n",
      "Trained on 44800 / 60000 samples.\n",
      "Trained on 48000 / 60000 samples.\n",
      "Trained on 51200 / 60000 samples.\n",
      "Trained on 54400 / 60000 samples.\n",
      "Trained on 57600 / 60000 samples.\n"
     ]
    },
    {
     "name": "stderr",
     "output_type": "stream",
     "text": [
      "100%|██████████| 3/3 [00:13<00:00,  4.56s/it]"
     ]
    },
    {
     "name": "stdout",
     "output_type": "stream",
     "text": [
      "Train loss: 0.423, Test loss: 0.463, Test_acc: 83.966\n",
      "\n",
      "Train time on cpu is 13.680 seconds\n"
     ]
    },
    {
     "name": "stderr",
     "output_type": "stream",
     "text": [
      "\n"
     ]
    }
   ],
   "source": [
    "# !pip install tqdm\n",
    "from tqdm.auto import tqdm\n",
    "torch.manual_seed(42)\n",
    "start_time = timer()\n",
    "\n",
    "n_epochs = 3\n",
    "\n",
    "for epoch in tqdm(range(n_epochs)):\n",
    "    print(f\"Epoch {epoch}\")\n",
    "    train_loss = 0\n",
    "\n",
    "    for batch, (X, y) in enumerate(train_dataloader):\n",
    "        model_0.train()\n",
    "        y_pred = model_0(X)\n",
    "\n",
    "        loss = loss_fn(y_pred, y)\n",
    "        train_loss += loss\n",
    "\n",
    "        optimizer.zero_grad()\n",
    "        loss.backward()\n",
    "        optimizer.step()\n",
    "\n",
    "        if batch % 100 == 0:\n",
    "            print(f\"Trained on {batch * len(X)} / {len(train_dataloader.dataset)} samples.\")\n",
    "\n",
    "    train_loss /= len(train_dataloader) # average loss per batch\n",
    "\n",
    "    test_loss, test_acc = 0, 0\n",
    "\n",
    "    model_0.eval()\n",
    "\n",
    "    with torch.inference_mode():\n",
    "        for X_test, y_test in test_dataloader:\n",
    "            test_pred = model_0(X_test)\n",
    "\n",
    "            test_loss += loss_fn(test_pred, y_test)\n",
    "            test_acc += accuracy_fn(y_test, test_pred.argmax(dim=1))\n",
    "\n",
    "        test_loss /= len(test_dataloader)\n",
    "        test_acc /= len(test_dataloader)\n",
    "\n",
    "    print(f\"Train loss: {train_loss:.3f}, Test loss: {test_loss:.3f}, Test_acc: {test_acc:.3f}\\n\")\n",
    "end_time = timer()\n",
    "\n",
    "total_train_time_model_0 = print_train_time(start_time, end_time, device='cpu')\n"
   ]
  },
  {
   "cell_type": "code",
   "execution_count": null,
   "id": "2be88ecc",
   "metadata": {},
   "outputs": [],
   "source": []
  }
 ],
 "metadata": {
  "kernelspec": {
   "display_name": "torchenv",
   "language": "python",
   "name": "python3"
  },
  "language_info": {
   "codemirror_mode": {
    "name": "ipython",
    "version": 3
   },
   "file_extension": ".py",
   "mimetype": "text/x-python",
   "name": "python",
   "nbconvert_exporter": "python",
   "pygments_lexer": "ipython3",
   "version": "3.9.21"
  }
 },
 "nbformat": 4,
 "nbformat_minor": 5
}
